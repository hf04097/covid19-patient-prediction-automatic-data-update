{
  "nbformat": 4,
  "nbformat_minor": 0,
  "metadata": {
    "accelerator": "GPU",
    "colab": {
      "name": "mml_project.ipynb",
      "provenance": [],
      "collapsed_sections": [],
      "toc_visible": true
    },
    "kernelspec": {
      "display_name": "Python 3",
      "language": "python",
      "name": "python3"
    },
    "language_info": {
      "codemirror_mode": {
        "name": "ipython",
        "version": 3
      },
      "file_extension": ".py",
      "mimetype": "text/x-python",
      "name": "python",
      "nbconvert_exporter": "python",
      "pygments_lexer": "ipython3",
      "version": "3.7.5"
    }
  },
  "cells": [
    {
      "cell_type": "code",
      "metadata": {
        "colab_type": "code",
        "id": "AmPibLmOUvTg",
        "outputId": "e5c6ef66-d397-4d51-9df9-f5970b08ed81",
        "colab": {
          "base_uri": "https://localhost:8080/",
          "height": 54
        }
      },
      "source": [
        "# import pandas as pd\n",
        "# url = 'https://raw.githubusercontent.com/CSSEGISandData/COVID-19/master/csse_covid_19_data/csse_covid_19_time_series/time_series_covid19_confirmed_global.csv'\n",
        "\n",
        "# df = pd.read_csv(url)\n",
        "# countries = list(set(df[df.columns[1]]))\n",
        "# print(countries)"
      ],
      "execution_count": 0,
      "outputs": [
        {
          "output_type": "stream",
          "text": [
            "['Egypt', 'Philippines', 'Senegal', 'Montenegro', 'Slovenia', 'Bolivia', 'Hungary', 'Andorra', 'Kazakhstan', 'Mali', 'Guyana', 'Switzerland', 'Serbia', 'Romania', 'Jordan', 'Guatemala', 'Congo (Kinshasa)', 'Lebanon', 'Italy', 'Tanzania', 'Israel', 'Dominica', 'Liechtenstein', 'Togo', 'China', 'Libya', 'Mexico', 'India', 'Belgium', 'Morocco', 'Slovakia', 'Paraguay', 'Antigua and Barbuda', 'Sao Tome and Principe', 'Greece', 'Brazil', 'Iran', 'Chile', 'MS Zaandam', 'Costa Rica', 'Liberia', 'Honduras', 'Indonesia', 'United Kingdom', 'Saint Kitts and Nevis', 'Haiti', 'Japan', 'Kyrgyzstan', 'Latvia', 'Angola', 'Panama', 'Oman', 'Congo (Brazzaville)', 'Denmark', 'Saint Vincent and the Grenadines', 'Gabon', 'Cuba', 'Laos', 'Papua New Guinea', 'Maldives', 'Nepal', 'Tunisia', 'Djibouti', 'France', 'Benin', 'Syria', 'Zambia', 'Canada', 'Moldova', 'Malta', 'Estonia', 'Zimbabwe', 'West Bank and Gaza', 'Iraq', 'Turkey', 'Grenada', 'Guinea-Bissau', 'Colombia', 'Lithuania', 'Namibia', 'Nigeria', 'Ukraine', 'Malaysia', 'Argentina', 'Sierra Leone', 'Burkina Faso', 'Gambia', 'Afghanistan', 'Qatar', 'Central African Republic', 'Eswatini', 'Mauritius', 'Malawi', 'Taiwan*', 'Luxembourg', 'Bosnia and Herzegovina', 'Ecuador', 'Mongolia', 'Korea, South', 'Sweden', 'Madagascar', 'Iceland', 'Algeria', 'Yemen', 'Botswana', 'Saudi Arabia', 'Fiji', 'Brunei', 'Western Sahara', 'Cambodia', 'Portugal', 'Ireland', 'North Macedonia', 'Thailand', 'Belize', 'Chad', 'Norway', 'Armenia', 'Singapore', 'Ethiopia', 'Mauritania', 'Georgia', 'Azerbaijan', 'Germany', 'US', 'Cyprus', 'Venezuela', 'Mozambique', 'Cameroon', 'Burma', 'Peru', 'Sri Lanka', 'Trinidad and Tobago', \"Cote d'Ivoire\", 'Netherlands', 'Rwanda', 'Dominican Republic', 'Ghana', 'Russia', 'South Africa', 'Jamaica', 'San Marino', 'Equatorial Guinea', 'Timor-Leste', 'New Zealand', 'Kosovo', 'Belarus', 'Spain', 'Seychelles', 'Sudan', 'Poland', 'United Arab Emirates', 'Bangladesh', 'Suriname', 'Holy See', 'Kenya', 'Uruguay', 'Bulgaria', 'Burundi', 'Somalia', 'Niger', 'Eritrea', 'Nicaragua', 'Vietnam', 'Uzbekistan', 'Cabo Verde', 'Uganda', 'Bahrain', 'Saint Lucia', 'Diamond Princess', 'South Sudan', 'Bahamas', 'Kuwait', 'Croatia', 'Albania', 'Bhutan', 'Australia', 'Finland', 'Czechia', 'Monaco', 'Pakistan', 'Austria', 'El Salvador', 'Guinea', 'Barbados']\n"
          ],
          "name": "stdout"
        }
      ]
    },
    {
      "cell_type": "markdown",
      "metadata": {
        "colab_type": "text",
        "id": "hZP8J64iLDjN"
      },
      "source": [
        "**Choosing Countries** <br>\n",
        "A total of 25 countires have been choosen. \n",
        "\n",
        "\n",
        "*   The first 10 countries are those with high new cases and the include Mexico, Brazil, Ukraine, India, USA, Panama, Hungary, Pakistan, Israel, Bulgaria. (Source : https://www.worldometers.info/coronavirus , retrieved on : April 24, 2020, information last updated on: retrieved on : April 24, 2020).\n",
        "\n",
        "*  Next 10 countries are those with lowest new cases and they include Spain, Italy, France, Germany, UK, Turkey, Iran, Russia, Belgium, Canada.  (Source : https://www.worldometers.info/coronavirus , retrieved on : April 24, 2020, information last updated on retrieved on : April 24, 2020). \n",
        "\n",
        "*  Last 5 countries are those with GDP growth similar to Pakistan's. The include Korea, Australia, Norway, Nigeria, United Arab Emirates. (Source : http://statisticstimes.com/economy/projected-world-gdp-ranking.php , retrieved on : April 24, 2020, information last on 20 Feb 2020).\n",
        " \n",
        "\n"
      ]
    },
    {
      "cell_type": "code",
      "metadata": {
        "colab_type": "code",
        "id": "bYQTQn-VJhEh",
        "colab": {}
      },
      "source": [
        "countries = [\"Mexico\", \"Brazil\", \"Ukraine\", \"India\", \"USA\", \"Panama\", \"Hungary\", \"Pakistan\", \"Israel\", \"Bulgaria\",\n",
        "             \"Spain\", \"Italy\", \"France\", \"Germany\", \"UK\", \"Turkey\", \"Iran\", \"Russia\", \"Belgium\", \"Canada\",\n",
        "             \" Korea\", \"Australia\", \"Norway\", \"Nigeria\", \"United Arab Emirates\"]"
      ],
      "execution_count": 0,
      "outputs": []
    },
    {
      "cell_type": "code",
      "metadata": {
        "colab_type": "code",
        "id": "q0I6oTJFaf-u",
        "colab": {}
      },
      "source": [
        "from datetime import datetime, timedelta\n",
        "\n",
        "date =  datetime.strptime('2020-01-22','%Y-%m-%d')\n",
        "today_date = datetime.today()\n",
        "diff = (today_date - date).days\n",
        "count= 1\n",
        "\n",
        "while(count!= diff):\n",
        "  i_date = (date + timedelta(days=count)).strftime('%Y-%m-%d')\n",
        "  count+=1\n",
        "  print(i_date)"
      ],
      "execution_count": 0,
      "outputs": []
    },
    {
      "cell_type": "markdown",
      "metadata": {
        "colab_type": "text",
        "id": "rNpx5numa-q6"
      },
      "source": [
        "- variables including in from the api are  [\"country\",\"confirmed\",\"deaths\",\"recovered\",\"confirmed_diff\",\"deaths_diff\",\"recovered_diff\",\"active\",\"active_diff\",\"fatality_rate\"]\n",
        "\n",
        "- only including the cases are being available in the dataset.\n",
        "- in place of date will input number of days since first case would be my variable."
      ]
    },
    {
      "cell_type": "code",
      "metadata": {
        "colab_type": "code",
        "id": "F-9uGjV68O9g",
        "colab": {}
      },
      "source": [
        "import requests\n",
        "import csv\n",
        "import os.path\n",
        "from datetime import datetime, timedelta\n",
        "\n",
        "url = \"https://covid-19-statistics.p.rapidapi.com/reports\"\n",
        "variables = [\"country\",\"date\",\"confirmed\",\"deaths\",\"recovered\",\"confirmed_diff\",\"deaths_diff\",\"recovered_diff\",\"active\",\"active_diff\",\"fatality_rate\"]\n",
        "\n",
        "date =  datetime.strptime('2020-01-22','%Y-%m-%d')\n",
        "today_date = datetime.today()\n",
        "diff = (today_date - date).days\n",
        "count= 0\n",
        "\n",
        "with open(\"corona_global.csv\", 'w', newline='') as file:\n",
        "  writer = csv.writer(file)\n",
        "  writer.writerow(variables)\n",
        "\n",
        "  while(count!= diff):\n",
        "    count+=1\n",
        "    print(count)\n",
        "    i_date = (date + timedelta(days=count)).strftime('%Y-%m-%d')\n",
        "    for i in range(len(countries)):\n",
        "\n",
        "      querystring = {\"region_name\":countries[i],\"date\":i_date}\n",
        "\n",
        "      headers = {\n",
        "          'x-rapidapi-host': \"covid-19-statistics.p.rapidapi.com\",\n",
        "          'x-rapidapi-key': \"5139f761cdmsh9dae448cf77f2fcp159a89jsn323fea496f96\"\n",
        "          }\n",
        "      response = requests.request(\"GET\", url, headers=headers, params=querystring)\n",
        "\n",
        "      data = response.text\n",
        "      if len(data) > 18:\n",
        "        data = \" \".join(data.split())[15:len(data)-9].split(' ')\n",
        "        b = [countries[i],data[1][:len(data[1])-1],data[3][:len(data[3])-1],data[5][:len(data[5])-1],data[7][:len(data[7])-1],data[9][:len(data[9])-1],data[11][:len(data[11])-1],data[13][:len(data[13])-1],data[18][:len(data[18])-1],data[20][:len(data[20])-1],data[22][:len(data[22])-1]]\n",
        "        writer.writerow(b)\n",
        "      \n",
        "\n",
        "    "
      ],
      "execution_count": 0,
      "outputs": []
    },
    {
      "cell_type": "code",
      "metadata": {
        "colab_type": "code",
        "id": "bfwjTERbDeSX",
        "outputId": "f96549e9-9e34-4a31-f76b-a18eea4a6831",
        "colab": {
          "base_uri": "https://localhost:8080/",
          "height": 442
        }
      },
      "source": [
        "url = \"https://covid-19-statistics.p.rapidapi.com/reports\"\n",
        "querystring = {\"region_name\":\"United Arab Emirates\",\"date\":\"2020-04-20\"}\n",
        "\n",
        "headers = {\n",
        "    'x-rapidapi-host': \"covid-19-statistics.p.rapidapi.com\",\n",
        "    'x-rapidapi-key': \"5139f761cdmsh9dae448cf77f2fcp159a89jsn323fea496f96\"\n",
        "    }\n",
        "response = requests.request(\"GET\", url, headers=headers, params=querystring)\n",
        "\n",
        "print(response.text)\n"
      ],
      "execution_count": 0,
      "outputs": [
        {
          "output_type": "stream",
          "text": [
            "{\n",
            "    \"data\": [\n",
            "        {\n",
            "            \"date\": \"2020-04-20\",\n",
            "            \"confirmed\": 7265,\n",
            "            \"deaths\": 43,\n",
            "            \"recovered\": 1360,\n",
            "            \"confirmed_diff\": 484,\n",
            "            \"deaths_diff\": 2,\n",
            "            \"recovered_diff\": 74,\n",
            "            \"last_update\": \"2020-04-20 23:36:27\",\n",
            "            \"active\": 5862,\n",
            "            \"active_diff\": 408,\n",
            "            \"fatality_rate\": 0.0059,\n",
            "            \"region\": {\n",
            "                \"iso\": \"ARE\",\n",
            "                \"name\": \"United Arab Emirates\",\n",
            "                \"province\": \"\",\n",
            "                \"lat\": \"23.4241\",\n",
            "                \"long\": \"53.8478\",\n",
            "                \"cities\": []\n",
            "            }\n",
            "        }\n",
            "    ]\n",
            "}\n"
          ],
          "name": "stdout"
        }
      ]
    },
    {
      "cell_type": "code",
      "metadata": {
        "colab_type": "code",
        "id": "CIztCWSEPThQ",
        "outputId": "da3143ee-ecf0-4f0f-e148-4adebe69723c",
        "colab": {
          "base_uri": "https://localhost:8080/",
          "height": 51
        }
      },
      "source": [
        "#b = [a[a.index('date\":')+1][1:len(a[a.index('date\":')+1])-2], a[a.index('\"confirmed\":')+1]]\n",
        "b = [a[1][:len(a[1])-1],a[3][:len(a[3])-1],a[5][:len(a[5])-1],a[7][:len(a[7])-1],a[9][:len(a[9])-1],a[11][:len(a[11])-1],a[13][:len(a[13])-1],a[18][:len(a[18])-1],a[20][:len(a[20])-1],a[22][:len(a[22])-1]]\n",
        "print(b)\n",
        "variables = [\"country\",\"confirmed\",\"deaths\",\"recovered\",\"confirmed_diff\",\"deaths_diff\",\"recovered_diff\",\"active\",\"active_diff\",\"fatality_rate\"]\n",
        "print(len(b),len(variables))"
      ],
      "execution_count": 0,
      "outputs": [
        {
          "output_type": "stream",
          "text": [
            "['\"2020-04-22\"', '10076', '212', '2156', '511', '11', '83', '7708', '417', '0.021']\n",
            "10 10\n"
          ],
          "name": "stdout"
        }
      ]
    },
    {
      "cell_type": "code",
      "metadata": {
        "colab_type": "code",
        "id": "sRw4d2PQRcxv",
        "colab": {}
      },
      "source": [
        "gdp_data =  !wget -O gdp.csv 'http://databank.worldbank.org/data/download/GDP.csv'"
      ],
      "execution_count": 0,
      "outputs": []
    },
    {
      "cell_type": "code",
      "metadata": {
        "colab_type": "code",
        "id": "uh0A371OfKeK",
        "outputId": "8d0ce673-10b2-40eb-a210-6702d3bb88ac",
        "colab": {
          "base_uri": "https://localhost:8080/",
          "height": 391
        }
      },
      "source": [
        "import requests\n",
        "import pandas as pd\n",
        "\n",
        "countries_diff_format = [\"Mexico\", \"Brazil\", \"Ukraine\", \"India\", \"United States\", \"Panama\", \"Hungary\", \"Pakistan\", \"Israel\", \"Bulgaria\",\n",
        "             \"Spain\", \"Italy\", \"France\", \"Germany\", \"UK\", \"Turkey\", \"Iran\", \"Russia\", \"Belgium\", \"Canada\",\n",
        "             \"Korea\", \"Australia\", \"Norway\", \"Nigeria\", \"United Arab Emirates\"]\n",
        "\n",
        "gdpf = pd.read_csv('http://databank.worldbank.org/data/download/GDP.csv')\n",
        "\n",
        "\n",
        "gdpf = gdpf.loc[:,gdpf.columns[[3,4]]]\n",
        "gdpf.columns = [\"Country\",  \"GDP\"]\n",
        "gdpf = gdpf.loc[gdpf['Country'].isin(countries_diff_format)]\n",
        "\n",
        "print(gdpf)\n",
        "gdpf.to_csv('gdp.csv')\n"
      ],
      "execution_count": 0,
      "outputs": [
        {
          "output_type": "stream",
          "text": [
            "                 Country           GDP\n",
            "4          United States   20,544,343 \n",
            "7                Germany    3,947,620 \n",
            "9                 France    2,777,535 \n",
            "10                 India    2,718,732 \n",
            "11                 Italy    2,083,864 \n",
            "12                Brazil    1,868,626 \n",
            "13                Canada    1,713,342 \n",
            "16             Australia    1,433,904 \n",
            "17                 Spain    1,419,042 \n",
            "18                Mexico    1,220,699 \n",
            "22                Turkey      771,350 \n",
            "26               Belgium      542,761 \n",
            "31                Norway      434,167 \n",
            "32  United Arab Emirates      414,179 \n",
            "33               Nigeria      397,270 \n",
            "35                Israel      370,588 \n",
            "43              Pakistan      314,588 \n",
            "59               Hungary      157,883 \n",
            "61               Ukraine      130,832 \n",
            "77              Bulgaria       65,133 \n",
            "78                Panama       65,055 \n"
          ],
          "name": "stdout"
        }
      ]
    },
    {
      "cell_type": "markdown",
      "metadata": {
        "colab_type": "text",
        "id": "2XCW_c3neIu8"
      },
      "source": [
        "# From this cell"
      ]
    },
    {
      "cell_type": "code",
      "metadata": {
        "colab_type": "code",
        "id": "n5o1X1vZGFPI",
        "colab": {
          "base_uri": "https://localhost:8080/",
          "height": 71
        },
        "outputId": "d5e7f043-b9a5-48fe-daba-4eef761a73d7"
      },
      "source": [
        "import pandas as pd\n",
        "import matplotlib.pyplot as plt\n",
        "import numpy as np\n",
        "from datetime import datetime\n",
        "import seaborn as sns\n"
      ],
      "execution_count": 1,
      "outputs": [
        {
          "output_type": "stream",
          "text": [
            "/usr/local/lib/python3.6/dist-packages/statsmodels/tools/_testing.py:19: FutureWarning: pandas.util.testing is deprecated. Use the functions in the public API at pandas.testing instead.\n",
            "  import pandas.util.testing as tm\n"
          ],
          "name": "stderr"
        }
      ]
    },
    {
      "cell_type": "markdown",
      "metadata": {
        "id": "R8quV6RLYi6J",
        "colab_type": "text"
      },
      "source": [
        "##Loading Data"
      ]
    },
    {
      "cell_type": "code",
      "metadata": {
        "colab_type": "code",
        "id": "NoUTJO6lKa8Z",
        "colab": {}
      },
      "source": [
        "countries_diff_format = [\"Mexico\", \"Brazil\", \"Ukraine\", \"India\", \"United States\", \"Panama\", \"Hungary\", \"Pakistan\", \"Israel\", \"Bulgaria\",\n",
        "             \"Spain\", \"Italy\", \"France\", \"Germany\", \"UK\", \"Turkey\", \"Iran\", \"Russia\", \"Belgium\", \"Canada\",\n",
        "             \"Korea\", \"Australia\", \"Norway\", \"Nigeria\", \"United Arab Emirates\"]\n",
        "data = pd.read_csv('https://raw.githubusercontent.com/owid/covid-19-data/master/public/data/owid-covid-data.csv',parse_dates=['date'])\n",
        "data = data.drop('new_cases', 1)\n",
        "data = data.drop('total_deaths', 1)\n",
        "data = data.drop('new_deaths', 1)\n",
        "data = data.drop('total_cases_per_million', 1)\n",
        "data = data.drop('new_cases_per_million', 1)\n",
        "data = data.drop('total_deaths_per_million', 1)\n",
        "data = data.drop('new_deaths_per_million', 1)\n",
        "data = data.drop('iso_code', 1)\n",
        "data = data.drop('total_tests',1)\n",
        "data = data.drop('new_tests',1)\n",
        "data = data.drop('new_tests_smoothed',1)\n",
        "data = data.drop('total_tests_per_thousand',1)\n",
        "data = data.drop('new_tests_per_thousand',1)\n",
        "data = data.drop('new_tests_smoothed_per_thousand',1)\n",
        "data = data.drop('tests_units',1)\n",
        "data = data.loc[data['location'].isin(countries_diff_format)]\n",
        "#data = data.fillna(0)\n",
        "data =data.dropna()\n",
        "\n",
        "#data['date'] =pd.to_datetime(data.date)\n",
        "data = data.sort_values(by='date',ascending=True)\n",
        "\n",
        "data['row_number'] = np.arange(len(data))\n"
      ],
      "execution_count": 0,
      "outputs": []
    },
    {
      "cell_type": "code",
      "metadata": {
        "id": "vMJSDjoLwUQi",
        "colab_type": "code",
        "colab": {}
      },
      "source": [
        "countries_diff_format = [\"Mexico\", \"Brazil\", \"Ukraine\", \"India\", \"United States\", \"Panama\", \"Hungary\", \"Pakistan\", \"Israel\", \"Bulgaria\",\n",
        "             \"Spain\", \"Italy\", \"France\", \"Germany\", \"UK\", \"Turkey\", \"Iran\", \"Russia\", \"Belgium\", \"Canada\",\n",
        "             \"Korea\", \"Australia\", \"Norway\", \"Nigeria\", \"United Arab Emirates\",]\n",
        "             \n",
        "covid_data = pd.read_csv('https://raw.githubusercontent.com/owid/covid-19-data/master/public/data/owid-covid-data.csv',parse_dates=['date'])\n",
        "\n",
        "#covid_data = covid_data.loc[covid_data['location'].isin(countries_diff_format)]\n",
        "\n",
        "#Sorting data by dates (Times series)\n",
        "data = data.sort_values(by='date',ascending=True)"
      ],
      "execution_count": 0,
      "outputs": []
    },
    {
      "cell_type": "code",
      "metadata": {
        "id": "8yuSJrvT5tRQ",
        "colab_type": "code",
        "colab": {
          "base_uri": "https://localhost:8080/",
          "height": 578
        },
        "outputId": "b7c3a698-9c8e-4887-c80a-8307ecaf0a9d"
      },
      "source": [
        "covid_data.dtypes"
      ],
      "execution_count": 49,
      "outputs": [
        {
          "output_type": "execute_result",
          "data": {
            "text/plain": [
              "iso_code                                   object\n",
              "location                                   object\n",
              "date                               datetime64[ns]\n",
              "total_cases                                 int64\n",
              "new_cases                                   int64\n",
              "total_deaths                                int64\n",
              "new_deaths                                  int64\n",
              "total_cases_per_million                   float64\n",
              "new_cases_per_million                     float64\n",
              "total_deaths_per_million                  float64\n",
              "new_deaths_per_million                    float64\n",
              "total_tests                               float64\n",
              "new_tests                                 float64\n",
              "total_tests_per_thousand                  float64\n",
              "new_tests_per_thousand                    float64\n",
              "new_tests_smoothed                        float64\n",
              "new_tests_smoothed_per_thousand           float64\n",
              "tests_units                                object\n",
              "stringency_index                          float64\n",
              "population                                float64\n",
              "population_density                        float64\n",
              "median_age                                float64\n",
              "aged_65_older                             float64\n",
              "aged_70_older                             float64\n",
              "gdp_per_capita                            float64\n",
              "extreme_poverty                           float64\n",
              "cvd_death_rate                            float64\n",
              "diabetes_prevalence                       float64\n",
              "female_smokers                            float64\n",
              "male_smokers                              float64\n",
              "handwashing_facilities                    float64\n",
              "hospital_beds_per_100k                    float64\n",
              "dtype: object"
            ]
          },
          "metadata": {
            "tags": []
          },
          "execution_count": 49
        }
      ]
    },
    {
      "cell_type": "markdown",
      "metadata": {
        "id": "W2BKpLn2bHLp",
        "colab_type": "text"
      },
      "source": [
        "## Dealing with NaN data"
      ]
    },
    {
      "cell_type": "code",
      "metadata": {
        "id": "1-_RoYXkbKJ7",
        "colab_type": "code",
        "colab": {
          "base_uri": "https://localhost:8080/",
          "height": 578
        },
        "outputId": "f0d3c74c-6bee-4e31-bbf8-a7143ae19842"
      },
      "source": [
        "covid_data.isnull().sum()"
      ],
      "execution_count": 5,
      "outputs": [
        {
          "output_type": "execute_result",
          "data": {
            "text/plain": [
              "iso_code                              64\n",
              "location                               0\n",
              "date                                   0\n",
              "total_cases                            0\n",
              "new_cases                              0\n",
              "total_deaths                           0\n",
              "new_deaths                             0\n",
              "total_cases_per_million              385\n",
              "new_cases_per_million                385\n",
              "total_deaths_per_million             385\n",
              "new_deaths_per_million               385\n",
              "total_tests                        15853\n",
              "new_tests                          16478\n",
              "total_tests_per_thousand           15853\n",
              "new_tests_per_thousand             16478\n",
              "new_tests_smoothed                 15251\n",
              "new_tests_smoothed_per_thousand    15251\n",
              "tests_units                        14653\n",
              "stringency_index                    4541\n",
              "population                            64\n",
              "population_density                   970\n",
              "median_age                          1983\n",
              "aged_65_older                       2250\n",
              "aged_70_older                       2082\n",
              "gdp_per_capita                      2262\n",
              "extreme_poverty                     8776\n",
              "cvd_death_rate                      2064\n",
              "diabetes_prevalence                 1344\n",
              "female_smokers                      5750\n",
              "male_smokers                        5924\n",
              "handwashing_facilities             13011\n",
              "hospital_beds_per_100k              3617\n",
              "dtype: int64"
            ]
          },
          "metadata": {
            "tags": []
          },
          "execution_count": 5
        }
      ]
    },
    {
      "cell_type": "code",
      "metadata": {
        "id": "SORl1fvlbY-v",
        "colab_type": "code",
        "colab": {}
      },
      "source": [
        "# dropping the NaN data\n",
        "covid_data = covid_data.fillna(0)"
      ],
      "execution_count": 0,
      "outputs": []
    },
    {
      "cell_type": "markdown",
      "metadata": {
        "id": "p628gdTLcHWx",
        "colab_type": "text"
      },
      "source": [
        "## Selecting Data"
      ]
    },
    {
      "cell_type": "code",
      "metadata": {
        "id": "7n5WpXkX578N",
        "colab_type": "code",
        "outputId": "ac269121-59f9-44f5-f5af-bf8b65782dfa",
        "colab": {
          "base_uri": "https://localhost:8080/",
          "height": 326
        }
      },
      "source": [
        "data = covid_data.copy()\n",
        "\n",
        "#Dropping location now only\n",
        "data = data.drop('location',1)\n",
        "data = data.drop('iso_code',1)\n",
        "\n",
        "## dropping columns with double information for eg total cases and total cases_per_million tell the same information\n",
        "data = data.drop('new_cases', 1)\n",
        "data = data.drop('new_deaths', 1)\n",
        "data = data.drop('total_cases_per_million', 1)\n",
        "data = data.drop('new_cases_per_million', 1)\n",
        "data = data.drop('total_deaths_per_million', 1)\n",
        "data = data.drop('new_deaths_per_million', 1)\n",
        "data = data.drop('new_tests',1)\n",
        "data = data.drop('new_tests_smoothed',1)\n",
        "data = data.drop('total_tests_per_thousand',1)\n",
        "data = data.drop('new_tests_per_thousand',1)\n",
        "data = data.drop('new_tests_smoothed_per_thousand',1)\n",
        "data = data.drop('tests_units',1)\n",
        "data = data.drop('aged_70_older',1)\n",
        "\n",
        "print(data.shape)\n",
        "data.head()"
      ],
      "execution_count": 85,
      "outputs": [
        {
          "output_type": "stream",
          "text": [
            "(21606, 17)\n"
          ],
          "name": "stdout"
        },
        {
          "output_type": "execute_result",
          "data": {
            "text/html": [
              "<div>\n",
              "<style scoped>\n",
              "    .dataframe tbody tr th:only-of-type {\n",
              "        vertical-align: middle;\n",
              "    }\n",
              "\n",
              "    .dataframe tbody tr th {\n",
              "        vertical-align: top;\n",
              "    }\n",
              "\n",
              "    .dataframe thead th {\n",
              "        text-align: right;\n",
              "    }\n",
              "</style>\n",
              "<table border=\"1\" class=\"dataframe\">\n",
              "  <thead>\n",
              "    <tr style=\"text-align: right;\">\n",
              "      <th></th>\n",
              "      <th>date</th>\n",
              "      <th>total_cases</th>\n",
              "      <th>total_deaths</th>\n",
              "      <th>total_tests</th>\n",
              "      <th>stringency_index</th>\n",
              "      <th>population</th>\n",
              "      <th>population_density</th>\n",
              "      <th>median_age</th>\n",
              "      <th>aged_65_older</th>\n",
              "      <th>gdp_per_capita</th>\n",
              "      <th>extreme_poverty</th>\n",
              "      <th>cvd_death_rate</th>\n",
              "      <th>diabetes_prevalence</th>\n",
              "      <th>female_smokers</th>\n",
              "      <th>male_smokers</th>\n",
              "      <th>handwashing_facilities</th>\n",
              "      <th>hospital_beds_per_100k</th>\n",
              "    </tr>\n",
              "  </thead>\n",
              "  <tbody>\n",
              "    <tr>\n",
              "      <th>0</th>\n",
              "      <td>2020-03-13</td>\n",
              "      <td>2</td>\n",
              "      <td>0</td>\n",
              "      <td>0.0</td>\n",
              "      <td>0.00</td>\n",
              "      <td>106766.0</td>\n",
              "      <td>584.8</td>\n",
              "      <td>41.2</td>\n",
              "      <td>13.085</td>\n",
              "      <td>35973.781</td>\n",
              "      <td>0.0</td>\n",
              "      <td>0.0</td>\n",
              "      <td>11.62</td>\n",
              "      <td>0.0</td>\n",
              "      <td>0.0</td>\n",
              "      <td>0.0</td>\n",
              "      <td>0.0</td>\n",
              "    </tr>\n",
              "    <tr>\n",
              "      <th>1</th>\n",
              "      <td>2020-03-20</td>\n",
              "      <td>4</td>\n",
              "      <td>0</td>\n",
              "      <td>0.0</td>\n",
              "      <td>30.56</td>\n",
              "      <td>106766.0</td>\n",
              "      <td>584.8</td>\n",
              "      <td>41.2</td>\n",
              "      <td>13.085</td>\n",
              "      <td>35973.781</td>\n",
              "      <td>0.0</td>\n",
              "      <td>0.0</td>\n",
              "      <td>11.62</td>\n",
              "      <td>0.0</td>\n",
              "      <td>0.0</td>\n",
              "      <td>0.0</td>\n",
              "      <td>0.0</td>\n",
              "    </tr>\n",
              "    <tr>\n",
              "      <th>2</th>\n",
              "      <td>2020-03-24</td>\n",
              "      <td>12</td>\n",
              "      <td>0</td>\n",
              "      <td>0.0</td>\n",
              "      <td>41.67</td>\n",
              "      <td>106766.0</td>\n",
              "      <td>584.8</td>\n",
              "      <td>41.2</td>\n",
              "      <td>13.085</td>\n",
              "      <td>35973.781</td>\n",
              "      <td>0.0</td>\n",
              "      <td>0.0</td>\n",
              "      <td>11.62</td>\n",
              "      <td>0.0</td>\n",
              "      <td>0.0</td>\n",
              "      <td>0.0</td>\n",
              "      <td>0.0</td>\n",
              "    </tr>\n",
              "    <tr>\n",
              "      <th>3</th>\n",
              "      <td>2020-03-25</td>\n",
              "      <td>17</td>\n",
              "      <td>0</td>\n",
              "      <td>0.0</td>\n",
              "      <td>41.67</td>\n",
              "      <td>106766.0</td>\n",
              "      <td>584.8</td>\n",
              "      <td>41.2</td>\n",
              "      <td>13.085</td>\n",
              "      <td>35973.781</td>\n",
              "      <td>0.0</td>\n",
              "      <td>0.0</td>\n",
              "      <td>11.62</td>\n",
              "      <td>0.0</td>\n",
              "      <td>0.0</td>\n",
              "      <td>0.0</td>\n",
              "      <td>0.0</td>\n",
              "    </tr>\n",
              "    <tr>\n",
              "      <th>4</th>\n",
              "      <td>2020-03-26</td>\n",
              "      <td>19</td>\n",
              "      <td>0</td>\n",
              "      <td>0.0</td>\n",
              "      <td>41.67</td>\n",
              "      <td>106766.0</td>\n",
              "      <td>584.8</td>\n",
              "      <td>41.2</td>\n",
              "      <td>13.085</td>\n",
              "      <td>35973.781</td>\n",
              "      <td>0.0</td>\n",
              "      <td>0.0</td>\n",
              "      <td>11.62</td>\n",
              "      <td>0.0</td>\n",
              "      <td>0.0</td>\n",
              "      <td>0.0</td>\n",
              "      <td>0.0</td>\n",
              "    </tr>\n",
              "  </tbody>\n",
              "</table>\n",
              "</div>"
            ],
            "text/plain": [
              "        date  total_cases  ...  handwashing_facilities  hospital_beds_per_100k\n",
              "0 2020-03-13            2  ...                     0.0                     0.0\n",
              "1 2020-03-20            4  ...                     0.0                     0.0\n",
              "2 2020-03-24           12  ...                     0.0                     0.0\n",
              "3 2020-03-25           17  ...                     0.0                     0.0\n",
              "4 2020-03-26           19  ...                     0.0                     0.0\n",
              "\n",
              "[5 rows x 17 columns]"
            ]
          },
          "metadata": {
            "tags": []
          },
          "execution_count": 85
        }
      ]
    },
    {
      "cell_type": "markdown",
      "metadata": {
        "id": "8v3QfmklwKJZ",
        "colab_type": "text"
      },
      "source": [
        "### Pearson’s Correlation Coefficient Matrix\n"
      ]
    },
    {
      "cell_type": "code",
      "metadata": {
        "id": "3RMA8Q918LHj",
        "colab_type": "code",
        "outputId": "7ddfeeb0-0c6c-464b-cfa8-698546891633",
        "colab": {
          "base_uri": "https://localhost:8080/",
          "height": 306
        }
      },
      "source": [
        "data[data.columns[1:]].corr()['total_cases'][:]"
      ],
      "execution_count": 86,
      "outputs": [
        {
          "output_type": "execute_result",
          "data": {
            "text/plain": [
              "total_cases               1.000000\n",
              "total_deaths              0.989906\n",
              "total_tests               0.174200\n",
              "stringency_index         -0.032312\n",
              "population                0.565042\n",
              "population_density       -0.016188\n",
              "median_age                0.041935\n",
              "aged_65_older             0.040614\n",
              "gdp_per_capita            0.027409\n",
              "extreme_poverty          -0.002165\n",
              "cvd_death_rate           -0.012191\n",
              "diabetes_prevalence       0.022798\n",
              "female_smokers            0.032292\n",
              "male_smokers              0.043782\n",
              "handwashing_facilities    0.032149\n",
              "hospital_beds_per_100k    0.015369\n",
              "Name: total_cases, dtype: float64"
            ]
          },
          "metadata": {
            "tags": []
          },
          "execution_count": 86
        }
      ]
    },
    {
      "cell_type": "code",
      "metadata": {
        "id": "LmuOR90XwVzN",
        "colab_type": "code",
        "outputId": "790e927e-fcef-446c-c5d9-0f76a354dc0a",
        "colab": {
          "base_uri": "https://localhost:8080/",
          "height": 746
        }
      },
      "source": [
        "plt.clf()\n",
        "\n",
        "corr = data.corr()\n",
        "mask = np.zeros_like(corr)\n",
        "mask[np.triu_indices_from(mask)] = True\n",
        "\n",
        "fig, ax = plt.subplots(figsize=(10,10))\n",
        "\n",
        "fig = sns.heatmap(corr, mask=mask, square=False, cmap='RdYlGn', annot=True, ax=ax, \n",
        "            cbar_kws={'label':'Pearson correlation coefficient'})\n",
        "\n",
        "fig.set_title('Pearson Corelation Coefficient Matrix')\n",
        "fig.tick_params(axis='x', rotation=90)\n",
        "fig.tick_params(axis='y', rotation=0)\n",
        "\n",
        "fig = fig.get_figure()\n",
        "fig.tight_layout()\n",
        "fig.show()"
      ],
      "execution_count": 87,
      "outputs": [
        {
          "output_type": "display_data",
          "data": {
            "text/plain": [
              "<Figure size 432x288 with 0 Axes>"
            ]
          },
          "metadata": {
            "tags": []
          }
        },
        {
          "output_type": "display_data",
          "data": {
            "image/png": "[encoded data removed]",
            "text/plain": [
              "<Figure size 720x720 with 2 Axes>"
            ]
          },
          "metadata": {
            "tags": [],
            "needs_background": "light"
          }
        }
      ]
    },
    {
      "cell_type": "markdown",
      "metadata": {
        "id": "08ve-JKkdKue",
        "colab_type": "text"
      },
      "source": [
        "Dropping columns with |P| > 0.1"
      ]
    },
    {
      "cell_type": "code",
      "metadata": {
        "id": "eixvSBQjdS5L",
        "colab_type": "code",
        "colab": {}
      },
      "source": [
        "data = data.drop(['population','total_tests','total_deaths'],1)"
      ],
      "execution_count": 0,
      "outputs": []
    },
    {
      "cell_type": "markdown",
      "metadata": {
        "id": "fH6JeqZTeHSk",
        "colab_type": "text"
      },
      "source": [
        "## Making data categorcial for location and data"
      ]
    },
    {
      "cell_type": "code",
      "metadata": {
        "id": "E5Z-rrWigZNM",
        "colab_type": "code",
        "colab": {}
      },
      "source": [
        "#adding location again\n",
        "data['location'] = covid_data['location']\n",
        "\n",
        "#changing data to categorical data by converting it to number of days. Since there is data for everyday just assigning a number to every date.\n",
        "data['number_of_days'] = np.arange(len(data))\n",
        "\n",
        "#changing location to categorical by having a column for every country\n",
        "\n",
        "for i in countries_diff_format:\n",
        "  data[i] = 0\n",
        "\n",
        "for i in countries_diff_format:\n",
        "  data.loc[data['location'] == i, i] = 1\n",
        "\n",
        "data = data.drop('location',axis = 1)\n",
        "\n",
        "#having an index number to later extract info of a particular country\n",
        "#data['row_number'] = np.arange(len(data))"
      ],
      "execution_count": 0,
      "outputs": []
    },
    {
      "cell_type": "code",
      "metadata": {
        "colab_type": "code",
        "id": "_5X4UUzK6eCf",
        "scrolled": false,
        "colab": {}
      },
      "source": [
        "df = data.copy()\n",
        "df = df.drop('date',axis = 1)\n",
        "\n",
        "#df.set_index(['row_number'])\n",
        "df = df.fillna(0)"
      ],
      "execution_count": 0,
      "outputs": []
    },
    {
      "cell_type": "code",
      "metadata": {
        "colab_type": "code",
        "id": "vxUurQfAwMBK",
        "colab": {}
      },
      "source": [
        "pak_cases = data[data['Pakistan'] == 1] "
      ],
      "execution_count": 0,
      "outputs": []
    },
    {
      "cell_type": "code",
      "metadata": {
        "colab_type": "code",
        "id": "Lo0GeRJvEirZ",
        "outputId": "34ce0e4d-6b0a-45ec-9715-31e49717d424",
        "colab": {
          "base_uri": "https://localhost:8080/",
          "height": 602
        }
      },
      "source": [
        "# Plotting the target: Total cases\n",
        "\n",
        "plt.figure(figsize=(20,10))\n",
        "\n",
        "plt.plot(pak_cases[\"date\"], pak_cases['total_cases'], '.', color='red', label='Original data', alpha=0.8)\n",
        "plt.xlabel('Datetime [-]', fontsize=20)\n",
        "plt.ylabel(r'total cases', fontsize=20)\n",
        "\n",
        "plt.xticks(fontsize=20, rotation=45)\n",
        "plt.yticks(fontsize=20)\n",
        "\n",
        "plt.title('Total Covid patients till today', fontsize=28)\n",
        "\n",
        "plt.tight_layout()"
      ],
      "execution_count": 74,
      "outputs": [
        {
          "output_type": "display_data",
          "data": {
            "image/png": "[encoded data removed]",
            "text/plain": [
              "<Figure size 1440x720 with 1 Axes>"
            ]
          },
          "metadata": {
            "tags": [],
            "needs_background": "light"
          }
        }
      ]
    },
    {
      "cell_type": "code",
      "metadata": {
        "colab_type": "code",
        "id": "sCo_nR9rGvv3",
        "outputId": "d12fd31f-c139-4713-8693-e7dcc9492dd1",
        "colab": {
          "base_uri": "https://localhost:8080/",
          "height": 265
        }
      },
      "source": [
        "plt.plot(pak_cases['total_cases'])\n",
        "plt.show()"
      ],
      "execution_count": 9,
      "outputs": [
        {
          "output_type": "display_data",
          "data": {
            "image/png": "[encoded data removed]",
            "text/plain": [
              "<Figure size 432x288 with 1 Axes>"
            ]
          },
          "metadata": {
            "tags": [],
            "needs_background": "light"
          }
        }
      ]
    },
    {
      "cell_type": "markdown",
      "metadata": {
        "id": "Qkjr63ClrBpR",
        "colab_type": "text"
      },
      "source": [
        "##Splitting into training and tests data"
      ]
    },
    {
      "cell_type": "code",
      "metadata": {
        "colab_type": "code",
        "id": "PfT8fzcCV3_D",
        "colab": {}
      },
      "source": [
        "y = df['total_cases']\n",
        "\n",
        "X = df.drop(['total_cases'], axis=1)\n",
        "\n",
        "train_size = 0.7\n",
        "\n",
        "split_index = int(df.shape[0]*train_size) #index at which the datafram will be split\n",
        "\n",
        "X_train = X[:split_index]\n",
        "y_train = y[:split_index]\n",
        "\n",
        "X_test = X[split_index:]\n",
        "y_test = y[split_index:]"
      ],
      "execution_count": 0,
      "outputs": []
    },
    {
      "cell_type": "code",
      "metadata": {
        "colab_type": "code",
        "id": "Oe-pxrMKNmg_",
        "outputId": "a6734255-ac53-44d1-fdd7-8e96bf016ca5",
        "colab": {
          "base_uri": "https://localhost:8080/",
          "height": 34
        }
      },
      "source": [
        "from keras.models import Sequential\n",
        "from keras.layers.core import Dense, Activation, Dropout, Flatten\n",
        "from keras.layers.recurrent import LSTM\n",
        "from keras.layers import Dense, Conv1D, MaxPool2D, Flatten, Dropout\n",
        "from keras.optimizers import Adam\n",
        "from time import time\n",
        "import tensorflow as tf\n",
        "from sklearn.preprocessing import StandardScaler"
      ],
      "execution_count": 31,
      "outputs": [
        {
          "output_type": "stream",
          "text": [
            "Using TensorFlow backend.\n"
          ],
          "name": "stderr"
        }
      ]
    },
    {
      "cell_type": "code",
      "metadata": {
        "colab_type": "code",
        "id": "Ak7fKp7FLh_H",
        "outputId": "eb3b026f-9bde-4972-d876-1d373f10f2fe",
        "colab": {
          "base_uri": "https://localhost:8080/",
          "height": 51
        }
      },
      "source": [
        "scalerX = StandardScaler(with_mean=True, with_std=True).fit(X_train)\n",
        "\n",
        "X_train = scalerX.transform(X_train)\n",
        "X_test = scalerX.transform(X_test)\n",
        "\n",
        "print((X_train.shape, y_train.shape))\n",
        "print((X_test.shape, y_test.shape))"
      ],
      "execution_count": 92,
      "outputs": [
        {
          "output_type": "stream",
          "text": [
            "((15124, 38), (15124,))\n",
            "((6482, 38), (6482,))\n"
          ],
          "name": "stdout"
        }
      ]
    },
    {
      "cell_type": "markdown",
      "metadata": {
        "id": "1h8fQKF_ZtF2",
        "colab_type": "text"
      },
      "source": [
        "## Linear Regression"
      ]
    },
    {
      "cell_type": "code",
      "metadata": {
        "colab_type": "code",
        "id": "8ZlCbn91N3ow",
        "outputId": "117ebe75-5455-4b01-e59b-1a1fa2959aaa",
        "colab": {
          "base_uri": "https://localhost:8080/",
          "height": 34
        }
      },
      "source": [
        "from sklearn.linear_model import LinearRegression\n",
        "\n",
        "model = LinearRegression()\n",
        "model.fit(X_train, y_train)\n",
        "model.score(X_test, y_test)"
      ],
      "execution_count": 93,
      "outputs": [
        {
          "output_type": "execute_result",
          "data": {
            "text/plain": [
              "-0.019611616634552576"
            ]
          },
          "metadata": {
            "tags": []
          },
          "execution_count": 93
        }
      ]
    },
    {
      "cell_type": "code",
      "metadata": {
        "colab_type": "code",
        "id": "SOhYRFRvcB_7",
        "outputId": "b9f66ca7-67c4-4df5-ec17-bec4539ab148",
        "colab": {
          "base_uri": "https://localhost:8080/",
          "height": 34
        }
      },
      "source": [
        "y_pred = model.predict(X_test)\n",
        "\n",
        "from sklearn.metrics import mean_squared_error\n",
        "print(mean_squared_error(y_test,y_pred))"
      ],
      "execution_count": 94,
      "outputs": [
        {
          "output_type": "stream",
          "text": [
            "155876169111.19427\n"
          ],
          "name": "stdout"
        }
      ]
    },
    {
      "cell_type": "code",
      "metadata": {
        "colab_type": "code",
        "id": "AVlEcl4r6QFG",
        "colab": {}
      },
      "source": [
        "X_test = X[split_index:]\n",
        "pak_indices_dates = []\n",
        "\n",
        "pak_indices = list(X_test[X_test['Pakistan']==1].index)\n",
        "\n",
        "for i in pak_indices:\n",
        "    pak_indices_dates.append(data.date.loc[[i]].values[0])\n"
      ],
      "execution_count": 0,
      "outputs": []
    },
    {
      "cell_type": "code",
      "metadata": {
        "id": "jq6sbOwGZtGK",
        "colab_type": "code",
        "colab": {
          "base_uri": "https://localhost:8080/",
          "height": 136
        },
        "outputId": "f2e7d487-52f0-4462-a8cf-7dd686d08717"
      },
      "source": [
        "X_test_1 = X[split_index:]\n",
        "X_test_1[\"test_number\"] = np.arange(len(X_test_1))\n",
        "y_pred_pak_indices = X_test_1[X_test_1['Pakistan']==1]\n",
        "pak_y_pred= y_pred[y_pred_pak_indices.test_number.tolist()]\n",
        "print(pak_y_pred.shape)\n",
        "\n"
      ],
      "execution_count": 96,
      "outputs": [
        {
          "output_type": "stream",
          "text": [
            "(151,)\n"
          ],
          "name": "stdout"
        },
        {
          "output_type": "stream",
          "text": [
            "/usr/local/lib/python3.6/dist-packages/ipykernel_launcher.py:2: SettingWithCopyWarning: \n",
            "A value is trying to be set on a copy of a slice from a DataFrame.\n",
            "Try using .loc[row_indexer,col_indexer] = value instead\n",
            "\n",
            "See the caveats in the documentation: https://pandas.pydata.org/pandas-docs/stable/user_guide/indexing.html#returning-a-view-versus-a-copy\n",
            "  \n"
          ],
          "name": "stderr"
        }
      ]
    },
    {
      "cell_type": "code",
      "metadata": {
        "id": "SsM-MQotZtGO",
        "colab_type": "code",
        "colab": {
          "base_uri": "https://localhost:8080/",
          "height": 34
        },
        "outputId": "428428b7-842a-44bb-d24f-7e5e994d9e51"
      },
      "source": [
        "pak_y_test= y_test.to_numpy()[y_pred_pak_indices.test_number.tolist()]\n",
        "print(pak_y_test.shape)\n"
      ],
      "execution_count": 97,
      "outputs": [
        {
          "output_type": "stream",
          "text": [
            "(151,)\n"
          ],
          "name": "stdout"
        }
      ]
    },
    {
      "cell_type": "code",
      "metadata": {
        "id": "6CyxHp1tZtGS",
        "colab_type": "code",
        "colab": {
          "base_uri": "https://localhost:8080/",
          "height": 602
        },
        "outputId": "67407a0a-fc7b-4c85-ac86-4d4944fb5600"
      },
      "source": [
        "# Plotting the target: Total cases\n",
        "\n",
        "plt.figure(figsize=(20,10))\n",
        "\n",
        "plt.plot(pak_indices_dates, pak_y_pred, '.', color='blue', label='Predicted data', alpha=0.8)\n",
        "plt.plot(pak_indices_dates, pak_y_test, '.', color='red', label='Actual data', alpha=0.8)\n",
        "plt.legend()\n",
        "plt.xlabel('Datetime [-]', fontsize=20)\n",
        "plt.ylabel(r'total cases', fontsize=20)\n",
        "\n",
        "plt.xticks(fontsize=20, rotation=45)\n",
        "plt.yticks(fontsize=20)\n",
        "\n",
        "plt.title('Total Covid patients till today', fontsize=28)\n",
        "\n",
        "plt.tight_layout()\n"
      ],
      "execution_count": 98,
      "outputs": [
        {
          "output_type": "display_data",
          "data": {
            "image/png": "[encoded data removed]",
            "text/plain": [
              "<Figure size 1440x720 with 1 Axes>"
            ]
          },
          "metadata": {
            "tags": [],
            "needs_background": "light"
          }
        }
      ]
    },
    {
      "cell_type": "markdown",
      "metadata": {
        "id": "ZyyCr28uZtGV",
        "colab_type": "text"
      },
      "source": [
        "## Deep Neural Network"
      ]
    },
    {
      "cell_type": "code",
      "metadata": {
        "id": "8RRYVb4YZtGW",
        "colab_type": "code",
        "colab": {}
      },
      "source": [
        "from keras.layers.advanced_activations import LeakyReLU\n",
        "from keras.layers.normalization import BatchNormalization\n",
        "from keras.optimizers import Adam, SGD, Nadam\n",
        "from tensorflow.keras import regularizers\n",
        "from keras.optimizers import Adam"
      ],
      "execution_count": 0,
      "outputs": []
    },
    {
      "cell_type": "code",
      "metadata": {
        "id": "CGRTrnnLrQM8",
        "colab_type": "code",
        "colab": {
          "base_uri": "https://localhost:8080/",
          "height": 51
        },
        "outputId": "0babfa81-0d98-48e6-8d7d-bb69284c171b"
      },
      "source": [
        "print((X_train.shape, y_train.shape))\n",
        "print((X_test.shape, y_test.shape))"
      ],
      "execution_count": 99,
      "outputs": [
        {
          "output_type": "stream",
          "text": [
            "((15124, 38), (15124,))\n",
            "((6482, 38), (6482,))\n"
          ],
          "name": "stdout"
        }
      ]
    },
    {
      "cell_type": "code",
      "metadata": {
        "id": "mVxw1_7VCa5S",
        "colab_type": "code",
        "colab": {}
      },
      "source": [
        "model = Sequential()\n",
        "model.add(Dense(32, input_shape=(X_train.shape[1],), kernel_regularizer=regularizers.l2(0.01), use_bias=False))\n",
        "model.add(BatchNormalization())\n",
        "model.add(LeakyReLU())\n",
        "model.add(Dropout(0.083))\n",
        "\n",
        "model.add(Dense(512, kernel_regularizer=regularizers.l2(0.01), use_bias=False))\n",
        "model.add(BatchNormalization())\n",
        "model.add(LeakyReLU())\n",
        "model.add(Dropout(0.156))   \n",
        "\n",
        "model.add(Dense(256, kernel_regularizer=regularizers.l2(0.01), use_bias=False))\n",
        "model.add(BatchNormalization())\n",
        "model.add(LeakyReLU())\n",
        "model.add(Dropout(0.156))   \n",
        "\n",
        "model.add(Dense(32, kernel_regularizer=regularizers.l2(0.01), use_bias=False))\n",
        "model.add(BatchNormalization())\n",
        "model.add(LeakyReLU())\n",
        "model.add(Dropout(0.156))   \n",
        "\n",
        "model.add(Dense(1))\n"
      ],
      "execution_count": 0,
      "outputs": []
    },
    {
      "cell_type": "code",
      "metadata": {
        "id": "CD-dJlbeuIp_",
        "colab_type": "code",
        "colab": {
          "base_uri": "https://localhost:8080/",
          "height": 1000
        },
        "outputId": "8aa65773-410f-425e-9356-ea9bce8a775f"
      },
      "source": [
        "Adam = Adam(lr = 0.0001)\n",
        "model.compile(optimizer = Adam, loss = 'mse', metrics = ['acc'])\n",
        "hist = model.fit(X_train, y_train, epochs = 100, batch_size = 32, validation_data = (X_test,y_test))"
      ],
      "execution_count": 111,
      "outputs": [
        {
          "output_type": "stream",
          "text": [
            "Train on 15124 samples, validate on 6482 samples\n",
            "Epoch 1/100\n",
            "15124/15124 [==============================] - 6s 384us/step - loss: 1072155464.3133 - acc: 0.0279 - val_loss: 155406637962.8729 - val_acc: 0.0000e+00\n",
            "Epoch 2/100\n",
            "15124/15124 [==============================] - 4s 236us/step - loss: 1072098312.6176 - acc: 0.0208 - val_loss: 155284770754.0059 - val_acc: 0.0000e+00\n",
            "Epoch 3/100\n",
            "15124/15124 [==============================] - 3s 231us/step - loss: 1072064952.6545 - acc: 0.0181 - val_loss: 154910591956.7233 - val_acc: 3.0855e-04\n",
            "Epoch 4/100\n",
            "15124/15124 [==============================] - 3s 230us/step - loss: 1072028189.9379 - acc: 0.0184 - val_loss: 155568004807.8763 - val_acc: 0.0000e+00\n",
            "Epoch 5/100\n",
            "15124/15124 [==============================] - 4s 232us/step - loss: 1071988025.3426 - acc: 0.0182 - val_loss: 154986968248.7425 - val_acc: 0.0000e+00\n",
            "Epoch 6/100\n",
            "15124/15124 [==============================] - 3s 230us/step - loss: 1071944376.2415 - acc: 0.0167 - val_loss: 154804887273.1614 - val_acc: 0.0000e+00\n",
            "Epoch 7/100\n",
            "15124/15124 [==============================] - 4s 232us/step - loss: 1071904156.1205 - acc: 0.0200 - val_loss: 155177257319.7262 - val_acc: 0.0000e+00\n",
            "Epoch 8/100\n",
            "15124/15124 [==============================] - 4s 233us/step - loss: 1071855262.9196 - acc: 0.0184 - val_loss: 155185274747.0939 - val_acc: 0.0000e+00\n",
            "Epoch 9/100\n",
            "15124/15124 [==============================] - 4s 240us/step - loss: 1071803464.6382 - acc: 0.0212 - val_loss: 154995030462.5814 - val_acc: 0.0000e+00\n",
            "Epoch 10/100\n",
            "15124/15124 [==============================] - 4s 234us/step - loss: 1071753338.2587 - acc: 0.0234 - val_loss: 154471173072.6017 - val_acc: 0.0000e+00\n",
            "Epoch 11/100\n",
            "15124/15124 [==============================] - 3s 230us/step - loss: 1071705209.1824 - acc: 0.0228 - val_loss: 154200790302.3264 - val_acc: 0.0000e+00\n",
            "Epoch 12/100\n",
            "15124/15124 [==============================] - 3s 228us/step - loss: 1071640608.1082 - acc: 0.0207 - val_loss: 153949281280.4924 - val_acc: 0.0000e+00\n",
            "Epoch 13/100\n",
            "15124/15124 [==============================] - 4s 232us/step - loss: 1071582508.2421 - acc: 0.0193 - val_loss: 154110391207.2916 - val_acc: 0.0000e+00\n",
            "Epoch 14/100\n",
            "15124/15124 [==============================] - 4s 234us/step - loss: 1071518412.3184 - acc: 0.0194 - val_loss: 153182960829.0626 - val_acc: 0.0000e+00\n",
            "Epoch 15/100\n",
            "15124/15124 [==============================] - 3s 226us/step - loss: 1071438111.1751 - acc: 0.0173 - val_loss: 153871675001.4687 - val_acc: 0.0000e+00\n",
            "Epoch 16/100\n",
            "15124/15124 [==============================] - 3s 228us/step - loss: 1071389359.6314 - acc: 0.0159 - val_loss: 153656370231.4496 - val_acc: 1.5427e-04\n",
            "Epoch 17/100\n",
            "15124/15124 [==============================] - 4s 233us/step - loss: 1071321892.5611 - acc: 0.0134 - val_loss: 153479085132.9343 - val_acc: 0.0000e+00\n",
            "Epoch 18/100\n",
            "15124/15124 [==============================] - 4s 237us/step - loss: 1071233803.0611 - acc: 0.0136 - val_loss: 153660103158.1808 - val_acc: 0.0000e+00\n",
            "Epoch 19/100\n",
            "15124/15124 [==============================] - 3s 229us/step - loss: 1071132623.8527 - acc: 0.0143 - val_loss: 153956055444.9170 - val_acc: 0.0000e+00\n",
            "Epoch 20/100\n",
            "15124/15124 [==============================] - 3s 228us/step - loss: 1071076504.4110 - acc: 0.0140 - val_loss: 153458446576.5974 - val_acc: 0.0000e+00\n",
            "Epoch 21/100\n",
            "15124/15124 [==============================] - 3s 226us/step - loss: 1070994492.8754 - acc: 0.0116 - val_loss: 153243844455.4940 - val_acc: 0.0000e+00\n",
            "Epoch 22/100\n",
            "15124/15124 [==============================] - 3s 225us/step - loss: 1070928872.1496 - acc: 0.0123 - val_loss: 153153679959.2817 - val_acc: 0.0000e+00\n",
            "Epoch 23/100\n",
            "15124/15124 [==============================] - 3s 228us/step - loss: 1070815871.6496 - acc: 0.0121 - val_loss: 153269825668.3838 - val_acc: 0.0000e+00\n",
            "Epoch 24/100\n",
            "15124/15124 [==============================] - 3s 230us/step - loss: 1070708799.6348 - acc: 0.0110 - val_loss: 153213213145.4539 - val_acc: 0.0000e+00\n",
            "Epoch 25/100\n",
            "15124/15124 [==============================] - 3s 231us/step - loss: 1070659170.9574 - acc: 0.0095 - val_loss: 153223260418.4486 - val_acc: 0.0000e+00\n",
            "Epoch 26/100\n",
            "15124/15124 [==============================] - 3s 229us/step - loss: 1070556669.9355 - acc: 0.0086 - val_loss: 154429142633.6859 - val_acc: 0.0000e+00\n",
            "Epoch 27/100\n",
            "15124/15124 [==============================] - 3s 230us/step - loss: 1070462019.4694 - acc: 0.0097 - val_loss: 153356515563.7001 - val_acc: 0.0000e+00\n",
            "Epoch 28/100\n",
            "15124/15124 [==============================] - 3s 226us/step - loss: 1070375441.6022 - acc: 0.0088 - val_loss: 153574740081.1601 - val_acc: 0.0000e+00\n",
            "Epoch 29/100\n",
            "15124/15124 [==============================] - 3s 224us/step - loss: 1070253873.9530 - acc: 0.0086 - val_loss: 153649832990.8547 - val_acc: 0.0000e+00\n",
            "Epoch 30/100\n",
            "15124/15124 [==============================] - 3s 227us/step - loss: 1070137076.2007 - acc: 0.0080 - val_loss: 154059871010.4104 - val_acc: 0.0000e+00\n",
            "Epoch 31/100\n",
            "15124/15124 [==============================] - 3s 222us/step - loss: 1070023180.0980 - acc: 0.0093 - val_loss: 154504878447.8371 - val_acc: 0.0000e+00\n",
            "Epoch 32/100\n",
            "15124/15124 [==============================] - 3s 226us/step - loss: 1069904014.2608 - acc: 0.0079 - val_loss: 154101222655.3138 - val_acc: 0.0000e+00\n",
            "Epoch 33/100\n",
            "15124/15124 [==============================] - 3s 226us/step - loss: 1069820722.2632 - acc: 0.0089 - val_loss: 153920570041.9278 - val_acc: 0.0000e+00\n",
            "Epoch 34/100\n",
            "15124/15124 [==============================] - 3s 222us/step - loss: 1069685475.3865 - acc: 0.0079 - val_loss: 154386506763.3743 - val_acc: 0.0000e+00\n",
            "Epoch 35/100\n",
            "15124/15124 [==============================] - 3s 224us/step - loss: 1069613844.4496 - acc: 0.0090 - val_loss: 157018492145.7032 - val_acc: 0.0000e+00\n",
            "Epoch 36/100\n",
            "15124/15124 [==============================] - 3s 225us/step - loss: 1069460275.6034 - acc: 0.0074 - val_loss: 154019852856.1604 - val_acc: 0.0000e+00\n",
            "Epoch 37/100\n",
            "15124/15124 [==============================] - 3s 229us/step - loss: 1069317011.6914 - acc: 0.0069 - val_loss: 155691059172.9861 - val_acc: 0.0000e+00\n",
            "Epoch 38/100\n",
            "15124/15124 [==============================] - 3s 223us/step - loss: 1069174461.7961 - acc: 0.0073 - val_loss: 157078236836.3542 - val_acc: 0.0000e+00\n",
            "Epoch 39/100\n",
            "15124/15124 [==============================] - 3s 222us/step - loss: 1069160788.4688 - acc: 0.0057 - val_loss: 160718060915.2434 - val_acc: 0.0000e+00\n",
            "Epoch 40/100\n",
            "15124/15124 [==============================] - 3s 221us/step - loss: 1068936539.6229 - acc: 0.0069 - val_loss: 154817081955.6828 - val_acc: 0.0000e+00\n",
            "Epoch 41/100\n",
            "15124/15124 [==============================] - 3s 222us/step - loss: 1068836607.7784 - acc: 0.0051 - val_loss: 155855283291.4681 - val_acc: 0.0000e+00\n",
            "Epoch 42/100\n",
            "15124/15124 [==============================] - 3s 222us/step - loss: 1068674017.2753 - acc: 0.0058 - val_loss: 155630674470.5955 - val_acc: 0.0000e+00\n",
            "Epoch 43/100\n",
            "15124/15124 [==============================] - 3s 223us/step - loss: 1068540646.5335 - acc: 0.0053 - val_loss: 162863071571.8062 - val_acc: 0.0000e+00\n",
            "Epoch 44/100\n",
            "15124/15124 [==============================] - 3s 222us/step - loss: 1068384721.6541 - acc: 0.0047 - val_loss: 161555230106.7374 - val_acc: 0.0000e+00\n",
            "Epoch 45/100\n",
            "15124/15124 [==============================] - 3s 219us/step - loss: 1068293520.4713 - acc: 0.0058 - val_loss: 155470882297.7599 - val_acc: 0.0000e+00\n",
            "Epoch 46/100\n",
            "15124/15124 [==============================] - 3s 223us/step - loss: 1068088774.5148 - acc: 0.0040 - val_loss: 155379654037.6822 - val_acc: 0.0000e+00\n",
            "Epoch 47/100\n",
            "15124/15124 [==============================] - 3s 223us/step - loss: 1068016618.8323 - acc: 0.0041 - val_loss: 157087038808.2394 - val_acc: 0.0000e+00\n",
            "Epoch 48/100\n",
            "15124/15124 [==============================] - 3s 219us/step - loss: 1067887455.4515 - acc: 0.0045 - val_loss: 156605372585.6487 - val_acc: 0.0000e+00\n",
            "Epoch 49/100\n",
            "15124/15124 [==============================] - 3s 222us/step - loss: 1067703243.1018 - acc: 0.0041 - val_loss: 158958983105.9155 - val_acc: 0.0000e+00\n",
            "Epoch 50/100\n",
            "15124/15124 [==============================] - 3s 219us/step - loss: 1067522916.9944 - acc: 0.0038 - val_loss: 162137954552.4962 - val_acc: 0.0000e+00\n",
            "Epoch 51/100\n",
            "15124/15124 [==============================] - 3s 219us/step - loss: 1067404394.5074 - acc: 0.0034 - val_loss: 157239463520.7529 - val_acc: 0.0000e+00\n",
            "Epoch 52/100\n",
            "15124/15124 [==============================] - 3s 219us/step - loss: 1067282081.1627 - acc: 0.0028 - val_loss: 157528959787.2351 - val_acc: 0.0000e+00\n",
            "Epoch 53/100\n",
            "15124/15124 [==============================] - 3s 220us/step - loss: 1067048086.0514 - acc: 0.0030 - val_loss: 156598134732.4004 - val_acc: 0.0000e+00\n",
            "Epoch 54/100\n",
            "15124/15124 [==============================] - 3s 220us/step - loss: 1066802334.4429 - acc: 0.0030 - val_loss: 157104557140.2765 - val_acc: 0.0000e+00\n",
            "Epoch 55/100\n",
            "15124/15124 [==============================] - 3s 219us/step - loss: 1066829905.7258 - acc: 0.0030 - val_loss: 155591480561.2860 - val_acc: 0.0000e+00\n",
            "Epoch 56/100\n",
            "15124/15124 [==============================] - 3s 220us/step - loss: 1066671395.9265 - acc: 0.0023 - val_loss: 155239331014.0821 - val_acc: 0.0000e+00\n",
            "Epoch 57/100\n",
            "15124/15124 [==============================] - 3s 223us/step - loss: 1066264145.6432 - acc: 0.0028 - val_loss: 156917631016.9496 - val_acc: 1.5427e-04\n",
            "Epoch 58/100\n",
            "15124/15124 [==============================] - 3s 219us/step - loss: 1066105882.7017 - acc: 0.0018 - val_loss: 162894806624.5233 - val_acc: 0.0000e+00\n",
            "Epoch 59/100\n",
            "15124/15124 [==============================] - 3s 217us/step - loss: 1066226372.2770 - acc: 0.0026 - val_loss: 162071935926.3499 - val_acc: 0.0000e+00\n",
            "Epoch 60/100\n",
            "15124/15124 [==============================] - 3s 217us/step - loss: 1065852488.5485 - acc: 0.0025 - val_loss: 160609306758.5288 - val_acc: 0.0000e+00\n",
            "Epoch 61/100\n",
            "15124/15124 [==============================] - 3s 220us/step - loss: 1065597538.2308 - acc: 0.0022 - val_loss: 162153749373.0380 - val_acc: 0.0000e+00\n",
            "Epoch 62/100\n",
            "15124/15124 [==============================] - 3s 218us/step - loss: 1065336627.7220 - acc: 0.0022 - val_loss: 156292445045.1588 - val_acc: 0.0000e+00\n",
            "Epoch 63/100\n",
            "15124/15124 [==============================] - 3s 218us/step - loss: 1065315107.9903 - acc: 0.0024 - val_loss: 157640886445.7242 - val_acc: 0.0000e+00\n",
            "Epoch 64/100\n",
            "15124/15124 [==============================] - 3s 220us/step - loss: 1064968754.5763 - acc: 0.0017 - val_loss: 163989396507.3298 - val_acc: 0.0000e+00\n",
            "Epoch 65/100\n",
            "15124/15124 [==============================] - 3s 218us/step - loss: 1064935431.2551 - acc: 0.0019 - val_loss: 157165813260.9428 - val_acc: 0.0000e+00\n",
            "Epoch 66/100\n",
            "15124/15124 [==============================] - 3s 222us/step - loss: 1064709879.2183 - acc: 0.0020 - val_loss: 157874479606.7606 - val_acc: 0.0000e+00\n",
            "Epoch 67/100\n",
            "15124/15124 [==============================] - 3s 221us/step - loss: 1064583969.4605 - acc: 0.0019 - val_loss: 161595604322.9744 - val_acc: 1.5427e-04\n",
            "Epoch 68/100\n",
            "15124/15124 [==============================] - 3s 220us/step - loss: 1064339010.1131 - acc: 0.0015 - val_loss: 179198140658.2586 - val_acc: 0.0000e+00\n",
            "Epoch 69/100\n",
            "15124/15124 [==============================] - 3s 218us/step - loss: 1064096362.2250 - acc: 0.0016 - val_loss: 158904727638.1536 - val_acc: 0.0000e+00\n",
            "Epoch 70/100\n",
            "15124/15124 [==============================] - 3s 222us/step - loss: 1063898157.1500 - acc: 0.0018 - val_loss: 161357732463.8447 - val_acc: 0.0000e+00\n",
            "Epoch 71/100\n",
            "15124/15124 [==============================] - 3s 219us/step - loss: 1063857011.0450 - acc: 0.0015 - val_loss: 159035768640.8584 - val_acc: 0.0000e+00\n",
            "Epoch 72/100\n",
            "15124/15124 [==============================] - 3s 219us/step - loss: 1063600237.1976 - acc: 0.0013 - val_loss: 175806960869.0370 - val_acc: 0.0000e+00\n",
            "Epoch 73/100\n",
            "15124/15124 [==============================] - 3s 225us/step - loss: 1063237996.2679 - acc: 0.0014 - val_loss: 156469872588.0724 - val_acc: 0.0000e+00\n",
            "Epoch 74/100\n",
            "15124/15124 [==============================] - 3s 218us/step - loss: 1063037244.4241 - acc: 0.0017 - val_loss: 161394067950.6621 - val_acc: 0.0000e+00\n",
            "Epoch 75/100\n",
            "15124/15124 [==============================] - 3s 219us/step - loss: 1062947654.3593 - acc: 0.0016 - val_loss: 180639703800.1382 - val_acc: 0.0000e+00\n",
            "Epoch 76/100\n",
            "15124/15124 [==============================] - 3s 227us/step - loss: 1062618826.3700 - acc: 0.0015 - val_loss: 186710760247.5317 - val_acc: 0.0000e+00\n",
            "Epoch 77/100\n",
            "15124/15124 [==============================] - 3s 219us/step - loss: 1062432305.4369 - acc: 0.0019 - val_loss: 161341935788.9699 - val_acc: 0.0000e+00\n",
            "Epoch 78/100\n",
            "15124/15124 [==============================] - 3s 226us/step - loss: 1062101410.6765 - acc: 0.0018 - val_loss: 166407306612.6437 - val_acc: 0.0000e+00\n",
            "Epoch 79/100\n",
            "15124/15124 [==============================] - 4s 235us/step - loss: 1061949482.1759 - acc: 8.5956e-04 - val_loss: 207128969701.8451 - val_acc: 0.0000e+00\n",
            "Epoch 80/100\n",
            "15124/15124 [==============================] - 3s 228us/step - loss: 1061839502.2940 - acc: 0.0011 - val_loss: 228551723898.3524 - val_acc: 0.0000e+00\n",
            "Epoch 81/100\n",
            "15124/15124 [==============================] - 3s 229us/step - loss: 1061448389.1477 - acc: 0.0019 - val_loss: 231337454494.6868 - val_acc: 0.0000e+00\n",
            "Epoch 82/100\n",
            "15124/15124 [==============================] - 3s 220us/step - loss: 1061316572.7477 - acc: 5.9508e-04 - val_loss: 328109847715.8605 - val_acc: 0.0000e+00\n",
            "Epoch 83/100\n",
            "15124/15124 [==============================] - 3s 215us/step - loss: 1060860104.6584 - acc: 6.6120e-04 - val_loss: 235679997168.3283 - val_acc: 0.0000e+00\n",
            "Epoch 84/100\n",
            "15124/15124 [==============================] - 3s 220us/step - loss: 1060979512.5536 - acc: 0.0013 - val_loss: 187874467736.0901 - val_acc: 0.0000e+00\n",
            "Epoch 85/100\n",
            "15124/15124 [==============================] - 3s 220us/step - loss: 1060425382.2112 - acc: 6.6120e-04 - val_loss: 345140467663.3829 - val_acc: 0.0000e+00\n",
            "Epoch 86/100\n",
            "15124/15124 [==============================] - 3s 219us/step - loss: 1060059988.9548 - acc: 7.9344e-04 - val_loss: 284214640411.5125 - val_acc: 0.0000e+00\n",
            "Epoch 87/100\n",
            "15124/15124 [==============================] - 3s 217us/step - loss: 1060178447.4643 - acc: 9.9180e-04 - val_loss: 186972791028.3098 - val_acc: 0.0000e+00\n",
            "Epoch 88/100\n",
            "15124/15124 [==============================] - 3s 217us/step - loss: 1059778033.8727 - acc: 9.9180e-04 - val_loss: 318022251133.5909 - val_acc: 0.0000e+00\n",
            "Epoch 89/100\n",
            "15124/15124 [==============================] - 3s 220us/step - loss: 1059555697.2811 - acc: 0.0013 - val_loss: 215704527481.5625 - val_acc: 0.0000e+00\n",
            "Epoch 90/100\n",
            "15124/15124 [==============================] - 3s 217us/step - loss: 1059335661.4186 - acc: 9.9180e-04 - val_loss: 170061964820.7208 - val_acc: 0.0000e+00\n",
            "Epoch 91/100\n",
            "15124/15124 [==============================] - 3s 218us/step - loss: 1059034102.7615 - acc: 9.2568e-04 - val_loss: 162762348614.3055 - val_acc: 0.0000e+00\n",
            "Epoch 92/100\n",
            "15124/15124 [==============================] - 3s 220us/step - loss: 1059000660.7280 - acc: 5.2896e-04 - val_loss: 179512795902.9769 - val_acc: 0.0000e+00\n",
            "Epoch 93/100\n",
            "15124/15124 [==============================] - 3s 221us/step - loss: 1058700848.9344 - acc: 0.0013 - val_loss: 484400119429.6057 - val_acc: 0.0000e+00\n",
            "Epoch 94/100\n",
            "15124/15124 [==============================] - 3s 216us/step - loss: 1058390364.3281 - acc: 8.5956e-04 - val_loss: 176257380276.8726 - val_acc: 0.0000e+00\n",
            "Epoch 95/100\n",
            "15124/15124 [==============================] - 3s 220us/step - loss: 1058122421.3358 - acc: 7.2732e-04 - val_loss: 203202511584.8788 - val_acc: 0.0000e+00\n",
            "Epoch 96/100\n",
            "15124/15124 [==============================] - 3s 221us/step - loss: 1057793739.3363 - acc: 8.5956e-04 - val_loss: 165377620752.7405 - val_acc: 0.0000e+00\n",
            "Epoch 97/100\n",
            "15124/15124 [==============================] - 3s 217us/step - loss: 1057639764.0132 - acc: 7.2732e-04 - val_loss: 553912376320.9677 - val_acc: 0.0000e+00\n",
            "Epoch 98/100\n",
            "15124/15124 [==============================] - 3s 216us/step - loss: 1057291178.3998 - acc: 0.0012 - val_loss: 487347830212.0617 - val_acc: 0.0000e+00\n",
            "Epoch 99/100\n",
            "15124/15124 [==============================] - 3s 219us/step - loss: 1056844877.0124 - acc: 0.0011 - val_loss: 177966453781.0141 - val_acc: 0.0000e+00\n",
            "Epoch 100/100\n",
            "15124/15124 [==============================] - 4s 232us/step - loss: 1056830114.6763 - acc: 8.5956e-04 - val_loss: 291020635488.4641 - val_acc: 0.0000e+00\n"
          ],
          "name": "stdout"
        }
      ]
    },
    {
      "cell_type": "code",
      "metadata": {
        "id": "3vZ2ocYkvOBL",
        "colab_type": "code",
        "colab": {
          "base_uri": "https://localhost:8080/",
          "height": 573
        },
        "outputId": "b4cce08d-df15-46ea-c2dc-9f2d288961bb"
      },
      "source": [
        "plt.plot(hist.history['loss'])\n",
        "plt.plot(hist.history['val_loss'])\n",
        "plt.title('Model loss')\n",
        "plt.ylabel('Loss')\n",
        "plt.xlabel('Epoch')\n",
        "plt.legend(['Train', 'Test'], loc='upper left')\n",
        "plt.show()\n",
        "#Plot both the training accuracy as well as the validation accuracy on the same plot\n",
        "plt.plot(hist.history['acc'])\n",
        "plt.plot(hist.history['val_acc'])\n",
        "plt.title('Model accuracy')\n",
        "plt.ylabel('Accuracy')\n",
        "plt.xlabel('Epoch')\n",
        "plt.legend(['Train', 'Test'], loc='upper left')\n",
        "plt.show()"
      ],
      "execution_count": 114,
      "outputs": [
        {
          "output_type": "display_data",
          "data": {
            "image/png": "[encoded data removed]",
            "text/plain": [
              "<Figure size 432x288 with 1 Axes>"
            ]
          },
          "metadata": {
            "tags": [],
            "needs_background": "light"
          }
        },
        {
          "output_type": "display_data",
          "data": {
            "image/png": "[encoded data removed]",
            "text/plain": [
              "<Figure size 432x288 with 1 Axes>"
            ]
          },
          "metadata": {
            "tags": [],
            "needs_background": "light"
          }
        }
      ]
    }
  ]
}