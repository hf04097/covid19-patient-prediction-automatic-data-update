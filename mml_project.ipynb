{
 "cells": [
  {
   "cell_type": "code",
   "execution_count": 0,
   "metadata": {
    "colab": {
     "base_uri": "https://localhost:8080/",
     "height": 54
    },
    "colab_type": "code",
    "id": "AmPibLmOUvTg",
    "outputId": "e5c6ef66-d397-4d51-9df9-f5970b08ed81"
   },
   "outputs": [
    {
     "name": "stdout",
     "output_type": "stream",
     "text": [
      "['Egypt', 'Philippines', 'Senegal', 'Montenegro', 'Slovenia', 'Bolivia', 'Hungary', 'Andorra', 'Kazakhstan', 'Mali', 'Guyana', 'Switzerland', 'Serbia', 'Romania', 'Jordan', 'Guatemala', 'Congo (Kinshasa)', 'Lebanon', 'Italy', 'Tanzania', 'Israel', 'Dominica', 'Liechtenstein', 'Togo', 'China', 'Libya', 'Mexico', 'India', 'Belgium', 'Morocco', 'Slovakia', 'Paraguay', 'Antigua and Barbuda', 'Sao Tome and Principe', 'Greece', 'Brazil', 'Iran', 'Chile', 'MS Zaandam', 'Costa Rica', 'Liberia', 'Honduras', 'Indonesia', 'United Kingdom', 'Saint Kitts and Nevis', 'Haiti', 'Japan', 'Kyrgyzstan', 'Latvia', 'Angola', 'Panama', 'Oman', 'Congo (Brazzaville)', 'Denmark', 'Saint Vincent and the Grenadines', 'Gabon', 'Cuba', 'Laos', 'Papua New Guinea', 'Maldives', 'Nepal', 'Tunisia', 'Djibouti', 'France', 'Benin', 'Syria', 'Zambia', 'Canada', 'Moldova', 'Malta', 'Estonia', 'Zimbabwe', 'West Bank and Gaza', 'Iraq', 'Turkey', 'Grenada', 'Guinea-Bissau', 'Colombia', 'Lithuania', 'Namibia', 'Nigeria', 'Ukraine', 'Malaysia', 'Argentina', 'Sierra Leone', 'Burkina Faso', 'Gambia', 'Afghanistan', 'Qatar', 'Central African Republic', 'Eswatini', 'Mauritius', 'Malawi', 'Taiwan*', 'Luxembourg', 'Bosnia and Herzegovina', 'Ecuador', 'Mongolia', 'Korea, South', 'Sweden', 'Madagascar', 'Iceland', 'Algeria', 'Yemen', 'Botswana', 'Saudi Arabia', 'Fiji', 'Brunei', 'Western Sahara', 'Cambodia', 'Portugal', 'Ireland', 'North Macedonia', 'Thailand', 'Belize', 'Chad', 'Norway', 'Armenia', 'Singapore', 'Ethiopia', 'Mauritania', 'Georgia', 'Azerbaijan', 'Germany', 'US', 'Cyprus', 'Venezuela', 'Mozambique', 'Cameroon', 'Burma', 'Peru', 'Sri Lanka', 'Trinidad and Tobago', \"Cote d'Ivoire\", 'Netherlands', 'Rwanda', 'Dominican Republic', 'Ghana', 'Russia', 'South Africa', 'Jamaica', 'San Marino', 'Equatorial Guinea', 'Timor-Leste', 'New Zealand', 'Kosovo', 'Belarus', 'Spain', 'Seychelles', 'Sudan', 'Poland', 'United Arab Emirates', 'Bangladesh', 'Suriname', 'Holy See', 'Kenya', 'Uruguay', 'Bulgaria', 'Burundi', 'Somalia', 'Niger', 'Eritrea', 'Nicaragua', 'Vietnam', 'Uzbekistan', 'Cabo Verde', 'Uganda', 'Bahrain', 'Saint Lucia', 'Diamond Princess', 'South Sudan', 'Bahamas', 'Kuwait', 'Croatia', 'Albania', 'Bhutan', 'Australia', 'Finland', 'Czechia', 'Monaco', 'Pakistan', 'Austria', 'El Salvador', 'Guinea', 'Barbados']\n"
     ]
    }
   ],
   "source": [
    "# import pandas as pd\n",
    "# url = 'https://raw.githubusercontent.com/CSSEGISandData/COVID-19/master/csse_covid_19_data/csse_covid_19_time_series/time_series_covid19_confirmed_global.csv'\n",
    "\n",
    "# df = pd.read_csv(url)\n",
    "# countries = list(set(df[df.columns[1]]))\n",
    "# print(countries)"
   ]
  },
  {
   "cell_type": "markdown",
   "metadata": {
    "colab_type": "text",
    "id": "hZP8J64iLDjN"
   },
   "source": [
    "**Choosing Countries** <br>\n",
    "A total of 25 countires have been choosen. \n",
    "\n",
    "\n",
    "*   The first 10 countries are those with high new cases and the include Mexico, Brazil, Ukraine, India, USA, Panama, Hungary, Pakistan, Israel, Bulgaria. (Source : https://www.worldometers.info/coronavirus , retrieved on : April 24, 2020, information last updated on: retrieved on : April 24, 2020).\n",
    "\n",
    "*  Next 10 countries are those with lowest new cases and they include Spain, Italy, France, Germany, UK, Turkey, Iran, Russia, Belgium, Canada.  (Source : https://www.worldometers.info/coronavirus , retrieved on : April 24, 2020, information last updated on retrieved on : April 24, 2020). \n",
    "\n",
    "*  Last 5 countries are those with GDP growth similar to Pakistan's. The include Korea, Australia, Norway, Nigeria, United Arab Emirates. (Source : http://statisticstimes.com/economy/projected-world-gdp-ranking.php , retrieved on : April 24, 2020, information last on 20 Feb 2020).\n",
    " \n",
    "\n"
   ]
  },
  {
   "cell_type": "code",
   "execution_count": 0,
   "metadata": {
    "colab": {},
    "colab_type": "code",
    "id": "bYQTQn-VJhEh"
   },
   "outputs": [],
   "source": [
    "countries = [\"Mexico\", \"Brazil\", \"Ukraine\", \"India\", \"USA\", \"Panama\", \"Hungary\", \"Pakistan\", \"Israel\", \"Bulgaria\",\n",
    "             \"Spain\", \"Italy\", \"France\", \"Germany\", \"UK\", \"Turkey\", \"Iran\", \"Russia\", \"Belgium\", \"Canada\",\n",
    "             \" Korea\", \"Australia\", \"Norway\", \"Nigeria\", \"United Arab Emirates\"]"
   ]
  },
  {
   "cell_type": "code",
   "execution_count": 0,
   "metadata": {
    "colab": {},
    "colab_type": "code",
    "id": "q0I6oTJFaf-u"
   },
   "outputs": [],
   "source": [
    "from datetime import datetime, timedelta\n",
    "\n",
    "date =  datetime.strptime('2020-01-22','%Y-%m-%d')\n",
    "today_date = datetime.today()\n",
    "diff = (today_date - date).days\n",
    "count= 1\n",
    "\n",
    "while(count!= diff):\n",
    "  i_date = (date + timedelta(days=count)).strftime('%Y-%m-%d')\n",
    "  count+=1\n",
    "  print(i_date)"
   ]
  },
  {
   "cell_type": "markdown",
   "metadata": {
    "colab_type": "text",
    "id": "rNpx5numa-q6"
   },
   "source": [
    "- variables including in from the api are  [\"country\",\"confirmed\",\"deaths\",\"recovered\",\"confirmed_diff\",\"deaths_diff\",\"recovered_diff\",\"active\",\"active_diff\",\"fatality_rate\"]\n",
    "\n",
    "- only including the cases are being available in the dataset.\n",
    "- in place of date will input number of days since first case would be my variable."
   ]
  },
  {
   "cell_type": "code",
   "execution_count": 0,
   "metadata": {
    "colab": {},
    "colab_type": "code",
    "id": "F-9uGjV68O9g"
   },
   "outputs": [],
   "source": [
    "import requests\n",
    "import csv\n",
    "import os.path\n",
    "from datetime import datetime, timedelta\n",
    "\n",
    "url = \"https://covid-19-statistics.p.rapidapi.com/reports\"\n",
    "variables = [\"country\",\"date\",\"confirmed\",\"deaths\",\"recovered\",\"confirmed_diff\",\"deaths_diff\",\"recovered_diff\",\"active\",\"active_diff\",\"fatality_rate\"]\n",
    "\n",
    "date =  datetime.strptime('2020-01-22','%Y-%m-%d')\n",
    "today_date = datetime.today()\n",
    "diff = (today_date - date).days\n",
    "count= 0\n",
    "\n",
    "with open(\"corona_global.csv\", 'w', newline='') as file:\n",
    "  writer = csv.writer(file)\n",
    "  writer.writerow(variables)\n",
    "\n",
    "  while(count!= diff):\n",
    "    count+=1\n",
    "    print(count)\n",
    "    i_date = (date + timedelta(days=count)).strftime('%Y-%m-%d')\n",
    "    for i in range(len(countries)):\n",
    "\n",
    "      querystring = {\"region_name\":countries[i],\"date\":i_date}\n",
    "\n",
    "      headers = {\n",
    "          'x-rapidapi-host': \"covid-19-statistics.p.rapidapi.com\",\n",
    "          'x-rapidapi-key': \"5139f761cdmsh9dae448cf77f2fcp159a89jsn323fea496f96\"\n",
    "          }\n",
    "      response = requests.request(\"GET\", url, headers=headers, params=querystring)\n",
    "\n",
    "      data = response.text\n",
    "      if len(data) > 18:\n",
    "        data = \" \".join(data.split())[15:len(data)-9].split(' ')\n",
    "        b = [countries[i],data[1][:len(data[1])-1],data[3][:len(data[3])-1],data[5][:len(data[5])-1],data[7][:len(data[7])-1],data[9][:len(data[9])-1],data[11][:len(data[11])-1],data[13][:len(data[13])-1],data[18][:len(data[18])-1],data[20][:len(data[20])-1],data[22][:len(data[22])-1]]\n",
    "        writer.writerow(b)\n",
    "      \n",
    "\n",
    "    "
   ]
  },
  {
   "cell_type": "code",
   "execution_count": 0,
   "metadata": {
    "colab": {
     "base_uri": "https://localhost:8080/",
     "height": 442
    },
    "colab_type": "code",
    "id": "bfwjTERbDeSX",
    "outputId": "f96549e9-9e34-4a31-f76b-a18eea4a6831"
   },
   "outputs": [
    {
     "name": "stdout",
     "output_type": "stream",
     "text": [
      "{\n",
      "    \"data\": [\n",
      "        {\n",
      "            \"date\": \"2020-04-20\",\n",
      "            \"confirmed\": 7265,\n",
      "            \"deaths\": 43,\n",
      "            \"recovered\": 1360,\n",
      "            \"confirmed_diff\": 484,\n",
      "            \"deaths_diff\": 2,\n",
      "            \"recovered_diff\": 74,\n",
      "            \"last_update\": \"2020-04-20 23:36:27\",\n",
      "            \"active\": 5862,\n",
      "            \"active_diff\": 408,\n",
      "            \"fatality_rate\": 0.0059,\n",
      "            \"region\": {\n",
      "                \"iso\": \"ARE\",\n",
      "                \"name\": \"United Arab Emirates\",\n",
      "                \"province\": \"\",\n",
      "                \"lat\": \"23.4241\",\n",
      "                \"long\": \"53.8478\",\n",
      "                \"cities\": []\n",
      "            }\n",
      "        }\n",
      "    ]\n",
      "}\n"
     ]
    }
   ],
   "source": [
    "url = \"https://covid-19-statistics.p.rapidapi.com/reports\"\n",
    "querystring = {\"region_name\":\"United Arab Emirates\",\"date\":\"2020-04-20\"}\n",
    "\n",
    "headers = {\n",
    "    'x-rapidapi-host': \"covid-19-statistics.p.rapidapi.com\",\n",
    "    'x-rapidapi-key': \"5139f761cdmsh9dae448cf77f2fcp159a89jsn323fea496f96\"\n",
    "    }\n",
    "response = requests.request(\"GET\", url, headers=headers, params=querystring)\n",
    "\n",
    "print(response.text)\n"
   ]
  },
  {
   "cell_type": "code",
   "execution_count": 0,
   "metadata": {
    "colab": {
     "base_uri": "https://localhost:8080/",
     "height": 51
    },
    "colab_type": "code",
    "id": "CIztCWSEPThQ",
    "outputId": "da3143ee-ecf0-4f0f-e148-4adebe69723c"
   },
   "outputs": [
    {
     "name": "stdout",
     "output_type": "stream",
     "text": [
      "['\"2020-04-22\"', '10076', '212', '2156', '511', '11', '83', '7708', '417', '0.021']\n",
      "10 10\n"
     ]
    }
   ],
   "source": [
    "#b = [a[a.index('date\":')+1][1:len(a[a.index('date\":')+1])-2], a[a.index('\"confirmed\":')+1]]\n",
    "b = [a[1][:len(a[1])-1],a[3][:len(a[3])-1],a[5][:len(a[5])-1],a[7][:len(a[7])-1],a[9][:len(a[9])-1],a[11][:len(a[11])-1],a[13][:len(a[13])-1],a[18][:len(a[18])-1],a[20][:len(a[20])-1],a[22][:len(a[22])-1]]\n",
    "print(b)\n",
    "variables = [\"country\",\"confirmed\",\"deaths\",\"recovered\",\"confirmed_diff\",\"deaths_diff\",\"recovered_diff\",\"active\",\"active_diff\",\"fatality_rate\"]\n",
    "print(len(b),len(variables))"
   ]
  },
  {
   "cell_type": "code",
   "execution_count": 0,
   "metadata": {
    "colab": {},
    "colab_type": "code",
    "id": "sRw4d2PQRcxv"
   },
   "outputs": [],
   "source": [
    "gdp_data =  !wget -O gdp.csv 'http://databank.worldbank.org/data/download/GDP.csv'"
   ]
  },
  {
   "cell_type": "code",
   "execution_count": 0,
   "metadata": {
    "colab": {
     "base_uri": "https://localhost:8080/",
     "height": 391
    },
    "colab_type": "code",
    "id": "uh0A371OfKeK",
    "outputId": "8d0ce673-10b2-40eb-a210-6702d3bb88ac"
   },
   "outputs": [
    {
     "name": "stdout",
     "output_type": "stream",
     "text": [
      "                 Country           GDP\n",
      "4          United States   20,544,343 \n",
      "7                Germany    3,947,620 \n",
      "9                 France    2,777,535 \n",
      "10                 India    2,718,732 \n",
      "11                 Italy    2,083,864 \n",
      "12                Brazil    1,868,626 \n",
      "13                Canada    1,713,342 \n",
      "16             Australia    1,433,904 \n",
      "17                 Spain    1,419,042 \n",
      "18                Mexico    1,220,699 \n",
      "22                Turkey      771,350 \n",
      "26               Belgium      542,761 \n",
      "31                Norway      434,167 \n",
      "32  United Arab Emirates      414,179 \n",
      "33               Nigeria      397,270 \n",
      "35                Israel      370,588 \n",
      "43              Pakistan      314,588 \n",
      "59               Hungary      157,883 \n",
      "61               Ukraine      130,832 \n",
      "77              Bulgaria       65,133 \n",
      "78                Panama       65,055 \n"
     ]
    }
   ],
   "source": [
    "import requests\n",
    "import pandas as pd\n",
    "\n",
    "countries_diff_format = [\"Mexico\", \"Brazil\", \"Ukraine\", \"India\", \"United States\", \"Panama\", \"Hungary\", \"Pakistan\", \"Israel\", \"Bulgaria\",\n",
    "             \"Spain\", \"Italy\", \"France\", \"Germany\", \"UK\", \"Turkey\", \"Iran\", \"Russia\", \"Belgium\", \"Canada\",\n",
    "             \"Korea\", \"Australia\", \"Norway\", \"Nigeria\", \"United Arab Emirates\"]\n",
    "\n",
    "gdpf = pd.read_csv('http://databank.worldbank.org/data/download/GDP.csv')\n",
    "\n",
    "\n",
    "gdpf = gdpf.loc[:,gdpf.columns[[3,4]]]\n",
    "gdpf.columns = [\"Country\",  \"GDP\"]\n",
    "gdpf = gdpf.loc[gdpf['Country'].isin(countries_diff_format)]\n",
    "\n",
    "print(gdpf)\n",
    "gdpf.to_csv('gdp.csv')\n"
   ]
  },
  {
   "cell_type": "markdown",
   "metadata": {
    "colab_type": "text",
    "id": "2XCW_c3neIu8"
   },
   "source": [
    "# From this cell"
   ]
  },
  {
   "cell_type": "code",
   "execution_count": 1,
   "metadata": {
    "colab": {},
    "colab_type": "code",
    "id": "n5o1X1vZGFPI"
   },
   "outputs": [],
   "source": [
    "import pandas as pd\n",
    "import matplotlib.pyplot as plt\n",
    "import numpy as np\n",
    "from datetime import datetime\n"
   ]
  },
  {
   "cell_type": "code",
   "execution_count": 134,
   "metadata": {
    "colab": {},
    "colab_type": "code",
    "id": "NoUTJO6lKa8Z"
   },
   "outputs": [],
   "source": [
    "countries_diff_format = [\"Mexico\", \"Brazil\", \"Ukraine\", \"India\", \"United States\", \"Panama\", \"Hungary\", \"Pakistan\", \"Israel\", \"Bulgaria\",\n",
    "             \"Spain\", \"Italy\", \"France\", \"Germany\", \"UK\", \"Turkey\", \"Iran\", \"Russia\", \"Belgium\", \"Canada\",\n",
    "             \"Korea\", \"Australia\", \"Norway\", \"Nigeria\", \"United Arab Emirates\"]\n",
    "data = pd.read_csv('https://raw.githubusercontent.com/owid/covid-19-data/master/public/data/owid-covid-data.csv',parse_dates=['date'])\n",
    "data = data.drop('new_cases', 1)\n",
    "data = data.drop('total_deaths', 1)\n",
    "data = data.drop('new_deaths', 1)\n",
    "data = data.drop('total_cases_per_million', 1)\n",
    "data = data.drop('new_cases_per_million', 1)\n",
    "data = data.drop('total_deaths_per_million', 1)\n",
    "data = data.drop('new_deaths_per_million', 1)\n",
    "data = data.drop('iso_code', 1)\n",
    "data = data.drop('total_tests',1)\n",
    "data = data.drop('new_tests',1)\n",
    "data = data.drop('new_tests_smoothed',1)\n",
    "data = data.drop('total_tests_per_thousand',1)\n",
    "data = data.drop('new_tests_per_thousand',1)\n",
    "data = data.drop('new_tests_smoothed_per_thousand',1)\n",
    "data = data.drop('tests_units',1)\n",
    "data = data.loc[data['location'].isin(countries_diff_format)]\n",
    "data = data.fillna(0)\n",
    "\n",
    "#data['date'] =pd.to_datetime(data.date)\n",
    "data = data.sort_values(by='date',ascending=True)\n",
    "\n",
    "data['row_number'] = np.arange(len(data))\n"
   ]
  },
  {
   "cell_type": "code",
   "execution_count": 113,
   "metadata": {},
   "outputs": [
    {
     "data": {
      "text/plain": [
       "Index(['location', 'date', 'total_cases', 'total_deaths', 'total_tests',\n",
       "       'stringency_index', 'population', 'population_density', 'median_age',\n",
       "       'aged_65_older', 'aged_70_older', 'gdp_per_capita', 'extreme_poverty',\n",
       "       'cvd_death_rate', 'diabetes_prevalence', 'female_smokers',\n",
       "       'male_smokers', 'handwashing_facilities', 'hospital_beds_per_100k',\n",
       "       'row_number'],\n",
       "      dtype='object')"
      ]
     },
     "execution_count": 113,
     "metadata": {},
     "output_type": "execute_result"
    }
   ],
   "source": [
    "data.columns"
   ]
  },
  {
   "cell_type": "code",
   "execution_count": 135,
   "metadata": {
    "colab": {
     "base_uri": "https://localhost:8080/",
     "height": 153
    },
    "colab_type": "code",
    "id": "IJb4NDQjuaYm",
    "outputId": "1e0a3785-f034-481c-eb57-d41b4c6cdfaf"
   },
   "outputs": [
    {
     "name": "stdout",
     "output_type": "stream",
     "text": [
      "                   location       date  total_cases  stringency_index  \\\n",
      "507    United Arab Emirates 2019-12-31            0               0.0   \n",
      "15079              Pakistan 2019-12-31            0               0.0   \n",
      "953               Australia 2019-12-31            0               0.0   \n",
      "14479                Norway 2019-12-31            0               0.0   \n",
      "14113               Nigeria 2019-12-31            0               0.0   \n",
      "\n",
      "        population  population_density  median_age  aged_65_older  \\\n",
      "507      9890400.0             112.442        34.0          1.144   \n",
      "15079  220892331.0             255.573        23.5          4.495   \n",
      "953     25499881.0               3.202        37.9         15.504   \n",
      "14479    5421242.0              14.462        39.7         16.821   \n",
      "14113  206139587.0             209.588        18.1          2.751   \n",
      "\n",
      "       aged_70_older  gdp_per_capita  ...  Turkey  Iran  Russia  Belgium  \\\n",
      "507            0.526       67293.483  ...       0     0       0        0   \n",
      "15079          2.780        5034.708  ...       0     0       0        0   \n",
      "953           10.129       44648.710  ...       0     0       0        0   \n",
      "14479         10.813       64800.057  ...       0     0       0        0   \n",
      "14113          1.447        5338.454  ...       0     0       0        0   \n",
      "\n",
      "       Canada  Korea  Australia  Norway  Nigeria  United Arab Emirates  \n",
      "507         0      0          0       0        0                     1  \n",
      "15079       0      0          0       0        0                     0  \n",
      "953         0      0          1       0        0                     0  \n",
      "14479       0      0          0       1        0                     0  \n",
      "14113       0      0          0       0        1                     0  \n",
      "\n",
      "[5 rows x 43 columns]\n"
     ]
    }
   ],
   "source": [
    "for i in countries_diff_format:\n",
    "  data[i] = 0\n",
    "\n",
    "for i in countries_diff_format:\n",
    "  data.loc[data['location'] == i, i] = 1\n",
    "\n",
    "print(data.head())\n",
    "data = data.drop('location',axis = 1)\n"
   ]
  },
  {
   "cell_type": "code",
   "execution_count": 136,
   "metadata": {
    "colab": {
     "base_uri": "https://localhost:8080/",
     "height": 493
    },
    "colab_type": "code",
    "id": "_5X4UUzK6eCf",
    "outputId": "01fe8488-e081-4f72-b486-80845d2b6361",
    "scrolled": false
   },
   "outputs": [],
   "source": [
    "df = data\n",
    "df = df.drop('date',axis = 1)\n",
    "\n",
    "#df.set_index(['row_number'])"
   ]
  },
  {
   "cell_type": "code",
   "execution_count": 137,
   "metadata": {
    "colab": {
     "base_uri": "https://localhost:8080/",
     "height": 221
    },
    "colab_type": "code",
    "id": "vxUurQfAwMBK",
    "outputId": "57a5332e-9088-47ab-e244-b00857ed1353"
   },
   "outputs": [],
   "source": [
    "pak_cases = data[data['Pakistan'] == 1] "
   ]
  },
  {
   "cell_type": "code",
   "execution_count": 138,
   "metadata": {
    "colab": {
     "base_uri": "https://localhost:8080/",
     "height": 602
    },
    "colab_type": "code",
    "id": "Lo0GeRJvEirZ",
    "outputId": "8945b1ac-5f63-43d9-a2b4-aab998892220"
   },
   "outputs": [
    {
     "data": {
      "image/png": "[encoded data removed]",
      "text/plain": [
       "<Figure size 1440x720 with 1 Axes>"
      ]
     },
     "metadata": {
      "needs_background": "light"
     },
     "output_type": "display_data"
    }
   ],
   "source": [
    "# Plotting the target: Total cases\n",
    "\n",
    "plt.figure(figsize=(20,10))\n",
    "\n",
    "plt.plot(pak_cases[\"date\"], pak_cases['total_cases'], '.', color='red', label='Original data', alpha=0.8)\n",
    "plt.xlabel('Datetime [-]', fontsize=20)\n",
    "plt.ylabel(r'total cases', fontsize=20)\n",
    "\n",
    "plt.xticks(fontsize=20, rotation=45)\n",
    "plt.yticks(fontsize=20)\n",
    "\n",
    "plt.title('Total Covid patients till today', fontsize=28)\n",
    "\n",
    "plt.tight_layout()"
   ]
  },
  {
   "cell_type": "code",
   "execution_count": 139,
   "metadata": {
    "colab": {
     "base_uri": "https://localhost:8080/",
     "height": 265
    },
    "colab_type": "code",
    "id": "sCo_nR9rGvv3",
    "outputId": "cef7d33f-04d5-4e41-b0ed-736b4a9f2f0f"
   },
   "outputs": [
    {
     "data": {
      "image/png": "[encoded data removed]",
      "text/plain": [
       "<Figure size 432x288 with 1 Axes>"
      ]
     },
     "metadata": {
      "needs_background": "light"
     },
     "output_type": "display_data"
    }
   ],
   "source": [
    "plt.plot(pak_cases['total_cases'])\n",
    "plt.show()"
   ]
  },
  {
   "cell_type": "code",
   "execution_count": 140,
   "metadata": {
    "colab": {},
    "colab_type": "code",
    "id": "PfT8fzcCV3_D"
   },
   "outputs": [],
   "source": [
    "X = df.drop(['total_cases'], axis=1)\n",
    "\n",
    "y = df['total_cases']\n",
    "\n",
    "train_size = 0.7\n",
    "\n",
    "split_index = int(df.shape[0]*train_size) #index at which the datafram will be split\n",
    "\n",
    "X_train = X[:split_index]\n",
    "y_train = y[:split_index]\n",
    "\n",
    "X_test = X[split_index:]\n",
    "y_test = y[split_index:]"
   ]
  },
  {
   "cell_type": "code",
   "execution_count": 110,
   "metadata": {
    "colab": {
     "base_uri": "https://localhost:8080/",
     "height": 34
    },
    "colab_type": "code",
    "id": "Oe-pxrMKNmg_",
    "outputId": "e74982fb-609a-46e2-9b71-84ed4c9508db"
   },
   "outputs": [],
   "source": [
    "from keras.models import Sequential\n",
    "from keras.layers.core import Dense, Activation, Dropout, Flatten\n",
    "from keras.layers.recurrent import LSTM\n",
    "from keras.layers import Dense, Conv1D, MaxPool2D, Flatten, Dropout\n",
    "from keras.optimizers import Adam\n",
    "from time import time\n",
    "import tensorflow as tf\n",
    "from sklearn.preprocessing import StandardScaler"
   ]
  },
  {
   "cell_type": "code",
   "execution_count": 141,
   "metadata": {
    "colab": {
     "base_uri": "https://localhost:8080/",
     "height": 231
    },
    "colab_type": "code",
    "id": "Ak7fKp7FLh_H",
    "outputId": "673c04c3-88a8-47bc-ba36-3096d602305d"
   },
   "outputs": [
    {
     "name": "stdout",
     "output_type": "stream",
     "text": [
      "((2184, 40), (2184,))\n",
      "((937, 40), (937,))\n"
     ]
    }
   ],
   "source": [
    "scalerX = StandardScaler(with_mean=True, with_std=True).fit(X_train)\n",
    "\n",
    "X_train = scalerX.transform(X_train)\n",
    "X_test = scalerX.transform(X_test)\n",
    "\n",
    "print((X_train.shape, y_train.shape))\n",
    "\n",
    "print((X_test.shape, y_test.shape))"
   ]
  },
  {
   "cell_type": "markdown",
   "metadata": {},
   "source": [
    "## Linear Regression"
   ]
  },
  {
   "cell_type": "code",
   "execution_count": 142,
   "metadata": {
    "colab": {
     "base_uri": "https://localhost:8080/",
     "height": 34
    },
    "colab_type": "code",
    "id": "8ZlCbn91N3ow",
    "outputId": "a291e1bb-2f43-44d9-a9f5-edf6fd237b13"
   },
   "outputs": [
    {
     "data": {
      "text/plain": [
       "0.059401309028957905"
      ]
     },
     "execution_count": 142,
     "metadata": {},
     "output_type": "execute_result"
    }
   ],
   "source": [
    "from sklearn.linear_model import LinearRegression\n",
    "\n",
    "model = LinearRegression()\n",
    "model.fit(X_train, y_train)\n",
    "model.score(X_test, y_test)"
   ]
  },
  {
   "cell_type": "code",
   "execution_count": 143,
   "metadata": {
    "colab": {
     "base_uri": "https://localhost:8080/",
     "height": 34
    },
    "colab_type": "code",
    "id": "SOhYRFRvcB_7",
    "outputId": "5121512d-d611-4280-f364-afba7829d0df"
   },
   "outputs": [
    {
     "name": "stdout",
     "output_type": "stream",
     "text": [
      "66972271237.86151\n"
     ]
    }
   ],
   "source": [
    "y_pred = model.predict(X_test)\n",
    "\n",
    "from sklearn.metrics import mean_squared_error\n",
    "print(mean_squared_error(y_test,y_pred))"
   ]
  },
  {
   "cell_type": "code",
   "execution_count": 144,
   "metadata": {
    "colab": {
     "base_uri": "https://localhost:8080/",
     "height": 1000
    },
    "colab_type": "code",
    "id": "AVlEcl4r6QFG",
    "outputId": "f041a27f-89b2-497b-f12f-aaa006d872fa"
   },
   "outputs": [],
   "source": [
    "X_test = X[split_index:]\n",
    "pak_indices_dates = []\n",
    "\n",
    "pak_indices = list(X_test[X_test['Pakistan']==1].index)\n",
    "\n",
    "for i in pak_indices:\n",
    "    pak_indices_dates.append(data.date.loc[[i]].values[0])\n"
   ]
  },
  {
   "cell_type": "code",
   "execution_count": 145,
   "metadata": {},
   "outputs": [
    {
     "name": "stdout",
     "output_type": "stream",
     "text": [
      "(41,)\n"
     ]
    },
    {
     "name": "stderr",
     "output_type": "stream",
     "text": [
      "C:\\ProgramData\\Anaconda3\\lib\\site-packages\\ipykernel_launcher.py:2: SettingWithCopyWarning: \n",
      "A value is trying to be set on a copy of a slice from a DataFrame.\n",
      "Try using .loc[row_indexer,col_indexer] = value instead\n",
      "\n",
      "See the caveats in the documentation: http://pandas.pydata.org/pandas-docs/stable/user_guide/indexing.html#returning-a-view-versus-a-copy\n",
      "  \n"
     ]
    }
   ],
   "source": [
    "X_test_1 = X[split_index:]\n",
    "X_test_1[\"test_number\"] = np.arange(len(X_test_1))\n",
    "y_pred_pak_indices = X_test_1[X_test_1['Pakistan']==1]\n",
    "pak_y_pred= y_pred[y_pred_pak_indices.test_number.tolist()]\n",
    "print(pak_y_pred.shape)\n",
    "\n"
   ]
  },
  {
   "cell_type": "code",
   "execution_count": 146,
   "metadata": {},
   "outputs": [
    {
     "name": "stdout",
     "output_type": "stream",
     "text": [
      "(41,)\n"
     ]
    }
   ],
   "source": [
    "pak_y_test= y_test.to_numpy()[y_pred_pak_indices.test_number.tolist()]\n",
    "print(pak_y_test.shape)\n"
   ]
  },
  {
   "cell_type": "code",
   "execution_count": 147,
   "metadata": {},
   "outputs": [
    {
     "data": {
      "image/png": "[encoded data removed]",
      "text/plain": [
       "<Figure size 1440x720 with 1 Axes>"
      ]
     },
     "metadata": {
      "needs_background": "light"
     },
     "output_type": "display_data"
    }
   ],
   "source": [
    "# Plotting the target: Total cases\n",
    "\n",
    "plt.figure(figsize=(20,10))\n",
    "\n",
    "plt.plot(pak_indices_dates, pak_y_pred, '.', color='blue', label='Predicted data', alpha=0.8)\n",
    "plt.plot(pak_indices_dates, pak_y_test, '.', color='red', label='Actual data', alpha=0.8)\n",
    "plt.legend()\n",
    "plt.xlabel('Datetime [-]', fontsize=20)\n",
    "plt.ylabel(r'total cases', fontsize=20)\n",
    "\n",
    "plt.xticks(fontsize=20, rotation=45)\n",
    "plt.yticks(fontsize=20)\n",
    "\n",
    "plt.title('Total Covid patients till today', fontsize=28)\n",
    "\n",
    "plt.tight_layout()\n"
   ]
  },
  {
   "cell_type": "markdown",
   "metadata": {},
   "source": [
    "## Deep Neural Network"
   ]
  },
  {
   "cell_type": "code",
   "execution_count": null,
   "metadata": {},
   "outputs": [],
   "source": []
  }
 ],
 "metadata": {
  "accelerator": "GPU",
  "colab": {
   "collapsed_sections": [],
   "name": "mml project",
   "provenance": [],
   "toc_visible": true
  },
  "kernelspec": {
   "display_name": "Python 3",
   "language": "python",
   "name": "python3"
  },
  "language_info": {
   "codemirror_mode": {
    "name": "ipython",
    "version": 3
   },
   "file_extension": ".py",
   "mimetype": "text/x-python",
   "name": "python",
   "nbconvert_exporter": "python",
   "pygments_lexer": "ipython3",
   "version": "3.7.5"
  }
 },
 "nbformat": 4,
 "nbformat_minor": 1
}
