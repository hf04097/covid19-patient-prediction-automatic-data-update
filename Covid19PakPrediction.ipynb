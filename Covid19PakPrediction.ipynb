{
  "nbformat": 4,
  "nbformat_minor": 0,
  "metadata": {
    "accelerator": "GPU",
    "colab": {
      "name": "mml_project.ipynb",
      "provenance": [],
      "collapsed_sections": [],
      "toc_visible": true
    },
    "kernelspec": {
      "display_name": "Python 3",
      "language": "python",
      "name": "python3"
    },
    "language_info": {
      "codemirror_mode": {
        "name": "ipython",
        "version": 3
      },
      "file_extension": ".py",
      "mimetype": "text/x-python",
      "name": "python",
      "nbconvert_exporter": "python",
      "pygments_lexer": "ipython3",
      "version": "3.7.4"
    }
  },
  "cells": [
    {
      "cell_type": "markdown",
      "metadata": {
        "colab_type": "text",
        "id": "hZP8J64iLDjN"
      },
      "source": [
        "**Choosing Countries** <br>\n",
        "A total of 25 countires have been choosen. \n",
        "\n",
        "\n",
        "*   The first 10 countries are those with high new cases and the include Mexico, Brazil, Ukraine, India, USA, Panama, Hungary, Pakistan, Israel, Bulgaria. (Source : https://www.worldometers.info/coronavirus , retrieved on : April 24, 2020, information last updated on: retrieved on : April 24, 2020).\n",
        "\n",
        "*  Next 10 countries are those with lowest new cases and they include Spain, Italy, France, Germany, UK, Turkey, Iran, Russia, Belgium, Canada.  (Source : https://www.worldometers.info/coronavirus , retrieved on : April 24, 2020, information last updated on retrieved on : April 24, 2020). \n",
        "\n",
        "*  Last 5 countries are those with GDP closer to Pakistan's. Including closest 5 countries which are Bangladesh, India, Nigeria, Vietnam, Egypt. (Source : http://statisticstimes.com/economy/projected-world-gdp-ranking.php , retrieved on : April 24, 2020, information last on 20 Feb 2020).\n",
        " \n",
        "\n"
      ]
    },
    {
      "cell_type": "code",
      "metadata": {
        "colab_type": "code",
        "id": "n5o1X1vZGFPI",
        "colab": {
          "base_uri": "https://localhost:8080/",
          "height": 70
        },
        "outputId": "9dc6f9ae-6cb3-48c1-bd91-16991fb7efaa"
      },
      "source": [
        "import pandas as pd\n",
        "import matplotlib.pyplot as plt\n",
        "import numpy as np\n",
        "from datetime import datetime\n",
        "import seaborn as sns\n"
      ],
      "execution_count": 9,
      "outputs": [
        {
          "output_type": "stream",
          "text": [
            "/usr/local/lib/python3.6/dist-packages/statsmodels/tools/_testing.py:19: FutureWarning: pandas.util.testing is deprecated. Use the functions in the public API at pandas.testing instead.\n",
            "  import pandas.util.testing as tm\n"
          ],
          "name": "stderr"
        }
      ]
    },
    {
      "cell_type": "markdown",
      "metadata": {
        "id": "XO8_PCYLGAGv",
        "colab_type": "text"
      },
      "source": [
        "## Database working and connection"
      ]
    },
    {
      "cell_type": "code",
      "metadata": {
        "id": "uFv6sqMNedlV",
        "colab_type": "code",
        "colab": {
          "base_uri": "https://localhost:8080/",
          "height": 171
        },
        "outputId": "cedacd2d-6272-4983-e007-2bc9de37300d"
      },
      "source": [
        "pip install mysql-connector-python"
      ],
      "execution_count": 3,
      "outputs": [
        {
          "output_type": "stream",
          "text": [
            "Collecting mysql-connector-python\n",
            "\u001b[?25l  Downloading https://files.pythonhosted.org/packages/d1/53/4cf90d2fe81b9cdb55dc180951bcec44ea8685665f1bdb1412501dc362dd/mysql_connector_python-8.0.20-cp36-cp36m-manylinux1_x86_64.whl (14.8MB)\n",
            "\u001b[K     |████████████████████████████████| 14.8MB 1.4MB/s \n",
            "\u001b[?25hRequirement already satisfied: protobuf>=3.0.0 in /usr/local/lib/python3.6/dist-packages (from mysql-connector-python) (3.10.0)\n",
            "Requirement already satisfied: setuptools in /usr/local/lib/python3.6/dist-packages (from protobuf>=3.0.0->mysql-connector-python) (47.3.1)\n",
            "Requirement already satisfied: six>=1.9 in /usr/local/lib/python3.6/dist-packages (from protobuf>=3.0.0->mysql-connector-python) (1.12.0)\n",
            "Installing collected packages: mysql-connector-python\n",
            "Successfully installed mysql-connector-python-8.0.20\n"
          ],
          "name": "stdout"
        }
      ]
    },
    {
      "cell_type": "code",
      "metadata": {
        "id": "MG9avx5qOixR",
        "colab_type": "code",
        "colab": {}
      },
      "source": [
        "import mysql.connector\n",
        "from mysql.connector import Error"
      ],
      "execution_count": 5,
      "outputs": []
    },
    {
      "cell_type": "code",
      "metadata": {
        "id": "lHClEaphqb8z",
        "colab_type": "code",
        "colab": {}
      },
      "source": [
        "def connect_to_db():\n",
        "  import mysql.connector\n",
        "  from mysql.connector import Error\n",
        "  try:\n",
        "    connection = mysql.connector.connect(host='coviddatabase.cjf2ya4zgyiu.ap-south-1.rds.amazonaws.com',\n",
        "                                          database='mml_DB',\n",
        "                                          user='admin',\n",
        "                                          password='TMg(XY8yRtB1*FcV')\n",
        "    \n",
        "  except:\n",
        "    print(\"Connection Error\")\n",
        "  return connection\n",
        "\n",
        "connection = connect_to_db()\n",
        "\n",
        "def send_data_to_country_table(covid_data, con):\n",
        "  country_table = covid_data[[\"location\", \"continent\", \"population_density\", \"median_age\", \"aged_65_older\", \"gdp_per_capita\", \"extreme_poverty\", \"cvd_death_rate\", \"diabetes_prevalence\", \"female_smokers\", \"male_smokers\", \"handwashing_facilities\", \"hospital_beds_per_thousand\"]]\n",
        "  country_table = country_table.drop_duplicates()\n",
        "  \n",
        "  country_table = country_table.fillna(-1) #filling na with -1\n",
        "  cursor = con.cursor()\n",
        "  tuples = [tuple(row) for index,row in country_table.iterrows()] #chaning to tuples\n",
        "  mySql_insert_query = \"INSERT IGNORE INTO country (location, continent, population_density, median_age, aged_65_older, gdp_per_capita, extreme_poverty, cvd_death_rate, diabetes_prevalence, female_smokers, male_smokers, handwashing_facilities, hospital_beds_per_thousand) VALUES (%s, %s, %s, %s, %s, %s, %s, %s, %s, %s, %s, %s, %s)\"\n",
        "  cursor.executemany(mySql_insert_query, tuples)\n",
        "  con.commit()\n",
        "\n",
        "def send_data_to_cases_table(covid_data, con):\n",
        "  cases_table = covid_data[[\"date\", \"location\", \"new_cases\", \"stringency_index\"]]\n",
        "  cases_table = cases_table.fillna(-1)\n",
        "\n",
        "  cursor = con.cursor()\n",
        "  sql_select_Query = \"select MAX(date) from Cases\"\n",
        "\n",
        "  dates = pd.read_sql(sql_select_Query, con = con, parse_dates = ['MAX(date)'])\n",
        "  last_date = pd.to_datetime(dates[\"MAX(date)\"].values[0]) #last date we updated the data\n",
        "\n",
        "  cases_table = covid_data[covid_data[\"date\"] > last_date] #only adding new data\n",
        "\n",
        "  tuples = [tuple(row) for index,row in cases_table.iterrows()]\n",
        "  mySql_insert_query = \"INSERT IGNORE INTO Cases (date, location, new_cases, stringency_index) VALUES (%s, %s, %s, %s)\"\n",
        "  cursor.executemany(mySql_insert_query, tuples)\n",
        "  con.commit()"
      ],
      "execution_count": 6,
      "outputs": []
    },
    {
      "cell_type": "code",
      "metadata": {
        "id": "c7sljZdl4UOx",
        "colab_type": "code",
        "colab": {}
      },
      "source": [
        "def update_data_in_db():\n",
        "  \"\"\"\n",
        "  Call this function to scrap data from website and insert into DB\n",
        "  \"\"\"\n",
        "  covid_data = pd.read_csv('https://raw.githubusercontent.com/owid/covid-19-data/master/public/data/owid-covid-data.csv',parse_dates=['date'])\n",
        "  connection = connect_to_db()\n",
        "  send_data_to_country_table(covid_data, connection)\n",
        "  send_data_to_cases_table(covid_data, connection)\n",
        "  connection.close()"
      ],
      "execution_count": 7,
      "outputs": []
    },
    {
      "cell_type": "code",
      "metadata": {
        "id": "dhhD57lF5ECN",
        "colab_type": "code",
        "colab": {}
      },
      "source": [
        "def read_data_from_db_to_df():\n",
        "  \"\"\"\n",
        "  Reads data from DB and returns a dataframe\n",
        "  \"\"\"\n",
        "  connection = connect_to_db()\n",
        "  cursor = connection.cursor()\n",
        "  sql_select_Query = \"select * from country\"\n",
        "  country_table = pd.read_sql(sql_select_Query, con = connection) #whole country table as df\n",
        "  sql_select_Query = \"select * from Cases\"\n",
        "  cases_table = pd.read_sql(sql_select_Query, con = connection) #whole cases table as df\n",
        "  joined = pd.merge(cases_table, country_table, on='location', how='left') #joining both\n",
        "  joined = joined.replace(to_replace = -1, value = np.nan)\n",
        "  connection.close()\n",
        "  return joined\n",
        "  \n",
        "\n",
        "covid_data = read_data_from_db_to_df()"
      ],
      "execution_count": 10,
      "outputs": []
    },
    {
      "cell_type": "markdown",
      "metadata": {
        "colab_type": "text",
        "id": "R8quV6RLYi6J"
      },
      "source": [
        "##Loading Data"
      ]
    },
    {
      "cell_type": "code",
      "metadata": {
        "colab_type": "code",
        "id": "vMJSDjoLwUQi",
        "colab": {}
      },
      "source": [
        "covid_data = pd.read_csv('https://raw.githubusercontent.com/owid/covid-19-data/master/public/data/owid-covid-data.csv',parse_dates=['date'])"
      ],
      "execution_count": null,
      "outputs": []
    },
    {
      "cell_type": "code",
      "metadata": {
        "id": "YP5WFul-U1nO",
        "colab_type": "code",
        "colab": {}
      },
      "source": [
        "## This was only run once on 15 June 2020 to get the countries with most covid cases. The countries' data was then\n",
        "## used for a analysis.\n",
        "\n",
        "# a = covid_data.copy()\n",
        "# a = a.sort_values(by='total_cases',ascending=False)\n",
        "# top_location = a.location.unique().tolist()\n",
        "# top_location[:40]"
      ],
      "execution_count": null,
      "outputs": []
    },
    {
      "cell_type": "code",
      "metadata": {
        "id": "-gJWWh70BOm6",
        "colab_type": "code",
        "colab": {}
      },
      "source": [
        "countries_diff_format = ['United States', 'Brazil', 'Russia', 'India', 'United Kingdom', 'Peru', 'Spain', 'Italy', 'Chile', 'Iran', 'Germany', 'Turkey', 'Pakistan', 'Mexico', 'France', 'Saudi Arabia', 'Bangladesh', 'Canada', 'South Africa', 'Qatar', 'China', 'Colombia', 'Belgium', 'Belarus', 'Sweden', 'Egypt', 'Ecuador', 'Netherlands', 'Indonesia', 'United Arab Emirates', 'Singapore', 'Argentina', 'Kuwait', 'Portugal', 'Ukraine', 'Poland', 'Switzerland', 'Philippines', 'Iraq', 'Oman']\n",
        "\n",
        "#Sorting data by dates (Times series)\n",
        "covid_data = covid_data.sort_values(by='date',ascending=True)"
      ],
      "execution_count": null,
      "outputs": []
    },
    {
      "cell_type": "code",
      "metadata": {
        "colab_type": "code",
        "id": "8yuSJrvT5tRQ",
        "colab": {
          "base_uri": "https://localhost:8080/",
          "height": 302
        },
        "outputId": "9da9f9dc-960b-4251-f4eb-7d6f1dbfacfb"
      },
      "source": [
        "covid_data.dtypes"
      ],
      "execution_count": 11,
      "outputs": [
        {
          "output_type": "execute_result",
          "data": {
            "text/plain": [
              "date                          datetime64[ns]\n",
              "location                              object\n",
              "new_cases                              int64\n",
              "stringency_index                     float64\n",
              "continent                             object\n",
              "population_density                   float64\n",
              "median_age                           float64\n",
              "aged_65_older                        float64\n",
              "gdp_per_capita                       float64\n",
              "extreme_poverty                      float64\n",
              "cvd_death_rate                       float64\n",
              "diabetes_prevalence                  float64\n",
              "female_smokers                       float64\n",
              "male_smokers                         float64\n",
              "handwashing_facilities               float64\n",
              "hospital_beds_per_thousand           float64\n",
              "dtype: object"
            ]
          },
          "metadata": {
            "tags": []
          },
          "execution_count": 11
        }
      ]
    },
    {
      "cell_type": "markdown",
      "metadata": {
        "colab_type": "text",
        "id": "8v3QfmklwKJZ"
      },
      "source": [
        "### Pearson’s Correlation Coefficient Matrix\n",
        "According to Halkjaer and Winther, the correlations in the input data severely slow down learning therefore, we used Pearson Correlation Coefficient Matrix to determine the correlation between the input data and new_cases. All the variables having a Pearson Correlation, P, greater than |P| > 0.1 are dropped.\n"
      ]
    },
    {
      "cell_type": "code",
      "metadata": {
        "colab_type": "code",
        "id": "3RMA8Q918LHj",
        "colab": {
          "base_uri": "https://localhost:8080/",
          "height": 252
        },
        "outputId": "32758f7a-211e-4f0d-88df-39ec68762ab7"
      },
      "source": [
        "data[data.columns[:]].corr()['new_cases'][:]"
      ],
      "execution_count": 16,
      "outputs": [
        {
          "output_type": "execute_result",
          "data": {
            "text/plain": [
              "new_cases                     1.000000\n",
              "stringency_index              0.108147\n",
              "population_density           -0.018144\n",
              "median_age                    0.018765\n",
              "aged_65_older                 0.014319\n",
              "gdp_per_capita                0.009599\n",
              "extreme_poverty              -0.029273\n",
              "cvd_death_rate               -0.029963\n",
              "diabetes_prevalence           0.018983\n",
              "female_smokers               -0.007828\n",
              "male_smokers                 -0.006197\n",
              "handwashing_facilities        0.022309\n",
              "hospital_beds_per_thousand   -0.014647\n",
              "Name: new_cases, dtype: float64"
            ]
          },
          "metadata": {
            "tags": []
          },
          "execution_count": 16
        }
      ]
    },
    {
      "cell_type": "code",
      "metadata": {
        "colab_type": "code",
        "id": "LmuOR90XwVzN",
        "colab": {
          "base_uri": "https://localhost:8080/",
          "height": 890
        },
        "outputId": "61fbd56d-801b-40af-94a6-72f9024a4615"
      },
      "source": [
        "plt.clf()\n",
        "\n",
        "corr = data.corr()\n",
        "mask = np.zeros_like(corr)\n",
        "mask[np.triu_indices_from(mask)] = True\n",
        "\n",
        "fig, ax = plt.subplots(figsize=(12,12))\n",
        "\n",
        "fig = sns.heatmap(corr, mask=mask, square=False, cmap='RdYlGn', annot=True, ax=ax, \n",
        "            cbar_kws={'label':'Pearson correlation coefficient'})\n",
        "\n",
        "fig.set_title('Pearson Corelation Coefficient Matrix')\n",
        "fig.tick_params(axis='x', rotation=90)\n",
        "fig.tick_params(axis='y', rotation=0)\n",
        "\n",
        "fig = fig.get_figure()\n",
        "fig.tight_layout()\n",
        "fig.show()"
      ],
      "execution_count": 17,
      "outputs": [
        {
          "output_type": "display_data",
          "data": {
            "text/plain": [
              "<Figure size 432x288 with 0 Axes>"
            ]
          },
          "metadata": {
            "tags": []
          }
        },
        {
          "output_type": "display_data",
          "data": {
            "image/png": "[encoded data removed]",
            "text/plain": [
              "<Figure size 864x864 with 2 Axes>"
            ]
          },
          "metadata": {
            "tags": [],
            "needs_background": "light"
          }
        }
      ]
    },
    {
      "cell_type": "markdown",
      "metadata": {
        "colab_type": "text",
        "id": "08ve-JKkdKue"
      },
      "source": [
        "Dropping columns with |P| > 0.1"
      ]
    },
    {
      "cell_type": "code",
      "metadata": {
        "colab_type": "code",
        "id": "eixvSBQjdS5L",
        "colab": {}
      },
      "source": [
        "# not removing total_Cases now because they will be used to make data categorical\n",
        "data = data.drop(['population','new_tests','total_deaths'],1)"
      ],
      "execution_count": null,
      "outputs": []
    },
    {
      "cell_type": "code",
      "metadata": {
        "id": "J4ZuOoxjjHCY",
        "colab_type": "code",
        "colab": {
          "base_uri": "https://localhost:8080/",
          "height": 136
        },
        "outputId": "ab68dc2a-ab3c-4505-a57f-f61e07017157"
      },
      "source": [
        "data.columns"
      ],
      "execution_count": null,
      "outputs": [
        {
          "output_type": "execute_result",
          "data": {
            "text/plain": [
              "Index(['location', 'date', 'total_cases', 'new_cases', 'stringency_index',\n",
              "       'population_density', 'median_age', 'aged_65_older', 'aged_70_older',\n",
              "       'gdp_per_capita', 'extreme_poverty', 'cvd_death_rate',\n",
              "       'diabetes_prevalence', 'female_smokers', 'male_smokers',\n",
              "       'handwashing_facilities', 'hospital_beds_per_thousand',\n",
              "       'life_expectancy'],\n",
              "      dtype='object')"
            ]
          },
          "metadata": {
            "tags": []
          },
          "execution_count": 11
        }
      ]
    },
    {
      "cell_type": "markdown",
      "metadata": {
        "colab_type": "text",
        "id": "fH6JeqZTeHSk"
      },
      "source": [
        "## Making data categorcial for location and data\n",
        "All countries are one-hot encoded, i.e., for each country a seperate column is assigned. \n"
      ]
    },
    {
      "cell_type": "code",
      "metadata": {
        "colab_type": "code",
        "id": "yW-7XHsM3NLA",
        "colab": {}
      },
      "source": [
        "data['number_of_days'] = -1"
      ],
      "execution_count": null,
      "outputs": []
    },
    {
      "cell_type": "code",
      "metadata": {
        "colab_type": "code",
        "id": "E5Z-rrWigZNM",
        "colab": {}
      },
      "source": [
        "#adding location again\n",
        "data['location'] = covid_data['location']\n",
        "\n",
        "#changing location to categorical by having a column for every country\n",
        "\n",
        "for i in countries_diff_format:\n",
        "  data[i] = 0\n",
        "\n",
        "for i in countries_diff_format:\n",
        "  data.loc[data['location'] == i, i] = 1\n",
        "data = data.drop(data.loc[np.isin(data[\"location\"], countries_diff_format, invert = True)].index)\n"
      ],
      "execution_count": null,
      "outputs": []
    },
    {
      "cell_type": "markdown",
      "metadata": {
        "colab_type": "text",
        "id": "mBd_5ODjHjLs"
      },
      "source": [
        "# Dealing with number of days\n",
        "Number of days is the number of days from the date first case was reported in a country."
      ]
    },
    {
      "cell_type": "code",
      "metadata": {
        "colab_type": "code",
        "id": "o-Uq0hgys0Ki",
        "colab": {
          "base_uri": "https://localhost:8080/",
          "height": 1000
        },
        "outputId": "e9ce898d-34a0-439e-f443-002ff50ee281"
      },
      "source": [
        "df = data.copy(deep=True)\n",
        "\n",
        "for i in countries_diff_format:\n",
        "\n",
        "   # the date where first case was reported in a country\n",
        "  start_date = min(df[(df[i] == 1) & (df.total_cases > 0)][\"date\"])\n",
        "  \n",
        "  #Count of day from the day when first case was reported\n",
        "  df.loc[(df[i] == 1),'number_of_days'] = (df.loc[(df[i] == 1),'date'] - start_date).dt.days\n",
        "\n",
        "\n",
        "df = df.drop(df.loc[(df[\"number_of_days\"] < 0)].index)\n",
        "for i in countries_diff_format:\n",
        "    print(df[(df[i]==1) & (df[\"number_of_days\"]==0)][[\"date\"]].tail(1), i)\n"
      ],
      "execution_count": null,
      "outputs": [
        {
          "output_type": "stream",
          "text": [
            "            date\n",
            "23744 2020-01-21 United States\n",
            "           date\n",
            "3316 2020-02-26 Brazil\n",
            "            date\n",
            "18977 2020-02-01 Russia\n",
            "            date\n",
            "10546 2020-01-30 India\n",
            "            date\n",
            "23580 2020-01-31 United Kingdom\n",
            "            date\n",
            "18018 2020-03-07 Peru\n",
            "            date\n",
            "21164 2020-02-01 Spain\n",
            "            date\n",
            "11673 2020-01-31 Italy\n",
            "           date\n",
            "4729 2020-03-04 Chile\n",
            "            date\n",
            "10907 2020-02-20 Iran\n",
            "           date\n",
            "8745 2020-01-28 Germany\n",
            "            date\n",
            "23089 2020-03-12 Turkey\n",
            "            date\n",
            "17494 2020-02-27 Pakistan\n",
            "            date\n",
            "14964 2020-02-29 Mexico\n",
            "           date\n",
            "8106 2020-01-25 France\n",
            "            date\n",
            "19742 2020-03-03 Saudi Arabia\n",
            "           date\n",
            "1963 2020-03-09 Bangladesh\n",
            "           date\n",
            "4202 2020-01-26 Canada\n",
            "            date\n",
            "20773 2020-03-06 South Africa\n",
            "            date\n",
            "18664 2020-03-01 Qatar\n",
            "           date\n",
            "4838 2019-12-31 China\n",
            "           date\n",
            "5014 2020-03-07 Colombia\n",
            "           date\n",
            "2373 2020-02-04 Belgium\n",
            "           date\n",
            "2223 2020-02-28 Belarus\n",
            "            date\n",
            "21795 2020-02-01 Sweden\n",
            "           date\n",
            "6956 2020-02-15 Egypt\n",
            "           date\n",
            "6802 2020-03-01 Ecuador\n",
            "            date\n",
            "16280 2020-02-28 Netherlands\n",
            "            date\n",
            "10751 2020-03-02 Indonesia\n",
            "            date\n",
            "23408 2020-01-27 United Arab Emirates\n",
            "            date\n",
            "20284 2020-01-24 Singapore\n",
            "          date\n",
            "811 2020-03-04 Argentina\n",
            "            date\n",
            "12648 2020-02-24 Kuwait\n",
            "            date\n",
            "18406 2020-03-03 Portugal\n",
            "            date\n",
            "23281 2020-03-04 Ukraine\n",
            "            date\n",
            "18295 2020-03-04 Poland\n",
            "            date\n",
            "21994 2020-02-26 Switzerland\n",
            "            date\n",
            "18155 2020-01-30 Philippines\n",
            "            date\n",
            "11086 2020-02-25 Iraq\n",
            "            date\n",
            "17324 2020-02-25 Oman\n"
          ],
          "name": "stdout"
        }
      ]
    },
    {
      "cell_type": "markdown",
      "metadata": {
        "id": "4DONUWb-Eceh",
        "colab_type": "text"
      },
      "source": [
        "# Dealing with NaN values"
      ]
    },
    {
      "cell_type": "code",
      "metadata": {
        "colab_type": "code",
        "id": "qvGA8MBWBe6n",
        "colab": {
          "base_uri": "https://localhost:8080/",
          "height": 221
        },
        "outputId": "e4f7e0cd-c466-4d7c-f4d5-9f5979210b1b"
      },
      "source": [
        "# a = data.copy(deep =True)\n",
        "# p = a[a.Pakistan ==1]\n",
        "# s_d = p.loc[(p.total_cases > 0)].date.iloc[0]\n",
        "# p.number_of_days = p.date - s_d\n",
        "# #print(p.number_of_days)\n",
        "# p.drop(p[p.date < s_d].index,inplace = True)\n",
        "# print(p.number_of_days)\n",
        "\n",
        "#print(df[df[\"number_of_days\"] == 0].to_csv(\"testing.csv\"))\n",
        "df[\"number_of_days\"].value_counts()"
      ],
      "execution_count": null,
      "outputs": [
        {
          "output_type": "execute_result",
          "data": {
            "text/plain": [
              "101.0    40\n",
              "68.0     40\n",
              "59.0     40\n",
              "66.0     40\n",
              "78.0     40\n",
              "         ..\n",
              "168.0     1\n",
              "160.0     1\n",
              "155.0     1\n",
              "153.0     1\n",
              "157.0     1\n",
              "Name: number_of_days, Length: 174, dtype: int64"
            ]
          },
          "metadata": {
            "tags": []
          },
          "execution_count": 14
        }
      ]
    },
    {
      "cell_type": "code",
      "metadata": {
        "colab_type": "code",
        "id": "L3spmbAM7lwK",
        "colab": {
          "base_uri": "https://localhost:8080/",
          "height": 714
        },
        "outputId": "42097662-6e99-45b8-ba45-17f98da19713"
      },
      "source": [
        "print(df[df[\"number_of_days\"] == 0][[\"date\"]])"
      ],
      "execution_count": null,
      "outputs": [
        {
          "output_type": "stream",
          "text": [
            "            date\n",
            "4838  2019-12-31\n",
            "23744 2020-01-21\n",
            "20284 2020-01-24\n",
            "8106  2020-01-25\n",
            "4202  2020-01-26\n",
            "23408 2020-01-27\n",
            "8745  2020-01-28\n",
            "10546 2020-01-30\n",
            "18155 2020-01-30\n",
            "23580 2020-01-31\n",
            "11673 2020-01-31\n",
            "18977 2020-02-01\n",
            "21164 2020-02-01\n",
            "21795 2020-02-01\n",
            "2373  2020-02-04\n",
            "6956  2020-02-15\n",
            "10907 2020-02-20\n",
            "12648 2020-02-24\n",
            "11086 2020-02-25\n",
            "17324 2020-02-25\n",
            "3316  2020-02-26\n",
            "21994 2020-02-26\n",
            "17494 2020-02-27\n",
            "16280 2020-02-28\n",
            "2223  2020-02-28\n",
            "14964 2020-02-29\n",
            "18664 2020-03-01\n",
            "6802  2020-03-01\n",
            "10751 2020-03-02\n",
            "18406 2020-03-03\n",
            "19742 2020-03-03\n",
            "811   2020-03-04\n",
            "4729  2020-03-04\n",
            "23281 2020-03-04\n",
            "18295 2020-03-04\n",
            "20773 2020-03-06\n",
            "18018 2020-03-07\n",
            "5014  2020-03-07\n",
            "1963  2020-03-09\n",
            "23089 2020-03-12\n"
          ],
          "name": "stdout"
        }
      ]
    },
    {
      "cell_type": "code",
      "metadata": {
        "colab_type": "code",
        "id": "_5X4UUzK6eCf",
        "scrolled": false,
        "colab": {
          "base_uri": "https://localhost:8080/",
          "height": 1000
        },
        "outputId": "e03048ef-b1e7-4252-eb62-5e062db31d81"
      },
      "source": [
        "#df = data.copy()\n",
        "#df = df.drop('date',axis = 1)\n",
        "\n",
        "#df.set_index(['row_number'])\n",
        "#df = df.fillna(0)\n",
        "print(df.isnull().sum())\n",
        "print(df[np.isnan(df[\"hospital_beds_per_thousand\"])][\"location\"].value_counts())"
      ],
      "execution_count": null,
      "outputs": [
        {
          "output_type": "stream",
          "text": [
            "location                         0\n",
            "date                             0\n",
            "total_cases                     30\n",
            "new_cases                       30\n",
            "stringency_index               287\n",
            "population_density               0\n",
            "median_age                       0\n",
            "aged_65_older                    0\n",
            "aged_70_older                    0\n",
            "gdp_per_capita                   0\n",
            "extreme_poverty               1627\n",
            "cvd_death_rate                   0\n",
            "diabetes_prevalence              0\n",
            "female_smokers                 116\n",
            "male_smokers                   223\n",
            "handwashing_facilities        3574\n",
            "hospital_beds_per_thousand       0\n",
            "life_expectancy                  0\n",
            "United States                    0\n",
            "Brazil                           0\n",
            "Russia                           0\n",
            "India                            0\n",
            "United Kingdom                   0\n",
            "Peru                             0\n",
            "Spain                            0\n",
            "Italy                            0\n",
            "Chile                            0\n",
            "Iran                             0\n",
            "Germany                          0\n",
            "Turkey                           0\n",
            "Pakistan                         0\n",
            "Mexico                           0\n",
            "France                           0\n",
            "Saudi Arabia                     0\n",
            "Bangladesh                       0\n",
            "Canada                           0\n",
            "South Africa                     0\n",
            "Qatar                            0\n",
            "China                            0\n",
            "Colombia                         0\n",
            "Belgium                          0\n",
            "Belarus                          0\n",
            "Sweden                           0\n",
            "Egypt                            0\n",
            "Ecuador                          0\n",
            "Netherlands                      0\n",
            "Indonesia                        0\n",
            "United Arab Emirates             0\n",
            "Singapore                        0\n",
            "Argentina                        0\n",
            "Kuwait                           0\n",
            "Portugal                         0\n",
            "Ukraine                          0\n",
            "Poland                           0\n",
            "Switzerland                      0\n",
            "Philippines                      0\n",
            "Iraq                             0\n",
            "Oman                             0\n",
            "number_of_days                   0\n",
            "dtype: int64\n",
            "Series([], Name: location, dtype: int64)\n"
          ],
          "name": "stdout"
        }
      ]
    },
    {
      "cell_type": "code",
      "metadata": {
        "id": "FHvN8Ecn7ffL",
        "colab_type": "code",
        "colab": {
          "base_uri": "https://localhost:8080/",
          "height": 697
        },
        "outputId": "fbe8a5da-99a2-4165-f2d7-9ad034a4094e"
      },
      "source": [
        "#dealing for missing stringent_index\n",
        "for i in countries_diff_format:\n",
        "\n",
        "   # the date where first case was reported in a country\n",
        "    last_stringent = df[(df[i] == 1 & ~np.isnan(df[\"stringency_index\"]))][\"stringency_index\"]\n",
        "    print(i)\n",
        "    last_stringent = (last_stringent[~np.isnan(last_stringent)].values[-1])\n",
        "  \n",
        "  #Count of day from the day when first case was reported\n",
        "    df.loc[(df[i] == 1 & np.isnan(df[\"stringency_index\"])),'stringency_index'] = last_stringent"
      ],
      "execution_count": null,
      "outputs": [
        {
          "output_type": "stream",
          "text": [
            "United States\n",
            "Brazil\n",
            "Russia\n",
            "India\n",
            "United Kingdom\n",
            "Peru\n",
            "Spain\n",
            "Italy\n",
            "Chile\n",
            "Iran\n",
            "Germany\n",
            "Turkey\n",
            "Pakistan\n",
            "Mexico\n",
            "France\n",
            "Saudi Arabia\n",
            "Bangladesh\n",
            "Canada\n",
            "South Africa\n",
            "Qatar\n",
            "China\n",
            "Colombia\n",
            "Belgium\n",
            "Belarus\n",
            "Sweden\n",
            "Egypt\n",
            "Ecuador\n",
            "Netherlands\n",
            "Indonesia\n",
            "United Arab Emirates\n",
            "Singapore\n",
            "Argentina\n",
            "Kuwait\n",
            "Portugal\n",
            "Ukraine\n",
            "Poland\n",
            "Switzerland\n",
            "Philippines\n",
            "Iraq\n",
            "Oman\n"
          ],
          "name": "stdout"
        }
      ]
    },
    {
      "cell_type": "code",
      "metadata": {
        "id": "_hkViBee7ffR",
        "colab_type": "code",
        "colab": {}
      },
      "source": [
        "#deleting all rows where number of cases is missing.Doing this cos only 31 rows have missing cases\n",
        "df = df.drop(df.loc[np.isnan(df[\"new_cases\"])].index)"
      ],
      "execution_count": null,
      "outputs": []
    },
    {
      "cell_type": "code",
      "metadata": {
        "id": "953XymRQ7ffX",
        "colab_type": "code",
        "colab": {}
      },
      "source": [
        "# dropping extreme_povery and handwashing_facilities as it have large number of rows with NaN values\n",
        "df = df.drop( \"extreme_poverty\",1)\n",
        "df = df.drop(\"handwashing_facilities\", axis = 1)\n",
        "\n",
        "# Replacing female_smokers and male_smokers value with countries having missing value with country having similar value\n",
        "\n",
        "df.loc[(df['Iraq'] == 1), 'female_smokers'] = np.mean(df[df[\"Iran\"] == 1]['female_smokers'])\n",
        "df.loc[(df['Iraq'] == 1), 'male_smokers'] = np.mean(df[df[\"Iran\"] == 1]['male_smokers'])\n",
        "df.loc[(df['Peru'] == 1), 'male_smokers'] = np.mean(df[df[\"Brazil\"] == 1]['male_smokers'])"
      ],
      "execution_count": null,
      "outputs": []
    },
    {
      "cell_type": "code",
      "metadata": {
        "id": "9XnhYVbnkPSU",
        "colab_type": "code",
        "colab": {}
      },
      "source": [
        "# now dropping total cases too as corelation was high\n",
        "df = df.drop('total_cases',1)"
      ],
      "execution_count": null,
      "outputs": []
    },
    {
      "cell_type": "code",
      "metadata": {
        "id": "Rhr4bB2u1-FM",
        "colab_type": "code",
        "colab": {
          "base_uri": "https://localhost:8080/",
          "height": 986
        },
        "outputId": "851f7f73-0f92-4121-c03b-cfdb2ad241ed"
      },
      "source": [
        "print(df.isnull().sum())"
      ],
      "execution_count": null,
      "outputs": [
        {
          "output_type": "stream",
          "text": [
            "location                      0\n",
            "date                          0\n",
            "new_cases                     0\n",
            "stringency_index              0\n",
            "population_density            0\n",
            "median_age                    0\n",
            "aged_65_older                 0\n",
            "aged_70_older                 0\n",
            "gdp_per_capita                0\n",
            "cvd_death_rate                0\n",
            "diabetes_prevalence           0\n",
            "female_smokers                0\n",
            "male_smokers                  0\n",
            "hospital_beds_per_thousand    0\n",
            "life_expectancy               0\n",
            "United States                 0\n",
            "Brazil                        0\n",
            "Russia                        0\n",
            "India                         0\n",
            "United Kingdom                0\n",
            "Peru                          0\n",
            "Spain                         0\n",
            "Italy                         0\n",
            "Chile                         0\n",
            "Iran                          0\n",
            "Germany                       0\n",
            "Turkey                        0\n",
            "Pakistan                      0\n",
            "Mexico                        0\n",
            "France                        0\n",
            "Saudi Arabia                  0\n",
            "Bangladesh                    0\n",
            "Canada                        0\n",
            "South Africa                  0\n",
            "Qatar                         0\n",
            "China                         0\n",
            "Colombia                      0\n",
            "Belgium                       0\n",
            "Belarus                       0\n",
            "Sweden                        0\n",
            "Egypt                         0\n",
            "Ecuador                       0\n",
            "Netherlands                   0\n",
            "Indonesia                     0\n",
            "United Arab Emirates          0\n",
            "Singapore                     0\n",
            "Argentina                     0\n",
            "Kuwait                        0\n",
            "Portugal                      0\n",
            "Ukraine                       0\n",
            "Poland                        0\n",
            "Switzerland                   0\n",
            "Philippines                   0\n",
            "Iraq                          0\n",
            "Oman                          0\n",
            "number_of_days                0\n",
            "dtype: int64\n"
          ],
          "name": "stdout"
        }
      ]
    },
    {
      "cell_type": "markdown",
      "metadata": {
        "id": "QICTJb9FFPLZ",
        "colab_type": "text"
      },
      "source": [
        "# Visualizing Pak Cases"
      ]
    },
    {
      "cell_type": "code",
      "metadata": {
        "colab_type": "code",
        "id": "vxUurQfAwMBK",
        "colab": {}
      },
      "source": [
        "pak_cases = df[df['Pakistan'] == 1] "
      ],
      "execution_count": null,
      "outputs": []
    },
    {
      "cell_type": "code",
      "metadata": {
        "colab_type": "code",
        "id": "Lo0GeRJvEirZ",
        "colab": {
          "base_uri": "https://localhost:8080/",
          "height": 636
        },
        "outputId": "a4e5a5de-cef0-4608-9a5e-f69b7be77b58"
      },
      "source": [
        "# Plotting the target: Total cases\n",
        "print(pak_cases[\"location\"].value_counts())\n",
        "\n",
        "plt.figure(figsize=(20,10))\n",
        "\n",
        "plt.plot(pak_cases[\"date\"], pak_cases['new_cases'], '.', color='red', label='Original data', alpha=0.8)\n",
        "plt.xlabel('Datetime [-]', fontsize=20)\n",
        "plt.ylabel(r'total cases', fontsize=20)\n",
        "\n",
        "plt.xticks(fontsize=20, rotation=45)\n",
        "plt.yticks(fontsize=20)\n",
        "\n",
        "plt.title('Total Covid patients till today', fontsize=28)\n",
        "\n",
        "plt.tight_layout()"
      ],
      "execution_count": null,
      "outputs": [
        {
          "output_type": "stream",
          "text": [
            "Pakistan    111\n",
            "Name: location, dtype: int64\n"
          ],
          "name": "stdout"
        },
        {
          "output_type": "display_data",
          "data": {
            "image/png": "[encoded data removed]",
            "text/plain": [
              "<Figure size 1440x720 with 1 Axes>"
            ]
          },
          "metadata": {
            "tags": [],
            "needs_background": "light"
          }
        }
      ]
    },
    {
      "cell_type": "code",
      "metadata": {
        "colab_type": "code",
        "id": "sCo_nR9rGvv3",
        "colab": {
          "base_uri": "https://localhost:8080/",
          "height": 265
        },
        "outputId": "44007627-3940-463f-af04-18edc3a199fa"
      },
      "source": [
        "plt.plot(pak_cases['new_cases'])\n",
        "plt.show()"
      ],
      "execution_count": null,
      "outputs": [
        {
          "output_type": "display_data",
          "data": {
            "image/png": "[encoded data removed]",
            "text/plain": [
              "<Figure size 432x288 with 1 Axes>"
            ]
          },
          "metadata": {
            "tags": [],
            "needs_background": "light"
          }
        }
      ]
    },
    {
      "cell_type": "code",
      "metadata": {
        "colab_type": "code",
        "id": "5okcU-vq53fF",
        "colab": {
          "base_uri": "https://localhost:8080/",
          "height": 986
        },
        "outputId": "babe1af0-6001-4071-add2-c7ab47b29818"
      },
      "source": [
        "df.dtypes"
      ],
      "execution_count": null,
      "outputs": [
        {
          "output_type": "execute_result",
          "data": {
            "text/plain": [
              "location                              object\n",
              "date                          datetime64[ns]\n",
              "new_cases                            float64\n",
              "stringency_index                     float64\n",
              "population_density                   float64\n",
              "median_age                           float64\n",
              "aged_65_older                        float64\n",
              "aged_70_older                        float64\n",
              "gdp_per_capita                       float64\n",
              "cvd_death_rate                       float64\n",
              "diabetes_prevalence                  float64\n",
              "female_smokers                       float64\n",
              "male_smokers                         float64\n",
              "hospital_beds_per_thousand           float64\n",
              "life_expectancy                      float64\n",
              "United States                          int64\n",
              "Brazil                                 int64\n",
              "Russia                                 int64\n",
              "India                                  int64\n",
              "United Kingdom                         int64\n",
              "Peru                                   int64\n",
              "Spain                                  int64\n",
              "Italy                                  int64\n",
              "Chile                                  int64\n",
              "Iran                                   int64\n",
              "Germany                                int64\n",
              "Turkey                                 int64\n",
              "Pakistan                               int64\n",
              "Mexico                                 int64\n",
              "France                                 int64\n",
              "Saudi Arabia                           int64\n",
              "Bangladesh                             int64\n",
              "Canada                                 int64\n",
              "South Africa                           int64\n",
              "Qatar                                  int64\n",
              "China                                  int64\n",
              "Colombia                               int64\n",
              "Belgium                                int64\n",
              "Belarus                                int64\n",
              "Sweden                                 int64\n",
              "Egypt                                  int64\n",
              "Ecuador                                int64\n",
              "Netherlands                            int64\n",
              "Indonesia                              int64\n",
              "United Arab Emirates                   int64\n",
              "Singapore                              int64\n",
              "Argentina                              int64\n",
              "Kuwait                                 int64\n",
              "Portugal                               int64\n",
              "Ukraine                                int64\n",
              "Poland                                 int64\n",
              "Switzerland                            int64\n",
              "Philippines                            int64\n",
              "Iraq                                   int64\n",
              "Oman                                   int64\n",
              "number_of_days                       float64\n",
              "dtype: object"
            ]
          },
          "metadata": {
            "tags": []
          },
          "execution_count": 27
        }
      ]
    },
    {
      "cell_type": "markdown",
      "metadata": {
        "colab_type": "text",
        "id": "Qkjr63ClrBpR"
      },
      "source": [
        "#Splitting into training and tests data"
      ]
    },
    {
      "cell_type": "code",
      "metadata": {
        "colab_type": "code",
        "id": "PfT8fzcCV3_D",
        "colab": {
          "base_uri": "https://localhost:8080/",
          "height": 51
        },
        "outputId": "693d677d-5de6-4012-a5fd-484fa5e88009"
      },
      "source": [
        "# For splitting wrt to a split index\n",
        "\n",
        "# y = df['new_cases']\n",
        "\n",
        "# X = df.drop(['new_cases'], axis=1)\n",
        "# X = X.drop([\"location\", \"date\"], axis = 1)\n",
        "# train_size = 0.7\n",
        "\n",
        "# split_index = int(df.shape[0]*train_size) #index at which the datafram will be split\n",
        "\n",
        "# X_train = X[:split_index]\n",
        "# y_train = y[:split_index]\n",
        "\n",
        "# X_test = X[split_index:]\n",
        "# y_test = y[split_index:]\n",
        "\n",
        "# Choosing Pak last 40 days as test data\n",
        "\n",
        "# X = df.copy(deep = True)\n",
        "# X = X.drop([\"location\", \"date\"], axis = 1)\n",
        "# t = df[(df[\"Pakistan\"] == 1)][\"number_of_days\"]\n",
        "\n",
        "# train_set = X.drop(X[(X[\"Pakistan\"] == 1) & (X[\"number_of_days\"] >= max(t) -40)].index, axis = 0)\n",
        "# y = train_set[\"new_cases\"]\n",
        "\n",
        "# test_set = X[(X[\"Pakistan\"] == 1) & (X[\"number_of_days\"] >= max(t) -40)]\n",
        "# y_test = test_set[\"new_cases\"]\n",
        "# X_test = test_set.drop([\"new_cases\"], axis = 1)\n",
        "\n",
        "# y_train = train_set[\"new_cases\"]\n",
        "# X_train = train_set.drop([\"new_cases\"], axis = 1)\n",
        "\n",
        "\n",
        "# test_set = X[(X[\"Pakistan\"] == 1) & (X[\"number_of_days\"] >= max(t) -40)]\n",
        "# y_test = test_set[\"new_cases\"]\n",
        "# X_test = test_set.drop([\"new_cases\"], axis = 1)\n",
        "\n",
        "# print((X_train.shape, y_train.shape))\n",
        "# print(X_val.shape,y_val.shape)\n",
        "# print((X_test.shape, y_test.shape))\n",
        "\n",
        "\n",
        "# Keeping test data to be last 5 days of all countries\n",
        "# X = df.copy(deep =True)\n",
        "# X = X.drop('location',1)\n",
        "\n",
        "# max_date = max(X['date'])\n",
        "# days_to_get = pd.to_timedelta('15 days 00:00:00')\n",
        "# old_date = max_date - days_to_get\n",
        "\n",
        "# test_set = X[(X['date'] > old_date) & (X['date'] <= max_date)]\n",
        "# train_set = X[(X['date'] <= old_date)]\n",
        "# test_set.to_csv('checking test.csv')\n",
        "\n",
        "# train_set = train_set.drop('date',1)\n",
        "# test_set = test_set.drop('date',1)\n",
        "\n",
        "# y_train = train_set[\"new_cases\"]\n",
        "# X_train = train_set.drop([\"new_cases\"], axis = 1)\n",
        "\n",
        "# y_test = test_set[\"new_cases\"]\n",
        "# X_test = test_set.drop([\"new_cases\"], axis = 1)\n",
        "\n",
        "\n",
        "# taking pak as test and world as train\n",
        "\n",
        "X = df.copy(deep = True)\n",
        "X = X.drop([\"location\", \"date\"], axis = 1)\n",
        "t = df[(df[\"Pakistan\"] == 1)]\n",
        "test_set = X[(X[\"Pakistan\"] == 1) | (X[\"India\"] == 1)]\n",
        "\n",
        "train_set = X[(X[\"Pakistan\"] != 1) | (X[\"India\"] != 1)]\n",
        "\n",
        "y_train = train_set[\"new_cases\"]\n",
        "X_train = train_set.drop([\"new_cases\"], axis = 1)\n",
        "\n",
        "y_test = test_set[\"new_cases\"]\n",
        "X_test = test_set.drop([\"new_cases\"], axis = 1)\n",
        "\n",
        "#world and pak_data sets\n",
        "X = df.copy(deep =True)\n",
        "X= X.drop(['location','date'],1)\n",
        "world_y = X[(X['Pakistan'] != 1)]['new_cases']\n",
        "world_data = X[X['Pakistan']!=1]\n",
        "world_data= world_data.drop('new_cases',1)\n",
        "\n",
        "\n",
        "train_size = 0.75\n",
        "\n",
        "split_index = int(df.shape[0]*train_size) #index at which the datafram will be split\n",
        "\n",
        "world_X_train = world_data[:split_index]\n",
        "world_y_train = world_y[:split_index]\n",
        "\n",
        "world_X_test = world_data[split_index:]\n",
        "world_y_test = world_y[split_index:]\n",
        "\n",
        "pak_cases = X[X['Pakistan']==1]\n",
        "\n",
        "pak_y = pak_cases['new_cases']\n",
        "pak_data = pak_cases.drop('new_cases',1)\n",
        "\n",
        "split_index = int(pak_cases.shape[0]*train_size)\n",
        "\n",
        "pak_X_train = pak_data[:split_index]\n",
        "pak_y_train = pak_y[:split_index]\n",
        "\n",
        "pak_X_test = pak_data[split_index:]\n",
        "pak_y_test = pak_y[split_index:]\n",
        "\n",
        "print('world data dimenstions : ',world_X_train.shape,world_y_train.shape,world_X_test.shape,world_y_test.shape)\n",
        "print('pak data dimenstions : ',pak_X_train.shape,pak_y_train.shape,pak_X_test.shape,pak_y_test.shape)"
      ],
      "execution_count": null,
      "outputs": [
        {
          "output_type": "stream",
          "text": [
            "world data dimenstions :  (3702, 53) (3702,) (1124, 53) (1124,)\n",
            "pak data dimenstions :  (83, 53) (83,) (28, 53) (28,)\n"
          ],
          "name": "stdout"
        }
      ]
    },
    {
      "cell_type": "code",
      "metadata": {
        "colab_type": "code",
        "id": "Ak7fKp7FLh_H",
        "colab": {
          "base_uri": "https://localhost:8080/",
          "height": 51
        },
        "outputId": "80c5f098-f0c2-407b-dee3-fe7a1ccb2110"
      },
      "source": [
        "from sklearn.preprocessing import StandardScaler\n",
        "scalerX = StandardScaler(with_mean=True, with_std=True).fit(X_train)\n",
        "\n",
        "# X_train = scalerX.transform(X_train)\n",
        "# X_test = scalerX.transform(X_test)\n",
        "# X_val = scalerX.transform(X_val)\n",
        "\n",
        "# print((X_train.shape, y_train.shape))\n",
        "# print(X_val.shape,y_val.shape)\n",
        "# print((X_test.shape, y_test.shape))\n",
        "\n",
        "world_X_train = scalerX.transform(X_train)\n",
        "world_X_test = scalerX.transform(X_test)\n",
        "world_y_test = y_test\n",
        "world_y_train = y_train\n",
        "\n",
        "pak_X_train = scalerX.transform(pak_X_train)\n",
        "pak_X_test = scalerX.transform(pak_X_test)\n",
        "\n",
        "print('world data dimenstions : ',world_X_train.shape,world_X_test.shape)\n",
        "print('pak data dimenstions : ',pak_X_train.shape,pak_X_test.shape)"
      ],
      "execution_count": null,
      "outputs": [
        {
          "output_type": "stream",
          "text": [
            "world data dimenstions :  (4937, 53) (254, 53)\n",
            "pak data dimenstions :  (83, 53) (28, 53)\n"
          ],
          "name": "stdout"
        }
      ]
    },
    {
      "cell_type": "code",
      "metadata": {
        "id": "UMqEXQI57fgz",
        "colab_type": "code",
        "colab": {}
      },
      "source": [
        "from sklearn.metrics import mean_squared_error\n",
        "df_regression = df['new_cases']\n",
        "\n",
        "df_regression = df.copy(deep = True)\n",
        "train_size = 0.8\n",
        "\n",
        "split_index = int(df.shape[0]*train_size) #index at which the datafram will be split\n",
        "\n",
        "train = df_regression[:split_index]\n",
        "train_y = train[\"new_cases\"]\n",
        "\n",
        "\n",
        "test = df_regression[split_index:]\n",
        "test_y = test[\"new_cases\"]\n",
        "\n",
        "import statsmodels.api as sm\n",
        "\n",
        "model = sm.OLS.from_formula(formula = 'new_cases ~ 1 + number_of_days + I(number_of_days ** 2) + I(number_of_days ** 3)  + C(location)', data = train).fit()\n",
        "print(model.summary())\n",
        "pred_train = model.predict(train)\n",
        "print(np.sqrt(mean_squared_error(pred_train, train_y)))\n",
        "\n",
        "pred_test = model.predict(test)\n",
        "print(np.sqrt(mean_squared_error(pred_test, test_y)))"
      ],
      "execution_count": null,
      "outputs": []
    },
    {
      "cell_type": "markdown",
      "metadata": {
        "colab_type": "text",
        "id": "1h8fQKF_ZtF2"
      },
      "source": [
        "# Linear Regression"
      ]
    },
    {
      "cell_type": "code",
      "metadata": {
        "colab_type": "code",
        "id": "8ZlCbn91N3ow",
        "colab": {
          "base_uri": "https://localhost:8080/",
          "height": 34
        },
        "outputId": "87df40f9-6a43-4763-f8a8-c2cadb6b630f"
      },
      "source": [
        "from sklearn.linear_model import LinearRegression\n",
        "\n",
        "model = LinearRegression()\n",
        "model.fit(world_X_train, world_y_train)\n",
        "model.score(world_X_test, world_y_test)"
      ],
      "execution_count": null,
      "outputs": [
        {
          "output_type": "execute_result",
          "data": {
            "text/plain": [
              "0.489263966693817"
            ]
          },
          "metadata": {
            "tags": []
          },
          "execution_count": 30
        }
      ]
    },
    {
      "cell_type": "code",
      "metadata": {
        "colab_type": "code",
        "id": "SOhYRFRvcB_7",
        "colab": {
          "base_uri": "https://localhost:8080/",
          "height": 34
        },
        "outputId": "da602c84-b93d-48cb-809d-fda186048637"
      },
      "source": [
        "y_pred = model.predict(X_test)\n",
        "\n",
        "from sklearn.metrics import mean_squared_error\n",
        "#print(mean_squared_error(y_test,y_pred))\n",
        "#print(y_pred, y_test)\n",
        "print(np.sqrt(mean_squared_error(world_y_test,y_pred)))"
      ],
      "execution_count": null,
      "outputs": [
        {
          "output_type": "stream",
          "text": [
            "2.7374159875117626e+20\n"
          ],
          "name": "stdout"
        }
      ]
    },
    {
      "cell_type": "code",
      "metadata": {
        "colab_type": "code",
        "id": "AVlEcl4r6QFG",
        "colab": {}
      },
      "source": [
        "# DO NOT RUN THIS \n",
        "X_test = X[split_index:]\n",
        "pak_indices_dates = []\n",
        "\n",
        "pak_indices = list(X_test[X_test['Pakistan']==1].index)\n",
        "\n",
        "for i in pak_indices:\n",
        "    pak_indices_dates.append(data.date.loc[[i]].values[0])\n",
        "\n",
        "X_test_1 = X[split_index:]\n",
        "X_test_1[\"test_number\"] = np.arange(len(X_test_1))\n",
        "y_pred_pak_indices = X_test_1[X_test_1['Pakistan']==1]\n",
        "pak_y_pred= y_pred[y_pred_pak_indices.test_number.tolist()]\n",
        "print(\"pak_y_pred shape\",pak_y_pred.shape)\n",
        "\n",
        "pak_y_test= y_test.to_numpy()[y_pred_pak_indices.test_number.tolist()]\n",
        "print(\"pak_y_test shape\",pak_y_test.shape)"
      ],
      "execution_count": null,
      "outputs": []
    },
    {
      "cell_type": "code",
      "metadata": {
        "colab_type": "code",
        "id": "6CyxHp1tZtGS",
        "colab": {}
      },
      "source": [
        "# Plotting the target: Total cases\n",
        "\n",
        "plt.figure(figsize=(20,10))\n",
        "\n",
        "plt.plot(pak_indices_dates, pak_y_pred, '.', color='blue', label='Predicted data', alpha=0.8,markersize =10)\n",
        "plt.plot(pak_indices_dates, pak_y_test, '.', color='red', label='Actual data', alpha=0.8,markersize =10)\n",
        "plt.legend()\n",
        "plt.xlabel('Datetime [-]', fontsize=20)\n",
        "plt.ylabel(r'new cases', fontsize=20)\n",
        "\n",
        "plt.xticks(fontsize=20, rotation=45)\n",
        "plt.yticks(fontsize=20)\n",
        "\n",
        "plt.title('Actual vs Linear Regression Predicted Cases', fontsize=28)\n",
        "\n",
        "plt.tight_layout()\n"
      ],
      "execution_count": null,
      "outputs": []
    },
    {
      "cell_type": "code",
      "metadata": {
        "id": "jQnGWJve7fjp",
        "colab_type": "code",
        "colab": {
          "base_uri": "https://localhost:8080/",
          "height": 134
        },
        "outputId": "31325e22-09a2-4567-e161-ae914b8a359f"
      },
      "source": [
        "from sklearn import neighbors\n",
        "model = neighbors.KNeighborsRegressor(3)\n",
        "model.fit(X_train, y_train)\n",
        "\n",
        "\n",
        "from sklearn.metrics import mean_squared_error\n",
        "\n",
        "y_pred = model.predict(X_train)\n",
        "print(\"train errors\")\n",
        "print(mean_squared_error(y_train,y_pred))\n",
        "print(np.sqrt(mean_squared_error(y_train,y_pred)))\n",
        "print(\"--\")\n",
        "print(\"test errors\")\n",
        "y_pred = model.predict(X_test)\n",
        "print(mean_squared_error(y_test,y_pred))\n",
        "print(np.sqrt(mean_squared_error(y_test,y_pred)))"
      ],
      "execution_count": null,
      "outputs": [
        {
          "output_type": "stream",
          "text": [
            "train errors\n",
            "493139.51343290426\n",
            "702.2389290212443\n",
            "--\n",
            "test errors\n",
            "1186637.3888888883\n",
            "1089.3288708598925\n"
          ],
          "name": "stdout"
        }
      ]
    },
    {
      "cell_type": "code",
      "metadata": {
        "id": "qE7ceIwV7fj4",
        "colab_type": "code",
        "colab": {
          "base_uri": "https://localhost:8080/",
          "height": 705
        },
        "outputId": "c1d55ca5-c60d-4e94-e30f-aced87689830"
      },
      "source": [
        "#DO NOT RUN THIS\n",
        "X_test = X[split_index:]\n",
        "pak_indices_dates = []\n",
        "\n",
        "pak_indices = list(X_test[X_test['Pakistan']==1].index)\n",
        "\n",
        "for i in pak_indices:\n",
        "    pak_indices_dates.append(data.date.loc[[i]].values[0])\n",
        "\n",
        "X_test_1 = X[split_index:]\n",
        "X_test_1[\"test_number\"] = np.arange(len(X_test_1))\n",
        "y_pred_pak_indices = X_test_1[X_test_1['Pakistan']==1]\n",
        "pak_y_pred= y_pred[y_pred_pak_indices.test_number.tolist()]\n",
        "print(\"pak_y_pred shape\",pak_y_pred.shape)\n",
        "\n",
        "pak_y_test= y_test.to_numpy()[y_pred_pak_indices.test_number.tolist()]\n",
        "print(\"pak_y_test shape\",pak_y_test.shape)\n",
        "\n",
        "plt.figure(figsize=(20,10))\n",
        "\n",
        "plt.plot(pak_indices_dates, pak_y_pred, '.', color='blue', label='Predicted data', alpha=0.8)\n",
        "plt.plot(pak_indices_dates, pak_y_test, '.', color='red', label='Actual data', alpha=0.8)\n",
        "plt.legend()\n",
        "plt.xlabel('Datetime [-]', fontsize=20)\n",
        "plt.ylabel(r'total cases', fontsize=20)\n",
        "\n",
        "plt.xticks(fontsize=20, rotation=45)\n",
        "plt.yticks(fontsize=20)\n",
        "\n",
        "plt.title('Total Covid patients till today', fontsize=28)\n",
        "\n",
        "plt.tight_layout()\n"
      ],
      "execution_count": null,
      "outputs": [
        {
          "output_type": "stream",
          "text": [
            "/usr/local/lib/python3.6/dist-packages/ipykernel_launcher.py:10: SettingWithCopyWarning: \n",
            "A value is trying to be set on a copy of a slice from a DataFrame.\n",
            "Try using .loc[row_indexer,col_indexer] = value instead\n",
            "\n",
            "See the caveats in the documentation: https://pandas.pydata.org/pandas-docs/stable/user_guide/indexing.html#returning-a-view-versus-a-copy\n",
            "  # Remove the CWD from sys.path while we load stuff.\n"
          ],
          "name": "stderr"
        },
        {
          "output_type": "stream",
          "text": [
            "pak_y_pred shape (0,)\n",
            "pak_y_test shape (0,)\n"
          ],
          "name": "stdout"
        },
        {
          "output_type": "display_data",
          "data": {
            "image/png": "[encoded data removed]",
            "text/plain": [
              "<Figure size 1440x720 with 1 Axes>"
            ]
          },
          "metadata": {
            "tags": [],
            "needs_background": "light"
          }
        }
      ]
    },
    {
      "cell_type": "code",
      "metadata": {
        "id": "9_yaT4N-7fj-",
        "colab_type": "code",
        "colab": {}
      },
      "source": [
        "#DO NOT RUN THIS CELL\n",
        "from sklearn.svm import SVR\n",
        "from sklearn import neighbors\n",
        "from sklearn.pipeline import make_pipeline\n",
        "from sklearn.ensemble import BaggingRegressor\n",
        "\n",
        "\n",
        "model = BaggingRegressor(max_features = 35)\n",
        "model.fit(X_train, y_train)\n",
        "\n",
        "\n",
        "from sklearn.metrics import mean_squared_error\n",
        "\n",
        "y_pred = model.predict(X_train)\n",
        "print(\"train errors\")\n",
        "print(mean_squared_error(y_train,y_pred))\n",
        "print(np.sqrt(mean_squared_error(y_train,y_pred)))\n",
        "print(\"--\")\n",
        "print(\"test errors\")\n",
        "y_pred = model.predict(X_test)\n",
        "print(mean_squared_error(y_test,y_pred))\n",
        "print(np.sqrt(mean_squared_error(y_test,y_pred)))\n",
        "\n",
        "X_test = X[split_index:]\n",
        "pak_indices_dates = []\n",
        "\n",
        "pak_indices = list(X_test[X_test['Pakistan']==1].index)\n",
        "\n",
        "for i in pak_indices:\n",
        "    pak_indices_dates.append(data.date.loc[[i]].values[0])\n",
        "\n",
        "X_test_1 = X[split_index:]\n",
        "X_test_1[\"test_number\"] = np.arange(len(X_test_1))\n",
        "y_pred_pak_indices = X_test_1[X_test_1['Pakistan']==1]\n",
        "pak_y_pred= y_pred[y_pred_pak_indices.test_number.tolist()]\n",
        "print(\"pak_y_pred shape\",pak_y_pred.shape)\n",
        "\n",
        "pak_y_test= y_test.to_numpy()[y_pred_pak_indices.test_number.tolist()]\n",
        "print(\"pak_y_test shape\",pak_y_test.shape)\n",
        "\n",
        "plt.figure(figsize=(20,10))\n",
        "\n",
        "plt.plot(pak_indices_dates, pak_y_pred, '.', color='blue', label='Predicted data', alpha=0.8)\n",
        "plt.plot(pak_indices_dates, pak_y_test, '.', color='red', label='Actual data', alpha=0.8)\n",
        "plt.legend()\n",
        "plt.xlabel('Datetime [-]', fontsize=20)\n",
        "plt.ylabel(r'total cases', fontsize=20)\n",
        "\n",
        "plt.xticks(fontsize=20, rotation=45)\n",
        "plt.yticks(fontsize=20)\n",
        "\n",
        "plt.title('Total Covid patients till today', fontsize=28)\n",
        "\n",
        "plt.tight_layout()\n"
      ],
      "execution_count": null,
      "outputs": []
    },
    {
      "cell_type": "markdown",
      "metadata": {
        "colab_type": "text",
        "id": "ZyyCr28uZtGV"
      },
      "source": [
        "# Deep Neural Network"
      ]
    },
    {
      "cell_type": "code",
      "metadata": {
        "colab_type": "code",
        "id": "8RRYVb4YZtGW",
        "colab": {}
      },
      "source": [
        "from keras.layers.advanced_activations import LeakyReLU\n",
        "from keras.layers.normalization import BatchNormalization\n",
        "from keras.optimizers import Adam, SGD, Nadam\n",
        "from tensorflow.keras import regularizers\n",
        "from keras.optimizers import Adam\n",
        "\n",
        "from keras.models import Sequential\n",
        "from keras.layers.core import Dense, Activation, Dropout, Flatten\n",
        "from keras.layers.recurrent import LSTM\n",
        "from keras.layers import Dense, Conv1D, MaxPool2D, Flatten, Dropout\n",
        "from keras.optimizers import Adam\n",
        "from time import time\n",
        "import tensorflow as tf\n",
        "from sklearn.preprocessing import StandardScaler"
      ],
      "execution_count": null,
      "outputs": []
    },
    {
      "cell_type": "code",
      "metadata": {
        "colab_type": "code",
        "id": "CGRTrnnLrQM8",
        "colab": {
          "base_uri": "https://localhost:8080/",
          "height": 51
        },
        "outputId": "7981dd61-9fc0-4db0-c397-0cd963bb2711"
      },
      "source": [
        "print((X_train.shape, y_train.shape))\n",
        "print((X_test.shape, y_test.shape))"
      ],
      "execution_count": null,
      "outputs": [
        {
          "output_type": "stream",
          "text": [
            "((4650, 53), (4650,))\n",
            "((199, 53), (199,))\n"
          ],
          "name": "stdout"
        }
      ]
    },
    {
      "cell_type": "code",
      "metadata": {
        "colab_type": "code",
        "id": "mVxw1_7VCa5S",
        "colab": {}
      },
      "source": [
        "model = Sequential()\n",
        "model.add(Dense(32, input_shape=(X_train.shape[1],), kernel_regularizer=regularizers.l2(0.01), use_bias=False))\n",
        "model.add(BatchNormalization())\n",
        "model.add(LeakyReLU())\n",
        "model.add(Dropout(0.08))\n",
        "\n",
        "model.add(Dense(512, kernel_regularizer=regularizers.l2(0.01), use_bias=False))\n",
        "model.add(BatchNormalization())\n",
        "model.add(LeakyReLU())\n",
        "model.add(Dropout(0.15))   \n",
        "\n",
        "model.add(Dense(256, kernel_regularizer=regularizers.l2(0.01), use_bias=False))\n",
        "model.add(BatchNormalization())\n",
        "model.add(LeakyReLU())\n",
        "model.add(Dropout(0.15))   \n",
        "\n",
        "model.add(Dense(32, kernel_regularizer=regularizers.l2(0.01), use_bias=False))\n",
        "model.add(BatchNormalization())\n",
        "model.add(LeakyReLU())\n",
        "model.add(Dropout(0.15))   \n",
        "\n",
        "model.add(Dense(1))\n"
      ],
      "execution_count": null,
      "outputs": []
    },
    {
      "cell_type": "code",
      "metadata": {
        "colab_type": "code",
        "id": "CD-dJlbeuIp_",
        "colab": {}
      },
      "source": [
        "Adam = Adam(lr = 0.0001)\n",
        "model.compile(optimizer = Adam, loss = 'mse', metrics = ['mse'])\n",
        "hist = model.fit(X_train, y_train, epochs = 100, batch_size = 32, validation_data = (X_test,y_test))"
      ],
      "execution_count": null,
      "outputs": []
    },
    {
      "cell_type": "code",
      "metadata": {
        "colab_type": "code",
        "id": "3vZ2ocYkvOBL",
        "colab": {
          "base_uri": "https://localhost:8080/",
          "height": 573
        },
        "outputId": "a12dc6b2-dacb-4ced-ab54-2c55bf843af9"
      },
      "source": [
        "plt.plot(hist.history['loss'])\n",
        "plt.plot(hist.history['val_loss'])\n",
        "plt.title('Model loss')\n",
        "plt.ylabel('Loss')\n",
        "plt.xlabel('Epoch')\n",
        "plt.legend(['Train', 'Test'], loc='upper left')\n",
        "plt.show()\n",
        "#Plot both the training accuracy as well as the validation accuracy on the same plot\n",
        "plt.plot(hist.history['mse'])\n",
        "plt.plot(hist.history['val_mse'])\n",
        "plt.title('Model accuracy')\n",
        "plt.ylabel('Accuracy')\n",
        "plt.xlabel('Epoch')\n",
        "plt.legend(['Train', 'Test'], loc='upper left')\n",
        "plt.show()"
      ],
      "execution_count": null,
      "outputs": [
        {
          "output_type": "display_data",
          "data": {
            "image/png": "[encoded data removed]",
            "text/plain": [
              "<Figure size 432x288 with 1 Axes>"
            ]
          },
          "metadata": {
            "tags": [],
            "needs_background": "light"
          }
        },
        {
          "output_type": "display_data",
          "data": {
            "image/png": "[encoded data removed]",
            "text/plain": [
              "<Figure size 432x288 with 1 Axes>"
            ]
          },
          "metadata": {
            "tags": [],
            "needs_background": "light"
          }
        }
      ]
    },
    {
      "cell_type": "code",
      "metadata": {
        "id": "Vs5iVkSTEIvw",
        "colab_type": "code",
        "colab": {}
      },
      "source": [
        ""
      ],
      "execution_count": null,
      "outputs": []
    },
    {
      "cell_type": "markdown",
      "metadata": {
        "colab_type": "text",
        "id": "bT5Xhx5DHNEB"
      },
      "source": [
        "# LSTM"
      ]
    },
    {
      "cell_type": "code",
      "metadata": {
        "colab_type": "code",
        "id": "WRmHhtH6VtU9",
        "colab": {
          "base_uri": "https://localhost:8080/",
          "height": 34
        },
        "outputId": "2fdfbbf5-a5f0-4fdb-810c-d559fc4a7a66"
      },
      "source": [
        "from keras.layers.recurrent import LSTM,GRU\n",
        "from keras.layers.normalization import BatchNormalization\n",
        "from keras.layers import LeakyReLU\n",
        "from keras.layers.advanced_activations import LeakyReLU\n",
        "from keras.optimizers import Adam, SGD\n",
        "from tensorflow.keras import regularizers\n",
        "from keras.optimizers import Adam\n",
        "from keras.models import Sequential\n",
        "from keras.layers.core import Dense, Activation\n",
        "from keras.layers.recurrent import LSTM\n",
        "from keras.layers import Dense, Flatten, Dropout"
      ],
      "execution_count": null,
      "outputs": [
        {
          "output_type": "stream",
          "text": [
            "Using TensorFlow backend.\n"
          ],
          "name": "stderr"
        }
      ]
    },
    {
      "cell_type": "code",
      "metadata": {
        "colab_type": "code",
        "id": "uaBkNRqhMJjN",
        "colab": {}
      },
      "source": [
        "def lstm_change_shape(look_back,X_train,y_train,X_test,y_test):\n",
        "  samples = len(X_train)\n",
        "  num_features = X_train.shape[1]\n",
        "\n",
        "  samples_train = X_train.shape[0] - look_back\n",
        "  X_train_reshaped = np.zeros((samples_train, look_back, num_features)) # Initialize the required shape with an 'empty' zeros array.\n",
        "  y_train_reshaped = np.zeros((samples_train))\n",
        "\n",
        "  for i in range(samples_train):\n",
        "    y_position = i + look_back\n",
        "    X_train_reshaped[i] = X_train[i:y_position]\n",
        "    y_train_reshaped[i] = y_train.iloc[y_position]\n",
        "\n",
        "  samples_test = X_test.shape[0] - look_back\n",
        "  X_test_reshaped = np.zeros((samples_test, look_back, num_features))\n",
        "  y_test_reshaped = np.zeros((samples_test))\n",
        "\n",
        "  for i in range(samples_test):\n",
        "    y_position = i + look_back\n",
        "    X_test_reshaped[i] =  X_test[i:y_position]\n",
        "    y_test_reshaped[i] = y_test.iloc[y_position]\n",
        "  \n",
        "  print(X_train_reshaped.shape,y_train_reshaped.shape,X_test_reshaped.shape,y_test_reshaped.shape,num_features)\n",
        "  return X_train_reshaped,y_train_reshaped,X_test_reshaped,y_test_reshaped,num_features"
      ],
      "execution_count": null,
      "outputs": []
    },
    {
      "cell_type": "code",
      "metadata": {
        "id": "gAfDcAzyFUZo",
        "colab_type": "code",
        "colab": {
          "base_uri": "https://localhost:8080/",
          "height": 51
        },
        "outputId": "83d8237e-d3b6-432b-e7df-10b9be893fff"
      },
      "source": [
        "look_back_world = 1\n",
        "look_back_pak = 1\n",
        "\n",
        "world_X_train_reshaped,world_y_train_reshaped,world_X_test_reshaped,world_y_test_reshaped,world_num_features = lstm_change_shape(look_back_world,world_X_train,world_y_train,world_X_test,world_y_test)\n",
        "pak_X_train_reshaped,pak_y_train_reshaped,pak_X_test_reshaped,pak_y_test_reshaped,pak_num_features = lstm_change_shape(look_back_pak,pak_X_train,pak_y_train,pak_X_test,pak_y_test)"
      ],
      "execution_count": null,
      "outputs": [
        {
          "output_type": "stream",
          "text": [
            "(4936, 1, 53) (4936,) (253, 1, 53) (253,) 53\n",
            "(82, 1, 53) (82,) (27, 1, 53) (27,) 53\n"
          ],
          "name": "stdout"
        }
      ]
    },
    {
      "cell_type": "code",
      "metadata": {
        "colab_type": "code",
        "id": "CPw2z1JNV9zU",
        "colab": {}
      },
      "source": [
        "def building_model(look_back,num_features):\n",
        "\n",
        "  model = Sequential()\n",
        "  model.add(LSTM(5, input_shape=(look_back, num_features), return_sequences=True, kernel_initializer='TruncatedNormal'))\n",
        "  model.add(BatchNormalization())\n",
        "  model.add(LeakyReLU())\n",
        "  model.add(Dropout(0.3))\n",
        "\n",
        "  model.add(LSTM(3, kernel_initializer='TruncatedNormal', return_sequences=False))\n",
        "  model.add(BatchNormalization())\n",
        "  model.add(LeakyReLU())\n",
        "  model.add(Dropout(0.2))\n",
        "\n",
        "  model.add(Dense(100, kernel_initializer='TruncatedNormal'))\n",
        "  model.add(BatchNormalization())\n",
        "  model.add(LeakyReLU())\n",
        "  model.add(Dropout(0.3))\n",
        "\n",
        "  model.add(Dense(32, kernel_initializer='TruncatedNormal'))\n",
        "  model.add(BatchNormalization())\n",
        "  model.add(LeakyReLU())\n",
        "  model.add(Dropout(0.2))\n",
        "      \n",
        "  model.add(Dense(1))\n",
        "  return model\n"
      ],
      "execution_count": null,
      "outputs": []
    },
    {
      "cell_type": "code",
      "metadata": {
        "colab_type": "code",
        "id": "lND1yhMUYKJ-",
        "colab": {
          "base_uri": "https://localhost:8080/",
          "height": 1000
        },
        "outputId": "2e930fa1-550b-442c-d718-7dcb1fc86ebc"
      },
      "source": [
        "from keras.optimizers import Adam, SGD\n",
        "Adam = Adam(lr = 0.001)\n",
        "\n",
        "model_world = building_model(look_back_world,world_num_features)\n",
        "model_world.compile(optimizer = Adam, loss = 'mse', metrics = ['mse'])\n",
        "\n",
        "hist1 = model_world.fit(world_X_train_reshaped,world_y_train_reshaped, epochs = 200, batch_size = 128, validation_data =(world_X_test_reshaped,world_y_test_reshaped))"
      ],
      "execution_count": null,
      "outputs": [
        {
          "output_type": "stream",
          "text": [
            "Train on 4936 samples, validate on 253 samples\n",
            "Epoch 1/200\n",
            "4936/4936 [==============================] - 4s 754us/step - loss: 20920262.9951 - mse: 20920264.0000 - val_loss: 16149008.0791 - val_mse: 16149008.0000\n",
            "Epoch 2/200\n",
            "4936/4936 [==============================] - 1s 156us/step - loss: 20916038.4198 - mse: 20916038.0000 - val_loss: 16147375.9130 - val_mse: 16147375.0000\n",
            "Epoch 3/200\n",
            "4936/4936 [==============================] - 1s 151us/step - loss: 20910056.1232 - mse: 20910050.0000 - val_loss: 16145664.2451 - val_mse: 16145664.0000\n",
            "Epoch 4/200\n",
            "4936/4936 [==============================] - 1s 154us/step - loss: 20904196.7715 - mse: 20904194.0000 - val_loss: 16143345.1067 - val_mse: 16143345.0000\n",
            "Epoch 5/200\n",
            "4936/4936 [==============================] - 1s 150us/step - loss: 20899247.8169 - mse: 20899250.0000 - val_loss: 16140338.3953 - val_mse: 16140338.0000\n",
            "Epoch 6/200\n",
            "4936/4936 [==============================] - 1s 150us/step - loss: 20892278.0389 - mse: 20892278.0000 - val_loss: 16137596.8617 - val_mse: 16137596.0000\n",
            "Epoch 7/200\n",
            "4936/4936 [==============================] - 1s 152us/step - loss: 20886802.9498 - mse: 20886804.0000 - val_loss: 16134381.9921 - val_mse: 16134383.0000\n",
            "Epoch 8/200\n",
            "4936/4936 [==============================] - 1s 163us/step - loss: 20879610.6872 - mse: 20879608.0000 - val_loss: 16129109.5968 - val_mse: 16129110.0000\n",
            "Epoch 9/200\n",
            "4936/4936 [==============================] - 1s 154us/step - loss: 20871334.4246 - mse: 20871334.0000 - val_loss: 16123743.0277 - val_mse: 16123743.0000\n",
            "Epoch 10/200\n",
            "4936/4936 [==============================] - 1s 156us/step - loss: 20862054.2435 - mse: 20862054.0000 - val_loss: 16113552.6561 - val_mse: 16113553.0000\n",
            "Epoch 11/200\n",
            "4936/4936 [==============================] - 1s 157us/step - loss: 20853677.9708 - mse: 20853676.0000 - val_loss: 16097081.0356 - val_mse: 16097081.0000\n",
            "Epoch 12/200\n",
            "4936/4936 [==============================] - 1s 155us/step - loss: 20843182.8169 - mse: 20843180.0000 - val_loss: 16079248.8696 - val_mse: 16079249.0000\n",
            "Epoch 13/200\n",
            "4936/4936 [==============================] - 1s 167us/step - loss: 20833128.7844 - mse: 20833130.0000 - val_loss: 16056290.9407 - val_mse: 16056292.0000\n",
            "Epoch 14/200\n",
            "4936/4936 [==============================] - 1s 172us/step - loss: 20814258.7229 - mse: 20814258.0000 - val_loss: 16025691.7866 - val_mse: 16025692.0000\n",
            "Epoch 15/200\n",
            "4936/4936 [==============================] - 1s 158us/step - loss: 20804300.1102 - mse: 20804300.0000 - val_loss: 15995954.8458 - val_mse: 15995955.0000\n",
            "Epoch 16/200\n",
            "4936/4936 [==============================] - 1s 152us/step - loss: 20788006.0681 - mse: 20788008.0000 - val_loss: 15937038.3715 - val_mse: 15937038.0000\n",
            "Epoch 17/200\n",
            "4936/4936 [==============================] - 1s 159us/step - loss: 20779487.9335 - mse: 20779488.0000 - val_loss: 15854669.5494 - val_mse: 15854669.0000\n",
            "Epoch 18/200\n",
            "4936/4936 [==============================] - 1s 167us/step - loss: 20760107.4489 - mse: 20760106.0000 - val_loss: 15840530.4980 - val_mse: 15840530.0000\n",
            "Epoch 19/200\n",
            "4936/4936 [==============================] - 1s 156us/step - loss: 20747057.8314 - mse: 20747058.0000 - val_loss: 15765034.8458 - val_mse: 15765034.0000\n",
            "Epoch 20/200\n",
            "4936/4936 [==============================] - 1s 168us/step - loss: 20731122.3209 - mse: 20731122.0000 - val_loss: 15815502.9723 - val_mse: 15815503.0000\n",
            "Epoch 21/200\n",
            "4936/4936 [==============================] - 1s 163us/step - loss: 20708450.3736 - mse: 20708452.0000 - val_loss: 15735883.3992 - val_mse: 15735884.0000\n",
            "Epoch 22/200\n",
            "4936/4936 [==============================] - 1s 158us/step - loss: 20692902.7083 - mse: 20692900.0000 - val_loss: 15642546.4111 - val_mse: 15642546.0000\n",
            "Epoch 23/200\n",
            "4936/4936 [==============================] - 1s 164us/step - loss: 20676800.2950 - mse: 20676800.0000 - val_loss: 15647752.7668 - val_mse: 15647753.0000\n",
            "Epoch 24/200\n",
            "4936/4936 [==============================] - 1s 155us/step - loss: 20654157.4652 - mse: 20654158.0000 - val_loss: 15531372.8617 - val_mse: 15531373.0000\n",
            "Epoch 25/200\n",
            "4936/4936 [==============================] - 1s 161us/step - loss: 20632433.9384 - mse: 20632432.0000 - val_loss: 15612192.1660 - val_mse: 15612192.0000\n",
            "Epoch 26/200\n",
            "4936/4936 [==============================] - 1s 160us/step - loss: 20616667.8655 - mse: 20616670.0000 - val_loss: 15517497.4466 - val_mse: 15517498.0000\n",
            "Epoch 27/200\n",
            "4936/4936 [==============================] - 1s 166us/step - loss: 20598971.0746 - mse: 20598972.0000 - val_loss: 15476048.8379 - val_mse: 15476049.0000\n",
            "Epoch 28/200\n",
            "4936/4936 [==============================] - 1s 154us/step - loss: 20578292.2626 - mse: 20578294.0000 - val_loss: 15503030.3557 - val_mse: 15503031.0000\n",
            "Epoch 29/200\n",
            "4936/4936 [==============================] - 1s 155us/step - loss: 20547045.1442 - mse: 20547046.0000 - val_loss: 15369156.3004 - val_mse: 15369156.0000\n",
            "Epoch 30/200\n",
            "4936/4936 [==============================] - 1s 152us/step - loss: 20524768.9109 - mse: 20524768.0000 - val_loss: 15279686.1739 - val_mse: 15279687.0000\n",
            "Epoch 31/200\n",
            "4936/4936 [==============================] - 1s 146us/step - loss: 20502368.9595 - mse: 20502368.0000 - val_loss: 15310048.2451 - val_mse: 15310049.0000\n",
            "Epoch 32/200\n",
            "4936/4936 [==============================] - 1s 150us/step - loss: 20490330.5122 - mse: 20490332.0000 - val_loss: 15270910.5929 - val_mse: 15270910.0000\n",
            "Epoch 33/200\n",
            "4936/4936 [==============================] - 1s 149us/step - loss: 20456240.9109 - mse: 20456244.0000 - val_loss: 15108952.9802 - val_mse: 15108953.0000\n",
            "Epoch 34/200\n",
            "4936/4936 [==============================] - 1s 151us/step - loss: 20428510.0162 - mse: 20428510.0000 - val_loss: 15133730.5375 - val_mse: 15133730.0000\n",
            "Epoch 35/200\n",
            "4936/4936 [==============================] - 1s 154us/step - loss: 20420432.1588 - mse: 20420430.0000 - val_loss: 15150886.7589 - val_mse: 15150886.0000\n",
            "Epoch 36/200\n",
            "4936/4936 [==============================] - 1s 150us/step - loss: 20378920.2350 - mse: 20378924.0000 - val_loss: 15197141.2806 - val_mse: 15197140.0000\n",
            "Epoch 37/200\n",
            "4936/4936 [==============================] - 1s 159us/step - loss: 20364718.2399 - mse: 20364724.0000 - val_loss: 15203885.9368 - val_mse: 15203887.0000\n",
            "Epoch 38/200\n",
            "4936/4936 [==============================] - 1s 149us/step - loss: 20337226.7780 - mse: 20337224.0000 - val_loss: 15114622.4348 - val_mse: 15114622.0000\n",
            "Epoch 39/200\n",
            "4936/4936 [==============================] - 1s 155us/step - loss: 20299893.4814 - mse: 20299896.0000 - val_loss: 15022260.7431 - val_mse: 15022261.0000\n",
            "Epoch 40/200\n",
            "4936/4936 [==============================] - 1s 152us/step - loss: 20285415.1572 - mse: 20285416.0000 - val_loss: 14802962.4348 - val_mse: 14802963.0000\n",
            "Epoch 41/200\n",
            "4936/4936 [==============================] - 1s 148us/step - loss: 20243526.1135 - mse: 20243530.0000 - val_loss: 14865201.4704 - val_mse: 14865202.0000\n",
            "Epoch 42/200\n",
            "4936/4936 [==============================] - 1s 149us/step - loss: 20223178.6256 - mse: 20223180.0000 - val_loss: 14874899.2411 - val_mse: 14874899.0000\n",
            "Epoch 43/200\n",
            "4936/4936 [==============================] - 1s 148us/step - loss: 20185338.9157 - mse: 20185340.0000 - val_loss: 14773521.8893 - val_mse: 14773522.0000\n",
            "Epoch 44/200\n",
            "4936/4936 [==============================] - 1s 150us/step - loss: 20152986.9173 - mse: 20152988.0000 - val_loss: 14735441.9209 - val_mse: 14735442.0000\n",
            "Epoch 45/200\n",
            "4936/4936 [==============================] - 1s 153us/step - loss: 20144449.0908 - mse: 20144448.0000 - val_loss: 14755149.9447 - val_mse: 14755150.0000\n",
            "Epoch 46/200\n",
            "4936/4936 [==============================] - 1s 150us/step - loss: 20108483.3298 - mse: 20108488.0000 - val_loss: 14626690.6324 - val_mse: 14626691.0000\n",
            "Epoch 47/200\n",
            "4936/4936 [==============================] - 1s 151us/step - loss: 20091193.6921 - mse: 20091196.0000 - val_loss: 14561444.6166 - val_mse: 14561445.0000\n",
            "Epoch 48/200\n",
            "4936/4936 [==============================] - 1s 160us/step - loss: 20056059.5924 - mse: 20056060.0000 - val_loss: 14401293.6126 - val_mse: 14401293.0000\n",
            "Epoch 49/200\n",
            "4936/4936 [==============================] - 1s 150us/step - loss: 20004871.9903 - mse: 20004870.0000 - val_loss: 14400103.7470 - val_mse: 14400103.0000\n",
            "Epoch 50/200\n",
            "4936/4936 [==============================] - 1s 152us/step - loss: 19989656.7715 - mse: 19989658.0000 - val_loss: 14539767.5415 - val_mse: 14539768.0000\n",
            "Epoch 51/200\n",
            "4936/4936 [==============================] - 1s 149us/step - loss: 19962349.4327 - mse: 19962348.0000 - val_loss: 14459893.7866 - val_mse: 14459894.0000\n",
            "Epoch 52/200\n",
            "4936/4936 [==============================] - 1s 150us/step - loss: 19942114.9109 - mse: 19942114.0000 - val_loss: 14420356.4585 - val_mse: 14420357.0000\n",
            "Epoch 53/200\n",
            "4936/4936 [==============================] - 1s 158us/step - loss: 19898865.3387 - mse: 19898864.0000 - val_loss: 14415120.9723 - val_mse: 14415121.0000\n",
            "Epoch 54/200\n",
            "4936/4936 [==============================] - 1s 150us/step - loss: 19856175.2180 - mse: 19856174.0000 - val_loss: 14215333.8024 - val_mse: 14215334.0000\n",
            "Epoch 55/200\n",
            "4936/4936 [==============================] - 1s 149us/step - loss: 19847866.2626 - mse: 19847866.0000 - val_loss: 14002194.5771 - val_mse: 14002195.0000\n",
            "Epoch 56/200\n",
            "4936/4936 [==============================] - 1s 151us/step - loss: 19810815.7569 - mse: 19810816.0000 - val_loss: 13956150.4348 - val_mse: 13956151.0000\n",
            "Epoch 57/200\n",
            "4936/4936 [==============================] - 1s 144us/step - loss: 19760412.1053 - mse: 19760412.0000 - val_loss: 13851035.1858 - val_mse: 13851036.0000\n",
            "Epoch 58/200\n",
            "4936/4936 [==============================] - 1s 152us/step - loss: 19723443.7115 - mse: 19723442.0000 - val_loss: 13745081.1542 - val_mse: 13745081.0000\n",
            "Epoch 59/200\n",
            "4936/4936 [==============================] - 1s 154us/step - loss: 19741034.4749 - mse: 19741036.0000 - val_loss: 13895256.0632 - val_mse: 13895256.0000\n",
            "Epoch 60/200\n",
            "4936/4936 [==============================] - 1s 156us/step - loss: 19662904.5316 - mse: 19662906.0000 - val_loss: 13899409.8261 - val_mse: 13899410.0000\n",
            "Epoch 61/200\n",
            "4936/4936 [==============================] - 1s 156us/step - loss: 19640809.2123 - mse: 19640810.0000 - val_loss: 13615487.1779 - val_mse: 13615486.0000\n",
            "Epoch 62/200\n",
            "4936/4936 [==============================] - 1s 148us/step - loss: 19613963.9254 - mse: 19613966.0000 - val_loss: 13518859.9605 - val_mse: 13518859.0000\n",
            "Epoch 63/200\n",
            "4936/4936 [==============================] - 1s 152us/step - loss: 19597595.0016 - mse: 19597594.0000 - val_loss: 13434547.4545 - val_mse: 13434548.0000\n",
            "Epoch 64/200\n",
            "4936/4936 [==============================] - 1s 153us/step - loss: 19540515.0794 - mse: 19540514.0000 - val_loss: 13527849.3518 - val_mse: 13527849.0000\n",
            "Epoch 65/200\n",
            "4936/4936 [==============================] - 1s 154us/step - loss: 19475929.6337 - mse: 19475930.0000 - val_loss: 13467687.6917 - val_mse: 13467688.0000\n",
            "Epoch 66/200\n",
            "4936/4936 [==============================] - 1s 148us/step - loss: 19476342.0908 - mse: 19476338.0000 - val_loss: 13558927.8893 - val_mse: 13558928.0000\n",
            "Epoch 67/200\n",
            "4936/4936 [==============================] - 1s 143us/step - loss: 19455045.8574 - mse: 19455046.0000 - val_loss: 13506810.7115 - val_mse: 13506811.0000\n",
            "Epoch 68/200\n",
            "4936/4936 [==============================] - 1s 149us/step - loss: 19411532.7666 - mse: 19411534.0000 - val_loss: 13389699.5652 - val_mse: 13389700.0000\n",
            "Epoch 69/200\n",
            "4936/4936 [==============================] - 1s 159us/step - loss: 19360976.5802 - mse: 19360978.0000 - val_loss: 13137731.2253 - val_mse: 13137731.0000\n",
            "Epoch 70/200\n",
            "4936/4936 [==============================] - 1s 153us/step - loss: 19351348.1975 - mse: 19351346.0000 - val_loss: 13170494.2055 - val_mse: 13170495.0000\n",
            "Epoch 71/200\n",
            "4936/4936 [==============================] - 1s 152us/step - loss: 19290343.4376 - mse: 19290342.0000 - val_loss: 13258836.1028 - val_mse: 13258836.0000\n",
            "Epoch 72/200\n",
            "4936/4936 [==============================] - 1s 149us/step - loss: 19280420.4279 - mse: 19280424.0000 - val_loss: 13070782.2095 - val_mse: 13070782.0000\n",
            "Epoch 73/200\n",
            "4936/4936 [==============================] - 1s 150us/step - loss: 19237136.6159 - mse: 19237134.0000 - val_loss: 13203514.9249 - val_mse: 13203515.0000\n",
            "Epoch 74/200\n",
            "4936/4936 [==============================] - 1s 155us/step - loss: 19200567.1876 - mse: 19200570.0000 - val_loss: 13139118.2727 - val_mse: 13139118.0000\n",
            "Epoch 75/200\n",
            "4936/4936 [==============================] - 1s 150us/step - loss: 19172188.6094 - mse: 19172192.0000 - val_loss: 13275174.4032 - val_mse: 13275174.0000\n",
            "Epoch 76/200\n",
            "4936/4936 [==============================] - 1s 152us/step - loss: 19153091.1183 - mse: 19153094.0000 - val_loss: 12989225.9368 - val_mse: 12989226.0000\n",
            "Epoch 77/200\n",
            "4936/4936 [==============================] - 1s 150us/step - loss: 19110323.1572 - mse: 19110324.0000 - val_loss: 12522463.2411 - val_mse: 12522464.0000\n",
            "Epoch 78/200\n",
            "4936/4936 [==============================] - 1s 152us/step - loss: 19099061.0308 - mse: 19099058.0000 - val_loss: 12893752.8854 - val_mse: 12893753.0000\n",
            "Epoch 79/200\n",
            "4936/4936 [==============================] - 1s 145us/step - loss: 19028662.7991 - mse: 19028662.0000 - val_loss: 12819675.9921 - val_mse: 12819676.0000\n",
            "Epoch 80/200\n",
            "4936/4936 [==============================] - 1s 150us/step - loss: 19025770.2820 - mse: 19025768.0000 - val_loss: 12411268.6957 - val_mse: 12411269.0000\n",
            "Epoch 81/200\n",
            "4936/4936 [==============================] - 1s 152us/step - loss: 18962755.2820 - mse: 18962756.0000 - val_loss: 12232093.0514 - val_mse: 12232093.0000\n",
            "Epoch 82/200\n",
            "4936/4936 [==============================] - 1s 156us/step - loss: 18955716.3744 - mse: 18955718.0000 - val_loss: 12386102.7194 - val_mse: 12386103.0000\n",
            "Epoch 83/200\n",
            "4936/4936 [==============================] - 1s 150us/step - loss: 18918888.6110 - mse: 18918890.0000 - val_loss: 12220812.8696 - val_mse: 12220813.0000\n",
            "Epoch 84/200\n",
            "4936/4936 [==============================] - 1s 152us/step - loss: 18969577.9571 - mse: 18969578.0000 - val_loss: 12163305.7866 - val_mse: 12163306.0000\n",
            "Epoch 85/200\n",
            "4936/4936 [==============================] - 1s 147us/step - loss: 18900529.6110 - mse: 18900528.0000 - val_loss: 12268093.3123 - val_mse: 12268093.0000\n",
            "Epoch 86/200\n",
            "4936/4936 [==============================] - 1s 151us/step - loss: 18843185.2261 - mse: 18843184.0000 - val_loss: 12560072.0079 - val_mse: 12560072.0000\n",
            "Epoch 87/200\n",
            "4936/4936 [==============================] - 1s 150us/step - loss: 18768169.3501 - mse: 18768168.0000 - val_loss: 12329059.9051 - val_mse: 12329059.0000\n",
            "Epoch 88/200\n",
            "4936/4936 [==============================] - 1s 150us/step - loss: 18771599.8687 - mse: 18771600.0000 - val_loss: 12293784.5217 - val_mse: 12293785.0000\n",
            "Epoch 89/200\n",
            "4936/4936 [==============================] - 1s 149us/step - loss: 18727512.4100 - mse: 18727516.0000 - val_loss: 11955423.7233 - val_mse: 11955424.0000\n",
            "Epoch 90/200\n",
            "4936/4936 [==============================] - 1s 154us/step - loss: 18749743.8191 - mse: 18749742.0000 - val_loss: 11734115.9130 - val_mse: 11734116.0000\n",
            "Epoch 91/200\n",
            "4936/4936 [==============================] - 1s 150us/step - loss: 18629001.2188 - mse: 18628998.0000 - val_loss: 11410431.9289 - val_mse: 11410432.0000\n",
            "Epoch 92/200\n",
            "4936/4936 [==============================] - 1s 147us/step - loss: 18675555.7075 - mse: 18675556.0000 - val_loss: 11456524.1423 - val_mse: 11456524.0000\n",
            "Epoch 93/200\n",
            "4936/4936 [==============================] - 1s 157us/step - loss: 18604514.5932 - mse: 18604514.0000 - val_loss: 11643081.2964 - val_mse: 11643080.0000\n",
            "Epoch 94/200\n",
            "4936/4936 [==============================] - 1s 147us/step - loss: 18585935.9530 - mse: 18585936.0000 - val_loss: 11453960.4980 - val_mse: 11453961.0000\n",
            "Epoch 95/200\n",
            "4936/4936 [==============================] - 1s 147us/step - loss: 18573208.3728 - mse: 18573208.0000 - val_loss: 12001090.6482 - val_mse: 12001091.0000\n",
            "Epoch 96/200\n",
            "4936/4936 [==============================] - 1s 148us/step - loss: 18508630.6062 - mse: 18508632.0000 - val_loss: 11698322.6719 - val_mse: 11698323.0000\n",
            "Epoch 97/200\n",
            "4936/4936 [==============================] - 1s 150us/step - loss: 18492414.8963 - mse: 18492414.0000 - val_loss: 11377545.5810 - val_mse: 11377546.0000\n",
            "Epoch 98/200\n",
            "4936/4936 [==============================] - 1s 154us/step - loss: 18461361.5948 - mse: 18461360.0000 - val_loss: 11412102.8933 - val_mse: 11412103.0000\n",
            "Epoch 99/200\n",
            "4936/4936 [==============================] - 1s 146us/step - loss: 18425388.5413 - mse: 18425390.0000 - val_loss: 11330321.3123 - val_mse: 11330321.0000\n",
            "Epoch 100/200\n",
            "4936/4936 [==============================] - 1s 148us/step - loss: 18419189.2281 - mse: 18419190.0000 - val_loss: 11405612.8458 - val_mse: 11405613.0000\n",
            "Epoch 101/200\n",
            "4936/4936 [==============================] - 1s 147us/step - loss: 18373716.5511 - mse: 18373718.0000 - val_loss: 11520586.7115 - val_mse: 11520587.0000\n",
            "Epoch 102/200\n",
            "4936/4936 [==============================] - 1s 154us/step - loss: 18371480.0551 - mse: 18371478.0000 - val_loss: 11652546.9328 - val_mse: 11652546.0000\n",
            "Epoch 103/200\n",
            "4936/4936 [==============================] - 1s 152us/step - loss: 18403452.5770 - mse: 18403452.0000 - val_loss: 11346037.9842 - val_mse: 11346037.0000\n",
            "Epoch 104/200\n",
            "4936/4936 [==============================] - 1s 155us/step - loss: 18323349.2091 - mse: 18323352.0000 - val_loss: 11181434.4822 - val_mse: 11181434.0000\n",
            "Epoch 105/200\n",
            "4936/4936 [==============================] - 1s 156us/step - loss: 18321112.8517 - mse: 18321110.0000 - val_loss: 11097541.3043 - val_mse: 11097541.0000\n",
            "Epoch 106/200\n",
            "4936/4936 [==============================] - 1s 149us/step - loss: 18316453.4878 - mse: 18316458.0000 - val_loss: 11270559.2727 - val_mse: 11270560.0000\n",
            "Epoch 107/200\n",
            "4936/4936 [==============================] - 1s 150us/step - loss: 18219587.9546 - mse: 18219588.0000 - val_loss: 11156534.0791 - val_mse: 11156535.0000\n",
            "Epoch 108/200\n",
            "4936/4936 [==============================] - 1s 154us/step - loss: 18220747.5462 - mse: 18220748.0000 - val_loss: 11241065.6759 - val_mse: 11241066.0000\n",
            "Epoch 109/200\n",
            "4936/4936 [==============================] - 1s 155us/step - loss: 18114849.9125 - mse: 18114850.0000 - val_loss: 10899750.2688 - val_mse: 10899750.0000\n",
            "Epoch 110/200\n",
            "4936/4936 [==============================] - 1s 146us/step - loss: 18117769.0502 - mse: 18117768.0000 - val_loss: 10797973.8261 - val_mse: 10797974.0000\n",
            "Epoch 111/200\n",
            "4936/4936 [==============================] - 1s 155us/step - loss: 18160368.9352 - mse: 18160370.0000 - val_loss: 11128528.4822 - val_mse: 11128528.0000\n",
            "Epoch 112/200\n",
            "4936/4936 [==============================] - 1s 151us/step - loss: 18050731.1183 - mse: 18050730.0000 - val_loss: 11225666.9407 - val_mse: 11225667.0000\n",
            "Epoch 113/200\n",
            "4936/4936 [==============================] - 1s 153us/step - loss: 18029787.2804 - mse: 18029788.0000 - val_loss: 11208431.8221 - val_mse: 11208432.0000\n",
            "Epoch 114/200\n",
            "4936/4936 [==============================] - 1s 143us/step - loss: 18027836.8460 - mse: 18027838.0000 - val_loss: 11140690.7905 - val_mse: 11140691.0000\n",
            "Epoch 115/200\n",
            "4936/4936 [==============================] - 1s 149us/step - loss: 18063054.6775 - mse: 18063052.0000 - val_loss: 10735266.9881 - val_mse: 10735267.0000\n",
            "Epoch 116/200\n",
            "4936/4936 [==============================] - 1s 153us/step - loss: 17967497.6823 - mse: 17967500.0000 - val_loss: 10725192.5138 - val_mse: 10725193.0000\n",
            "Epoch 117/200\n",
            "4936/4936 [==============================] - 1s 153us/step - loss: 17913073.6442 - mse: 17913076.0000 - val_loss: 10610111.7233 - val_mse: 10610112.0000\n",
            "Epoch 118/200\n",
            "4936/4936 [==============================] - 1s 149us/step - loss: 17944940.2431 - mse: 17944940.0000 - val_loss: 10645630.3241 - val_mse: 10645630.0000\n",
            "Epoch 119/200\n",
            "4936/4936 [==============================] - 1s 151us/step - loss: 17932759.5891 - mse: 17932760.0000 - val_loss: 10556055.1700 - val_mse: 10556055.0000\n",
            "Epoch 120/200\n",
            "4936/4936 [==============================] - 1s 155us/step - loss: 17873894.2042 - mse: 17873896.0000 - val_loss: 10149552.9960 - val_mse: 10149553.0000\n",
            "Epoch 121/200\n",
            "4936/4936 [==============================] - 1s 152us/step - loss: 17787367.0600 - mse: 17787368.0000 - val_loss: 9893062.8617 - val_mse: 9893063.0000\n",
            "Epoch 122/200\n",
            "4936/4936 [==============================] - 1s 146us/step - loss: 17884170.9044 - mse: 17884174.0000 - val_loss: 9585737.6324 - val_mse: 9585737.0000\n",
            "Epoch 123/200\n",
            "4936/4936 [==============================] - 1s 154us/step - loss: 17884425.3197 - mse: 17884422.0000 - val_loss: 10024214.0553 - val_mse: 10024213.0000\n",
            "Epoch 124/200\n",
            "4936/4936 [==============================] - 1s 149us/step - loss: 17868200.5644 - mse: 17868200.0000 - val_loss: 10179088.6877 - val_mse: 10179088.0000\n",
            "Epoch 125/200\n",
            "4936/4936 [==============================] - 1s 149us/step - loss: 17804192.3630 - mse: 17804192.0000 - val_loss: 10047590.0395 - val_mse: 10047590.0000\n",
            "Epoch 126/200\n",
            "4936/4936 [==============================] - 1s 148us/step - loss: 17835315.3938 - mse: 17835316.0000 - val_loss: 9810679.1739 - val_mse: 9810680.0000\n",
            "Epoch 127/200\n",
            "4936/4936 [==============================] - 1s 150us/step - loss: 17751445.8351 - mse: 17751446.0000 - val_loss: 10131565.9447 - val_mse: 10131565.0000\n",
            "Epoch 128/200\n",
            "4936/4936 [==============================] - 1s 152us/step - loss: 17700812.8525 - mse: 17700810.0000 - val_loss: 10160215.4783 - val_mse: 10160215.0000\n",
            "Epoch 129/200\n",
            "4936/4936 [==============================] - 1s 156us/step - loss: 17655398.8622 - mse: 17655400.0000 - val_loss: 10159763.4704 - val_mse: 10159764.0000\n",
            "Epoch 130/200\n",
            "4936/4936 [==============================] - 1s 150us/step - loss: 17685660.7002 - mse: 17685660.0000 - val_loss: 10056659.6285 - val_mse: 10056659.0000\n",
            "Epoch 131/200\n",
            "4936/4936 [==============================] - 1s 149us/step - loss: 17536597.4652 - mse: 17536600.0000 - val_loss: 9761874.2727 - val_mse: 9761874.0000\n",
            "Epoch 132/200\n",
            "4936/4936 [==============================] - 1s 150us/step - loss: 17626119.6045 - mse: 17626118.0000 - val_loss: 9828964.2925 - val_mse: 9828964.0000\n",
            "Epoch 133/200\n",
            "4936/4936 [==============================] - 1s 151us/step - loss: 17600126.7877 - mse: 17600128.0000 - val_loss: 9613786.6482 - val_mse: 9613787.0000\n",
            "Epoch 134/200\n",
            "4936/4936 [==============================] - 1s 155us/step - loss: 17483121.0859 - mse: 17483120.0000 - val_loss: 9402208.5375 - val_mse: 9402208.0000\n",
            "Epoch 135/200\n",
            "4936/4936 [==============================] - 1s 153us/step - loss: 17484147.8444 - mse: 17484146.0000 - val_loss: 9544829.8261 - val_mse: 9544829.0000\n",
            "Epoch 136/200\n",
            "4936/4936 [==============================] - 1s 162us/step - loss: 17522710.7958 - mse: 17522712.0000 - val_loss: 9539180.7154 - val_mse: 9539180.0000\n",
            "Epoch 137/200\n",
            "4936/4936 [==============================] - 1s 151us/step - loss: 17594222.3922 - mse: 17594224.0000 - val_loss: 9823633.0277 - val_mse: 9823633.0000\n",
            "Epoch 138/200\n",
            "4936/4936 [==============================] - 1s 152us/step - loss: 17474456.3274 - mse: 17474454.0000 - val_loss: 9562017.6838 - val_mse: 9562018.0000\n",
            "Epoch 139/200\n",
            "4936/4936 [==============================] - 1s 155us/step - loss: 17627785.6564 - mse: 17627790.0000 - val_loss: 9487558.8182 - val_mse: 9487559.0000\n",
            "Epoch 140/200\n",
            "4936/4936 [==============================] - 1s 154us/step - loss: 17415134.9214 - mse: 17415136.0000 - val_loss: 9199295.4704 - val_mse: 9199295.0000\n",
            "Epoch 141/200\n",
            "4936/4936 [==============================] - 1s 150us/step - loss: 17419754.7618 - mse: 17419754.0000 - val_loss: 9572731.0237 - val_mse: 9572730.0000\n",
            "Epoch 142/200\n",
            "4936/4936 [==============================] - 1s 156us/step - loss: 17346594.6295 - mse: 17346596.0000 - val_loss: 9263939.5415 - val_mse: 9263939.0000\n",
            "Epoch 143/200\n",
            "4936/4936 [==============================] - 1s 152us/step - loss: 17330053.4457 - mse: 17330056.0000 - val_loss: 9188025.4427 - val_mse: 9188025.0000\n",
            "Epoch 144/200\n",
            "4936/4936 [==============================] - 1s 153us/step - loss: 17482670.7488 - mse: 17482672.0000 - val_loss: 9366452.4387 - val_mse: 9366452.0000\n",
            "Epoch 145/200\n",
            "4936/4936 [==============================] - 1s 150us/step - loss: 17324993.3160 - mse: 17324994.0000 - val_loss: 8594931.0079 - val_mse: 8594932.0000\n",
            "Epoch 146/200\n",
            "4936/4936 [==============================] - 1s 149us/step - loss: 17375700.4263 - mse: 17375704.0000 - val_loss: 8672219.3794 - val_mse: 8672220.0000\n",
            "Epoch 147/200\n",
            "4936/4936 [==============================] - 1s 150us/step - loss: 17326295.9092 - mse: 17326296.0000 - val_loss: 9044492.8142 - val_mse: 9044492.0000\n",
            "Epoch 148/200\n",
            "4936/4936 [==============================] - 1s 143us/step - loss: 17307324.2431 - mse: 17307324.0000 - val_loss: 8945007.8577 - val_mse: 8945007.0000\n",
            "Epoch 149/200\n",
            "4936/4936 [==============================] - 1s 155us/step - loss: 17302108.8760 - mse: 17302110.0000 - val_loss: 8751700.5415 - val_mse: 8751700.0000\n",
            "Epoch 150/200\n",
            "4936/4936 [==============================] - 1s 159us/step - loss: 17209839.7958 - mse: 17209840.0000 - val_loss: 8784294.8063 - val_mse: 8784295.0000\n",
            "Epoch 151/200\n",
            "4936/4936 [==============================] - 1s 151us/step - loss: 17288127.4554 - mse: 17288124.0000 - val_loss: 8599745.5652 - val_mse: 8599746.0000\n",
            "Epoch 152/200\n",
            "4936/4936 [==============================] - 1s 150us/step - loss: 17343295.9676 - mse: 17343298.0000 - val_loss: 8941421.0514 - val_mse: 8941421.0000\n",
            "Epoch 153/200\n",
            "4936/4936 [==============================] - 1s 159us/step - loss: 17388890.9125 - mse: 17388892.0000 - val_loss: 8941356.1897 - val_mse: 8941356.0000\n",
            "Epoch 154/200\n",
            "4936/4936 [==============================] - 1s 148us/step - loss: 17275044.4959 - mse: 17275044.0000 - val_loss: 8574827.6759 - val_mse: 8574827.0000\n",
            "Epoch 155/200\n",
            "4936/4936 [==============================] - 1s 149us/step - loss: 17311350.0778 - mse: 17311354.0000 - val_loss: 8534223.4466 - val_mse: 8534223.0000\n",
            "Epoch 156/200\n",
            "4936/4936 [==============================] - 1s 145us/step - loss: 17278365.5122 - mse: 17278364.0000 - val_loss: 8552461.4783 - val_mse: 8552461.0000\n",
            "Epoch 157/200\n",
            "4936/4936 [==============================] - 1s 154us/step - loss: 17287967.8501 - mse: 17287970.0000 - val_loss: 8519140.3597 - val_mse: 8519140.0000\n",
            "Epoch 158/200\n",
            "4936/4936 [==============================] - 1s 146us/step - loss: 17155671.8120 - mse: 17155672.0000 - val_loss: 8716876.0949 - val_mse: 8716876.0000\n",
            "Epoch 159/200\n",
            "4936/4936 [==============================] - 1s 157us/step - loss: 17227000.9400 - mse: 17227002.0000 - val_loss: 8472351.9486 - val_mse: 8472351.0000\n",
            "Epoch 160/200\n",
            "4936/4936 [==============================] - 1s 146us/step - loss: 17298858.3756 - mse: 17298856.0000 - val_loss: 8126445.6324 - val_mse: 8126446.0000\n",
            "Epoch 161/200\n",
            "4936/4936 [==============================] - 1s 155us/step - loss: 17181239.3452 - mse: 17181240.0000 - val_loss: 7864660.3478 - val_mse: 7864660.5000\n",
            "Epoch 162/200\n",
            "4936/4936 [==============================] - 1s 150us/step - loss: 17210835.7796 - mse: 17210836.0000 - val_loss: 8360483.5731 - val_mse: 8360484.0000\n",
            "Epoch 163/200\n",
            "4936/4936 [==============================] - 1s 146us/step - loss: 17082559.9830 - mse: 17082558.0000 - val_loss: 8710967.0553 - val_mse: 8710968.0000\n",
            "Epoch 164/200\n",
            "4936/4936 [==============================] - 1s 154us/step - loss: 17109321.0632 - mse: 17109320.0000 - val_loss: 8634961.0870 - val_mse: 8634961.0000\n",
            "Epoch 165/200\n",
            "4936/4936 [==============================] - 1s 150us/step - loss: 17120747.6629 - mse: 17120748.0000 - val_loss: 8492873.4071 - val_mse: 8492874.0000\n",
            "Epoch 166/200\n",
            "4936/4936 [==============================] - 1s 145us/step - loss: 17199449.8655 - mse: 17199450.0000 - val_loss: 8402374.8696 - val_mse: 8402375.0000\n",
            "Epoch 167/200\n",
            "4936/4936 [==============================] - 1s 147us/step - loss: 17122500.4603 - mse: 17122500.0000 - val_loss: 8850579.1621 - val_mse: 8850579.0000\n",
            "Epoch 168/200\n",
            "4936/4936 [==============================] - 1s 154us/step - loss: 17275689.5494 - mse: 17275692.0000 - val_loss: 8731168.3636 - val_mse: 8731168.0000\n",
            "Epoch 169/200\n",
            "4936/4936 [==============================] - 1s 148us/step - loss: 17095280.3760 - mse: 17095280.0000 - val_loss: 7862190.9368 - val_mse: 7862190.5000\n",
            "Epoch 170/200\n",
            "4936/4936 [==============================] - 1s 149us/step - loss: 17108461.8282 - mse: 17108460.0000 - val_loss: 8307410.8775 - val_mse: 8307411.0000\n",
            "Epoch 171/200\n",
            "4936/4936 [==============================] - 1s 149us/step - loss: 17189289.3387 - mse: 17189288.0000 - val_loss: 8071746.8933 - val_mse: 8071747.0000\n",
            "Epoch 172/200\n",
            "4936/4936 [==============================] - 1s 151us/step - loss: 17012014.5608 - mse: 17012012.0000 - val_loss: 7957344.9921 - val_mse: 7957345.0000\n",
            "Epoch 173/200\n",
            "4936/4936 [==============================] - 1s 153us/step - loss: 16968459.4943 - mse: 16968458.0000 - val_loss: 8075543.7273 - val_mse: 8075544.0000\n",
            "Epoch 174/200\n",
            "4936/4936 [==============================] - 1s 158us/step - loss: 16972047.1929 - mse: 16972048.0000 - val_loss: 8136587.7530 - val_mse: 8136587.5000\n",
            "Epoch 175/200\n",
            "4936/4936 [==============================] - 1s 154us/step - loss: 16989347.3744 - mse: 16989346.0000 - val_loss: 8565081.4466 - val_mse: 8565082.0000\n",
            "Epoch 176/200\n",
            "4936/4936 [==============================] - 1s 159us/step - loss: 17037768.8606 - mse: 17037770.0000 - val_loss: 8842710.4881 - val_mse: 8842711.0000\n",
            "Epoch 177/200\n",
            "4936/4936 [==============================] - 1s 149us/step - loss: 17096034.2107 - mse: 17096032.0000 - val_loss: 8691189.9447 - val_mse: 8691190.0000\n",
            "Epoch 178/200\n",
            "4936/4936 [==============================] - 1s 147us/step - loss: 17055960.2966 - mse: 17055960.0000 - val_loss: 8511342.8933 - val_mse: 8511343.0000\n",
            "Epoch 179/200\n",
            "4936/4936 [==============================] - 1s 152us/step - loss: 16874415.1378 - mse: 16874414.0000 - val_loss: 8251965.9190 - val_mse: 8251965.5000\n",
            "Epoch 180/200\n",
            "4936/4936 [==============================] - 1s 150us/step - loss: 17036955.5316 - mse: 17036956.0000 - val_loss: 8093062.0553 - val_mse: 8093062.0000\n",
            "Epoch 181/200\n",
            "4936/4936 [==============================] - 1s 153us/step - loss: 17142467.3566 - mse: 17142468.0000 - val_loss: 7886235.6146 - val_mse: 7886236.0000\n",
            "Epoch 182/200\n",
            "4936/4936 [==============================] - 1s 152us/step - loss: 17060955.5008 - mse: 17060960.0000 - val_loss: 8232834.2846 - val_mse: 8232834.5000\n",
            "Epoch 183/200\n",
            "4936/4936 [==============================] - 1s 159us/step - loss: 17048526.2301 - mse: 17048528.0000 - val_loss: 7945902.4763 - val_mse: 7945902.5000\n",
            "Epoch 184/200\n",
            "4936/4936 [==============================] - 1s 145us/step - loss: 17029407.7318 - mse: 17029408.0000 - val_loss: 7630859.7589 - val_mse: 7630860.0000\n",
            "Epoch 185/200\n",
            "4936/4936 [==============================] - 1s 156us/step - loss: 16946903.2407 - mse: 16946906.0000 - val_loss: 7936869.5830 - val_mse: 7936869.0000\n",
            "Epoch 186/200\n",
            "4936/4936 [==============================] - 1s 145us/step - loss: 17026704.9271 - mse: 17026704.0000 - val_loss: 7900198.5593 - val_mse: 7900199.0000\n",
            "Epoch 187/200\n",
            "4936/4936 [==============================] - 1s 149us/step - loss: 17159127.6442 - mse: 17159124.0000 - val_loss: 7942739.0316 - val_mse: 7942739.0000\n",
            "Epoch 188/200\n",
            "4936/4936 [==============================] - 1s 149us/step - loss: 16987981.1507 - mse: 16987980.0000 - val_loss: 7701852.0909 - val_mse: 7701852.0000\n",
            "Epoch 189/200\n",
            "4936/4936 [==============================] - 1s 147us/step - loss: 16971467.0332 - mse: 16971468.0000 - val_loss: 7871707.5810 - val_mse: 7871707.5000\n",
            "Epoch 190/200\n",
            "4936/4936 [==============================] - 1s 153us/step - loss: 16691002.8169 - mse: 16691003.0000 - val_loss: 7766338.2530 - val_mse: 7766338.5000\n",
            "Epoch 191/200\n",
            "4936/4936 [==============================] - 1s 152us/step - loss: 17085606.6191 - mse: 17085604.0000 - val_loss: 8027348.8893 - val_mse: 8027348.5000\n",
            "Epoch 192/200\n",
            "4936/4936 [==============================] - 1s 147us/step - loss: 16868919.2901 - mse: 16868920.0000 - val_loss: 8239420.9368 - val_mse: 8239420.5000\n",
            "Epoch 193/200\n",
            "4936/4936 [==============================] - 1s 152us/step - loss: 17032398.9352 - mse: 17032402.0000 - val_loss: 7565622.8043 - val_mse: 7565623.0000\n",
            "Epoch 194/200\n",
            "4936/4936 [==============================] - 1s 149us/step - loss: 16978680.2042 - mse: 16978680.0000 - val_loss: 7546578.1146 - val_mse: 7546578.0000\n",
            "Epoch 195/200\n",
            "4936/4936 [==============================] - 1s 149us/step - loss: 16829156.1167 - mse: 16829158.0000 - val_loss: 7280932.0079 - val_mse: 7280932.0000\n",
            "Epoch 196/200\n",
            "4936/4936 [==============================] - 1s 152us/step - loss: 16785864.0616 - mse: 16785862.0000 - val_loss: 7151932.0968 - val_mse: 7151932.0000\n",
            "Epoch 197/200\n",
            "4936/4936 [==============================] - 1s 155us/step - loss: 16970250.2285 - mse: 16970250.0000 - val_loss: 7282102.9486 - val_mse: 7282103.0000\n",
            "Epoch 198/200\n",
            "4936/4936 [==============================] - 1s 151us/step - loss: 16880254.9887 - mse: 16880254.0000 - val_loss: 7175534.1858 - val_mse: 7175534.5000\n",
            "Epoch 199/200\n",
            "4936/4936 [==============================] - 1s 153us/step - loss: 16857725.0049 - mse: 16857726.0000 - val_loss: 7487859.2431 - val_mse: 7487859.5000\n",
            "Epoch 200/200\n",
            "4936/4936 [==============================] - 1s 145us/step - loss: 16951863.8995 - mse: 16951864.0000 - val_loss: 7511569.9012 - val_mse: 7511569.5000\n"
          ],
          "name": "stdout"
        }
      ]
    },
    {
      "cell_type": "code",
      "metadata": {
        "id": "7cqRDRmQX-w1",
        "colab_type": "code",
        "colab": {
          "base_uri": "https://localhost:8080/",
          "height": 573
        },
        "outputId": "d234d490-ba82-4f3f-8b11-8f1ec103a1e3"
      },
      "source": [
        "plt.plot(hist1.history['loss'])\n",
        "plt.plot(hist1.history['val_loss'])\n",
        "plt.title('Model loss')\n",
        "plt.ylabel('Loss')\n",
        "plt.xlabel('Epoch')\n",
        "plt.legend(['Train', 'Test'], loc='upper left')\n",
        "plt.show()\n",
        "#Plot both the training accuracy as well as the validation accuracy on the same plot\n",
        "plt.plot(hist1.history['mse'])\n",
        "plt.plot(hist1.history['val_mse'])\n",
        "plt.title('mse')\n",
        "plt.ylabel('mse')\n",
        "plt.xlabel('Epoch')\n",
        "\n",
        "plt.legend(['Train', 'Test'], loc='upper left')\n",
        "plt.show()"
      ],
      "execution_count": null,
      "outputs": [
        {
          "output_type": "display_data",
          "data": {
            "image/png": "[encoded data removed]",
            "text/plain": [
              "<Figure size 432x288 with 1 Axes>"
            ]
          },
          "metadata": {
            "tags": [],
            "needs_background": "light"
          }
        },
        {
          "output_type": "display_data",
          "data": {
            "image/png": "[encoded data removed]",
            "text/plain": [
              "<Figure size 432x288 with 1 Axes>"
            ]
          },
          "metadata": {
            "tags": [],
            "needs_background": "light"
          }
        }
      ]
    },
    {
      "cell_type": "code",
      "metadata": {
        "id": "_5gqdhNcNNCR",
        "colab_type": "code",
        "colab": {
          "base_uri": "https://localhost:8080/",
          "height": 1000
        },
        "outputId": "7c5c41f6-0d97-4bda-ec7e-b75b8ae36de8"
      },
      "source": [
        "from keras.optimizers import Adam, SGD\n",
        "model_pak = building_model(look_back_world,pak_num_features)\n",
        "\n",
        "# transfering weights from world model to pak model\n",
        "weights = model_world.get_weights()\n",
        "model_pak.set_weights(weights)\n",
        "\n",
        "Adam = Adam(lr = 0.01)\n",
        "model_pak.compile(optimizer = Adam, loss = 'mse', metrics = ['mse'])\n",
        "\n",
        "hist2 = model_pak.fit(pak_X_train_reshaped,pak_y_train_reshaped, epochs = 100, batch_size = 32, validation_data =(pak_X_test_reshaped,pak_y_test_reshaped))"
      ],
      "execution_count": null,
      "outputs": [
        {
          "output_type": "stream",
          "text": [
            "Train on 82 samples, validate on 27 samples\n",
            "Epoch 1/100\n",
            "82/82 [==============================] - 1s 17ms/step - loss: 856296.9985 - mse: 856297.0000 - val_loss: 2172283.2500 - val_mse: 2172283.2500\n",
            "Epoch 2/100\n",
            "82/82 [==============================] - 0s 767us/step - loss: 891798.5884 - mse: 891798.6250 - val_loss: 1801589.6250 - val_mse: 1801589.6250\n",
            "Epoch 3/100\n",
            "82/82 [==============================] - 0s 669us/step - loss: 772959.1738 - mse: 772959.1875 - val_loss: 6690631.0000 - val_mse: 6690631.0000\n",
            "Epoch 4/100\n",
            "82/82 [==============================] - 0s 743us/step - loss: 658341.2630 - mse: 658341.2500 - val_loss: 10199301.0000 - val_mse: 10199301.0000\n",
            "Epoch 5/100\n",
            "82/82 [==============================] - 0s 774us/step - loss: 656878.2721 - mse: 656878.3125 - val_loss: 11259330.0000 - val_mse: 11259330.0000\n",
            "Epoch 6/100\n",
            "82/82 [==============================] - 0s 819us/step - loss: 588316.5091 - mse: 588316.5625 - val_loss: 11761510.0000 - val_mse: 11761510.0000\n",
            "Epoch 7/100\n",
            "82/82 [==============================] - 0s 768us/step - loss: 539021.0210 - mse: 539021.0000 - val_loss: 12562859.0000 - val_mse: 12562859.0000\n",
            "Epoch 8/100\n",
            "82/82 [==============================] - 0s 718us/step - loss: 649181.8902 - mse: 649181.8750 - val_loss: 13880119.0000 - val_mse: 13880119.0000\n",
            "Epoch 9/100\n",
            "82/82 [==============================] - 0s 770us/step - loss: 443285.4146 - mse: 443285.4062 - val_loss: 13907303.0000 - val_mse: 13907303.0000\n",
            "Epoch 10/100\n",
            "82/82 [==============================] - 0s 823us/step - loss: 415363.0587 - mse: 415363.0625 - val_loss: 14606839.0000 - val_mse: 14606839.0000\n",
            "Epoch 11/100\n",
            "82/82 [==============================] - 0s 902us/step - loss: 532746.4085 - mse: 532746.4375 - val_loss: 16357167.0000 - val_mse: 16357167.0000\n",
            "Epoch 12/100\n",
            "82/82 [==============================] - 0s 807us/step - loss: 381436.7370 - mse: 381436.7188 - val_loss: 18040598.0000 - val_mse: 18040598.0000\n",
            "Epoch 13/100\n",
            "82/82 [==============================] - 0s 820us/step - loss: 387121.4207 - mse: 387121.4062 - val_loss: 17645368.0000 - val_mse: 17645368.0000\n",
            "Epoch 14/100\n",
            "82/82 [==============================] - 0s 830us/step - loss: 371926.3826 - mse: 371926.3750 - val_loss: 16404614.0000 - val_mse: 16404614.0000\n",
            "Epoch 15/100\n",
            "82/82 [==============================] - 0s 726us/step - loss: 426040.4390 - mse: 426040.4375 - val_loss: 13775810.0000 - val_mse: 13775810.0000\n",
            "Epoch 16/100\n",
            "82/82 [==============================] - 0s 710us/step - loss: 394767.7591 - mse: 394767.7500 - val_loss: 11574694.0000 - val_mse: 11574694.0000\n",
            "Epoch 17/100\n",
            "82/82 [==============================] - 0s 716us/step - loss: 348240.1814 - mse: 348240.1562 - val_loss: 10085640.0000 - val_mse: 10085640.0000\n",
            "Epoch 18/100\n",
            "82/82 [==============================] - 0s 782us/step - loss: 387824.3628 - mse: 387824.3750 - val_loss: 11037914.0000 - val_mse: 11037914.0000\n",
            "Epoch 19/100\n",
            "82/82 [==============================] - 0s 1ms/step - loss: 353130.9337 - mse: 353130.9375 - val_loss: 12080303.0000 - val_mse: 12080303.0000\n",
            "Epoch 20/100\n",
            "82/82 [==============================] - 0s 772us/step - loss: 344629.7119 - mse: 344629.7188 - val_loss: 11795608.0000 - val_mse: 11795608.0000\n",
            "Epoch 21/100\n",
            "82/82 [==============================] - 0s 796us/step - loss: 380742.8971 - mse: 380742.9062 - val_loss: 12840109.0000 - val_mse: 12840109.0000\n",
            "Epoch 22/100\n",
            "82/82 [==============================] - 0s 744us/step - loss: 430267.7248 - mse: 430267.7188 - val_loss: 10837271.0000 - val_mse: 10837271.0000\n",
            "Epoch 23/100\n",
            "82/82 [==============================] - 0s 816us/step - loss: 377080.5152 - mse: 377080.5000 - val_loss: 9228098.0000 - val_mse: 9228098.0000\n",
            "Epoch 24/100\n",
            "82/82 [==============================] - 0s 874us/step - loss: 318626.6395 - mse: 318626.6250 - val_loss: 7821488.5000 - val_mse: 7821488.5000\n",
            "Epoch 25/100\n",
            "82/82 [==============================] - 0s 793us/step - loss: 367476.3277 - mse: 367476.3438 - val_loss: 5940457.5000 - val_mse: 5940457.5000\n",
            "Epoch 26/100\n",
            "82/82 [==============================] - 0s 825us/step - loss: 371884.7302 - mse: 371884.7188 - val_loss: 4229522.5000 - val_mse: 4229522.5000\n",
            "Epoch 27/100\n",
            "82/82 [==============================] - 0s 697us/step - loss: 276385.4634 - mse: 276385.4688 - val_loss: 3911201.7500 - val_mse: 3911201.7500\n",
            "Epoch 28/100\n",
            "82/82 [==============================] - 0s 992us/step - loss: 372600.8979 - mse: 372600.9062 - val_loss: 4373305.0000 - val_mse: 4373305.0000\n",
            "Epoch 29/100\n",
            "82/82 [==============================] - 0s 930us/step - loss: 359984.1570 - mse: 359984.1562 - val_loss: 4059059.2500 - val_mse: 4059059.2500\n",
            "Epoch 30/100\n",
            "82/82 [==============================] - 0s 773us/step - loss: 288375.7027 - mse: 288375.7188 - val_loss: 4289515.0000 - val_mse: 4289515.0000\n",
            "Epoch 31/100\n",
            "82/82 [==============================] - 0s 779us/step - loss: 267995.0499 - mse: 267995.0625 - val_loss: 4193907.5000 - val_mse: 4193907.5000\n",
            "Epoch 32/100\n",
            "82/82 [==============================] - 0s 729us/step - loss: 222193.1341 - mse: 222193.1250 - val_loss: 4422383.0000 - val_mse: 4422383.0000\n",
            "Epoch 33/100\n",
            "82/82 [==============================] - 0s 874us/step - loss: 257869.5259 - mse: 257869.5156 - val_loss: 4572348.0000 - val_mse: 4572348.0000\n",
            "Epoch 34/100\n",
            "82/82 [==============================] - 0s 855us/step - loss: 224467.9787 - mse: 224467.9688 - val_loss: 4981331.5000 - val_mse: 4981331.5000\n",
            "Epoch 35/100\n",
            "82/82 [==============================] - 0s 744us/step - loss: 224219.2504 - mse: 224219.2500 - val_loss: 5849404.0000 - val_mse: 5849404.0000\n",
            "Epoch 36/100\n",
            "82/82 [==============================] - 0s 723us/step - loss: 248792.8979 - mse: 248792.8750 - val_loss: 7236423.0000 - val_mse: 7236423.0000\n",
            "Epoch 37/100\n",
            "82/82 [==============================] - 0s 841us/step - loss: 234265.3575 - mse: 234265.3594 - val_loss: 4568361.0000 - val_mse: 4568361.0000\n",
            "Epoch 38/100\n",
            "82/82 [==============================] - 0s 716us/step - loss: 243149.4318 - mse: 243149.4375 - val_loss: 3818341.0000 - val_mse: 3818341.0000\n",
            "Epoch 39/100\n",
            "82/82 [==============================] - 0s 851us/step - loss: 245828.6540 - mse: 245828.6562 - val_loss: 3430569.0000 - val_mse: 3430569.0000\n",
            "Epoch 40/100\n",
            "82/82 [==============================] - 0s 713us/step - loss: 225759.6269 - mse: 225759.6406 - val_loss: 3328334.2500 - val_mse: 3328334.2500\n",
            "Epoch 41/100\n",
            "82/82 [==============================] - 0s 879us/step - loss: 176963.6383 - mse: 176963.6406 - val_loss: 3322075.5000 - val_mse: 3322075.5000\n",
            "Epoch 42/100\n",
            "82/82 [==============================] - 0s 825us/step - loss: 220357.2877 - mse: 220357.2969 - val_loss: 3178878.7500 - val_mse: 3178878.7500\n",
            "Epoch 43/100\n",
            "82/82 [==============================] - 0s 886us/step - loss: 219976.4223 - mse: 219976.4375 - val_loss: 3322720.0000 - val_mse: 3322720.0000\n",
            "Epoch 44/100\n",
            "82/82 [==============================] - 0s 782us/step - loss: 267878.4447 - mse: 267878.4688 - val_loss: 3034574.5000 - val_mse: 3034574.5000\n",
            "Epoch 45/100\n",
            "82/82 [==============================] - 0s 792us/step - loss: 200686.4337 - mse: 200686.4375 - val_loss: 2999591.7500 - val_mse: 2999591.7500\n",
            "Epoch 46/100\n",
            "82/82 [==============================] - 0s 785us/step - loss: 196138.1536 - mse: 196138.1406 - val_loss: 3115078.2500 - val_mse: 3115078.2500\n",
            "Epoch 47/100\n",
            "82/82 [==============================] - 0s 802us/step - loss: 191389.8769 - mse: 191389.8750 - val_loss: 2876602.0000 - val_mse: 2876602.0000\n",
            "Epoch 48/100\n",
            "82/82 [==============================] - 0s 793us/step - loss: 271972.1803 - mse: 271972.1562 - val_loss: 2546388.2500 - val_mse: 2546388.2500\n",
            "Epoch 49/100\n",
            "82/82 [==============================] - 0s 694us/step - loss: 238737.9543 - mse: 238737.9531 - val_loss: 2379605.5000 - val_mse: 2379605.5000\n",
            "Epoch 50/100\n",
            "82/82 [==============================] - 0s 720us/step - loss: 214986.0587 - mse: 214986.0469 - val_loss: 2276014.0000 - val_mse: 2276014.0000\n",
            "Epoch 51/100\n",
            "82/82 [==============================] - 0s 787us/step - loss: 196223.3201 - mse: 196223.3281 - val_loss: 2165930.0000 - val_mse: 2165930.0000\n",
            "Epoch 52/100\n",
            "82/82 [==============================] - 0s 806us/step - loss: 168959.3064 - mse: 168959.3125 - val_loss: 2207754.2500 - val_mse: 2207754.2500\n",
            "Epoch 53/100\n",
            "82/82 [==============================] - 0s 758us/step - loss: 179174.1555 - mse: 179174.1562 - val_loss: 2210282.2500 - val_mse: 2210282.2500\n",
            "Epoch 54/100\n",
            "82/82 [==============================] - 0s 748us/step - loss: 169559.1974 - mse: 169559.1875 - val_loss: 2146980.7500 - val_mse: 2146980.7500\n",
            "Epoch 55/100\n",
            "82/82 [==============================] - 0s 801us/step - loss: 170852.3224 - mse: 170852.3125 - val_loss: 2437672.2500 - val_mse: 2437672.2500\n",
            "Epoch 56/100\n",
            "82/82 [==============================] - 0s 922us/step - loss: 159549.6776 - mse: 159549.6875 - val_loss: 2900947.7500 - val_mse: 2900947.7500\n",
            "Epoch 57/100\n",
            "82/82 [==============================] - 0s 753us/step - loss: 201137.5480 - mse: 201137.5469 - val_loss: 3217739.0000 - val_mse: 3217739.0000\n",
            "Epoch 58/100\n",
            "82/82 [==============================] - 0s 829us/step - loss: 149243.6959 - mse: 149243.6875 - val_loss: 3386563.0000 - val_mse: 3386563.0000\n",
            "Epoch 59/100\n",
            "82/82 [==============================] - 0s 912us/step - loss: 191142.8087 - mse: 191142.8125 - val_loss: 3735823.0000 - val_mse: 3735823.0000\n",
            "Epoch 60/100\n",
            "82/82 [==============================] - 0s 788us/step - loss: 159988.7553 - mse: 159988.7500 - val_loss: 3975723.5000 - val_mse: 3975723.5000\n",
            "Epoch 61/100\n",
            "82/82 [==============================] - 0s 862us/step - loss: 192267.9215 - mse: 192267.9219 - val_loss: 4393929.0000 - val_mse: 4393929.0000\n",
            "Epoch 62/100\n",
            "82/82 [==============================] - 0s 862us/step - loss: 161316.7717 - mse: 161316.7656 - val_loss: 5141667.5000 - val_mse: 5141667.5000\n",
            "Epoch 63/100\n",
            "82/82 [==============================] - 0s 773us/step - loss: 185036.5766 - mse: 185036.5781 - val_loss: 6320500.0000 - val_mse: 6320500.0000\n",
            "Epoch 64/100\n",
            "82/82 [==============================] - 0s 742us/step - loss: 152824.0793 - mse: 152824.0781 - val_loss: 7492903.0000 - val_mse: 7492903.0000\n",
            "Epoch 65/100\n",
            "82/82 [==============================] - 0s 760us/step - loss: 141504.8068 - mse: 141504.8125 - val_loss: 7990091.5000 - val_mse: 7990091.5000\n",
            "Epoch 66/100\n",
            "82/82 [==============================] - 0s 735us/step - loss: 151890.4457 - mse: 151890.4375 - val_loss: 8343955.5000 - val_mse: 8343955.5000\n",
            "Epoch 67/100\n",
            "82/82 [==============================] - 0s 791us/step - loss: 126881.1290 - mse: 126881.1328 - val_loss: 8363586.5000 - val_mse: 8363586.5000\n",
            "Epoch 68/100\n",
            "82/82 [==============================] - 0s 789us/step - loss: 214216.5099 - mse: 214216.5156 - val_loss: 8411137.0000 - val_mse: 8411137.0000\n",
            "Epoch 69/100\n",
            "82/82 [==============================] - 0s 835us/step - loss: 156760.6837 - mse: 156760.6875 - val_loss: 8776543.0000 - val_mse: 8776543.0000\n",
            "Epoch 70/100\n",
            "82/82 [==============================] - 0s 842us/step - loss: 175173.6656 - mse: 175173.6719 - val_loss: 8571574.0000 - val_mse: 8571574.0000\n",
            "Epoch 71/100\n",
            "82/82 [==============================] - 0s 791us/step - loss: 191377.0339 - mse: 191377.0312 - val_loss: 8206892.0000 - val_mse: 8206892.0000\n",
            "Epoch 72/100\n",
            "82/82 [==============================] - 0s 880us/step - loss: 138474.2180 - mse: 138474.2188 - val_loss: 7449307.5000 - val_mse: 7449307.5000\n",
            "Epoch 73/100\n",
            "82/82 [==============================] - 0s 920us/step - loss: 159654.8167 - mse: 159654.8125 - val_loss: 6808146.5000 - val_mse: 6808146.5000\n",
            "Epoch 74/100\n",
            "82/82 [==============================] - 0s 761us/step - loss: 157255.8853 - mse: 157255.8906 - val_loss: 6275263.0000 - val_mse: 6275263.0000\n",
            "Epoch 75/100\n",
            "82/82 [==============================] - 0s 771us/step - loss: 271841.3689 - mse: 271841.3750 - val_loss: 6345200.5000 - val_mse: 6345200.5000\n",
            "Epoch 76/100\n",
            "82/82 [==============================] - 0s 772us/step - loss: 151404.4272 - mse: 151404.4219 - val_loss: 6308778.0000 - val_mse: 6308778.0000\n",
            "Epoch 77/100\n",
            "82/82 [==============================] - 0s 757us/step - loss: 125795.5370 - mse: 125795.5391 - val_loss: 6023919.5000 - val_mse: 6023919.5000\n",
            "Epoch 78/100\n",
            "82/82 [==============================] - 0s 860us/step - loss: 190517.6791 - mse: 190517.6875 - val_loss: 5850258.0000 - val_mse: 5850258.0000\n",
            "Epoch 79/100\n",
            "82/82 [==============================] - 0s 728us/step - loss: 105341.0253 - mse: 105341.0234 - val_loss: 6391063.5000 - val_mse: 6391063.5000\n",
            "Epoch 80/100\n",
            "82/82 [==============================] - 0s 853us/step - loss: 133612.8034 - mse: 133612.8125 - val_loss: 6729998.0000 - val_mse: 6729998.0000\n",
            "Epoch 81/100\n",
            "82/82 [==============================] - 0s 907us/step - loss: 164727.0831 - mse: 164727.0781 - val_loss: 6973727.0000 - val_mse: 6973727.0000\n",
            "Epoch 82/100\n",
            "82/82 [==============================] - 0s 765us/step - loss: 150173.1475 - mse: 150173.1406 - val_loss: 6901101.0000 - val_mse: 6901101.0000\n",
            "Epoch 83/100\n",
            "82/82 [==============================] - 0s 710us/step - loss: 130344.5816 - mse: 130344.5859 - val_loss: 6760046.0000 - val_mse: 6760046.0000\n",
            "Epoch 84/100\n",
            "82/82 [==============================] - 0s 752us/step - loss: 143133.3537 - mse: 143133.3438 - val_loss: 6575980.5000 - val_mse: 6575980.5000\n",
            "Epoch 85/100\n",
            "82/82 [==============================] - 0s 898us/step - loss: 104427.2955 - mse: 104427.2891 - val_loss: 6376167.0000 - val_mse: 6376167.0000\n",
            "Epoch 86/100\n",
            "82/82 [==============================] - 0s 764us/step - loss: 138786.8072 - mse: 138786.8125 - val_loss: 6529218.5000 - val_mse: 6529218.5000\n",
            "Epoch 87/100\n",
            "82/82 [==============================] - 0s 883us/step - loss: 125159.5884 - mse: 125159.5859 - val_loss: 6585620.0000 - val_mse: 6585620.0000\n",
            "Epoch 88/100\n",
            "82/82 [==============================] - 0s 801us/step - loss: 126565.2530 - mse: 126565.2578 - val_loss: 6055667.0000 - val_mse: 6055667.0000\n",
            "Epoch 89/100\n",
            "82/82 [==============================] - 0s 780us/step - loss: 126709.1526 - mse: 126709.1484 - val_loss: 4957952.5000 - val_mse: 4957952.5000\n",
            "Epoch 90/100\n",
            "82/82 [==============================] - 0s 757us/step - loss: 151715.6528 - mse: 151715.6562 - val_loss: 4097601.2500 - val_mse: 4097601.2500\n",
            "Epoch 91/100\n",
            "82/82 [==============================] - 0s 791us/step - loss: 129084.8415 - mse: 129084.8438 - val_loss: 3714003.0000 - val_mse: 3714003.0000\n",
            "Epoch 92/100\n",
            "82/82 [==============================] - 0s 953us/step - loss: 124384.5816 - mse: 124384.5703 - val_loss: 3633258.0000 - val_mse: 3633258.0000\n",
            "Epoch 93/100\n",
            "82/82 [==============================] - 0s 813us/step - loss: 103179.6829 - mse: 103179.6797 - val_loss: 3540461.0000 - val_mse: 3540461.0000\n",
            "Epoch 94/100\n",
            "82/82 [==============================] - 0s 779us/step - loss: 155770.1913 - mse: 155770.1875 - val_loss: 3517770.0000 - val_mse: 3517770.0000\n",
            "Epoch 95/100\n",
            "82/82 [==============================] - 0s 710us/step - loss: 134015.8327 - mse: 134015.8281 - val_loss: 3777069.7500 - val_mse: 3777069.7500\n",
            "Epoch 96/100\n",
            "82/82 [==============================] - 0s 856us/step - loss: 113918.6517 - mse: 113918.6562 - val_loss: 3901733.2500 - val_mse: 3901733.2500\n",
            "Epoch 97/100\n",
            "82/82 [==============================] - 0s 813us/step - loss: 125885.8445 - mse: 125885.8516 - val_loss: 3841867.7500 - val_mse: 3841867.7500\n",
            "Epoch 98/100\n",
            "82/82 [==============================] - 0s 924us/step - loss: 145729.8590 - mse: 145729.8594 - val_loss: 3932567.7500 - val_mse: 3932567.7500\n",
            "Epoch 99/100\n",
            "82/82 [==============================] - 0s 804us/step - loss: 107911.5118 - mse: 107911.5156 - val_loss: 4147302.5000 - val_mse: 4147302.5000\n",
            "Epoch 100/100\n",
            "82/82 [==============================] - 0s 791us/step - loss: 194083.2561 - mse: 194083.2500 - val_loss: 4327760.0000 - val_mse: 4327760.0000\n"
          ],
          "name": "stdout"
        }
      ]
    },
    {
      "cell_type": "code",
      "metadata": {
        "id": "d4OLC5UQEMJC",
        "colab_type": "code",
        "colab": {
          "base_uri": "https://localhost:8080/",
          "height": 573
        },
        "outputId": "42d4b1c9-8610-4a19-c4dc-07a1d1d0f457"
      },
      "source": [
        "plt.plot(hist2.history['loss'])\n",
        "plt.plot(hist2.history['val_loss'])\n",
        "plt.title('Model loss')\n",
        "plt.ylabel('Loss')\n",
        "plt.xlabel('Epoch')\n",
        "plt.legend(['Train', 'Test'], loc='upper left')\n",
        "plt.show()\n",
        "#Plot both the training accuracy as well as the validation accuracy on the same plot\n",
        "plt.plot(hist2.history['mse'])\n",
        "plt.plot(hist2.history['val_mse'])\n",
        "plt.title('mse')\n",
        "plt.ylabel('mse')\n",
        "plt.xlabel('Epoch')\n",
        "plt.legend(['Train', 'Test'], loc='upper left')\n",
        "plt.show()"
      ],
      "execution_count": null,
      "outputs": [
        {
          "output_type": "display_data",
          "data": {
            "image/png": "[encoded data removed]",
            "text/plain": [
              "<Figure size 432x288 with 1 Axes>"
            ]
          },
          "metadata": {
            "tags": [],
            "needs_background": "light"
          }
        },
        {
          "output_type": "display_data",
          "data": {
            "image/png": "[encoded data removed]",
            "text/plain": [
              "<Figure size 432x288 with 1 Axes>"
            ]
          },
          "metadata": {
            "tags": [],
            "needs_background": "light"
          }
        }
      ]
    },
    {
      "cell_type": "code",
      "metadata": {
        "id": "XhZ60XEe5qKm",
        "colab_type": "code",
        "colab": {
          "base_uri": "https://localhost:8080/",
          "height": 51
        },
        "outputId": "e7aad5fe-69bf-4c87-d7d0-bcfe1a8e5a62"
      },
      "source": [
        "import math\n",
        "y_pred = model_pak.predict(pak_X_test_reshaped)\n",
        "# pak_y_test_reshaped_0 = np.reshape(pak_y_test_reshaped,(y_pred.shape[0],1))\n",
        "print(y_pred.shape,pak_y_test_reshaped.shape)\n",
        "\n",
        "from sklearn.metrics import mean_squared_error\n",
        "print(math.sqrt(mean_squared_error(pak_y_test_reshaped,y_pred)))\n",
        "#print(y_pred, pak_y_test_reshaped)"
      ],
      "execution_count": null,
      "outputs": [
        {
          "output_type": "stream",
          "text": [
            "(27, 1) (27,)\n",
            "2080.326853273822\n"
          ],
          "name": "stdout"
        }
      ]
    },
    {
      "cell_type": "markdown",
      "metadata": {
        "id": "F14XaBcVU51r",
        "colab_type": "text"
      },
      "source": [
        "### Graph"
      ]
    },
    {
      "cell_type": "code",
      "metadata": {
        "id": "MU3SHWREU2VA",
        "colab_type": "code",
        "colab": {
          "base_uri": "https://localhost:8080/",
          "height": 34
        },
        "outputId": "19c6e215-1c85-4708-94c2-43f0df565829"
      },
      "source": [
        "X= df.copy(deep=True)\n",
        "pak_dates = X[X['Pakistan']==1][split_index:]['date']\n",
        "len(pak_dates[1:])"
      ],
      "execution_count": null,
      "outputs": [
        {
          "output_type": "execute_result",
          "data": {
            "text/plain": [
              "27"
            ]
          },
          "metadata": {
            "tags": []
          },
          "execution_count": 43
        }
      ]
    },
    {
      "cell_type": "code",
      "metadata": {
        "id": "mQ7RWufaSu5S",
        "colab_type": "code",
        "colab": {
          "base_uri": "https://localhost:8080/",
          "height": 602
        },
        "outputId": "78e7acae-58b7-41db-89e1-4a17f3bc9013"
      },
      "source": [
        "X = df.copy(deep = True)\n",
        "X = X.drop([\"location\"], axis = 1)\n",
        "t = df[(df[\"Pakistan\"] == 1)][\"number_of_days\"]\n",
        "\n",
        "test_set = X[(X[\"Pakistan\"] == 1) & (X[\"number_of_days\"] >= max(t) -10)]\n",
        "\n",
        "#print(test_set [\"date\"][1:].shape)\n",
        "#Plotting the target: Total cases\n",
        "\n",
        "plt.figure(figsize=(20,10))\n",
        "\n",
        "plt.plot(pak_dates[1:], pak_y_test_reshaped, '.', color='red', label='Original data', alpha=0.8, markersize=15)\n",
        "plt.plot(pak_dates[1:], y_pred, '.', color='blue', label='Original data', alpha=0.8, markersize=15)\n",
        "plt.legend([\"test data\",'predicted data'])\n",
        "plt.xlabel('Datetime [-]', fontsize=20)\n",
        "plt.ylabel(r'new cases', fontsize=20)\n",
        "\n",
        "plt.xticks(fontsize=20, rotation=45)\n",
        "plt.yticks(fontsize=20)\n",
        "\n",
        "plt.title('Total Covid patients till today', fontsize=28)\n",
        "\n",
        "plt.tight_layout()\n"
      ],
      "execution_count": null,
      "outputs": [
        {
          "output_type": "display_data",
          "data": {
            "image/png": "[encoded data removed]",
            "text/plain": [
              "<Figure size 1440x720 with 1 Axes>"
            ]
          },
          "metadata": {
            "tags": [],
            "needs_background": "light"
          }
        }
      ]
    }
  ]
}